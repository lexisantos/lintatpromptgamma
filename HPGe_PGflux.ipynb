{
  "nbformat": 4,
  "nbformat_minor": 0,
  "metadata": {
    "colab": {
      "provenance": [],
      "toc_visible": true,
      "authorship_tag": "ABX9TyO1tsU69DsddbRoJnPIgWDb",
      "include_colab_link": true
    },
    "kernelspec": {
      "name": "python3",
      "display_name": "Python 3"
    },
    "language_info": {
      "name": "python"
    }
  },
  "cells": [
    {
      "cell_type": "markdown",
      "metadata": {
        "id": "view-in-github",
        "colab_type": "text"
      },
      "source": [
        "<a href=\"https://colab.research.google.com/github/lexisantos/lintatpromptgamma/blob/main/HPGe_PGflux.ipynb\" target=\"_parent\"><img src=\"https://colab.research.google.com/assets/colab-badge.svg\" alt=\"Open In Colab\"/></a>"
      ]
    },
    {
      "cell_type": "code",
      "execution_count": null,
      "metadata": {
        "colab": {
          "base_uri": "https://localhost:8080/"
        },
        "id": "E2-ic3kCcJpQ",
        "outputId": "0e118faa-a1fe-403f-aad6-6d6a8fb0042e"
      },
      "outputs": [
        {
          "output_type": "stream",
          "name": "stdout",
          "text": [
            "Drive already mounted at /content/drive; to attempt to forcibly remount, call drive.mount(\"/content/drive\", force_remount=True).\n"
          ]
        }
      ],
      "source": [
        "from google.colab import drive\n",
        "drive.mount('/content/drive')\n",
        "\n",
        "import sys\n",
        "sys.path.append('/content/drive/MyDrive/Colab Notebooks/ProyectoLINTatPromptGamma/')"
      ]
    },
    {
      "cell_type": "code",
      "source": [
        "import Activacion as act\n",
        "import numpy as np\n",
        "from datetime import datetime\n",
        "import matplotlib.pyplot as plt"
      ],
      "metadata": {
        "id": "2nz2nFExcOah"
      },
      "execution_count": null,
      "outputs": []
    },
    {
      "cell_type": "markdown",
      "source": [
        "##Paths generales"
      ],
      "metadata": {
        "id": "d0jyGNb6xCGo"
      }
    },
    {
      "cell_type": "code",
      "source": [
        "#Espectros de fondo según detector y r_is\n",
        "path_fondo = {'DF-OFF': \"/content/drive/MyDrive/Colab Notebooks/ProyectoLINTatPromptGamma/2025-06-11_NAAPG_Beam/11.06.2025_PG_LINT/-txt/DF_fondo_rOFF_12.06.2025.txt\",\n",
        "              'XC-OFF': \"/content/drive/MyDrive/Colab Notebooks/ProyectoLINTatPromptGamma/2025-06-11_NAAPG_Beam/11.06.2025_PG_LINT/-txt/XC_fondo_rOFF_12.06.2025.txt\",\n",
        "              'DF-ON': \"/content/drive/MyDrive/Colab Notebooks/ProyectoLINTatPromptGamma/2025-06-11_NAAPG_Beam/11.06.2025_PG_LINT/-txt/DF_fondo_rON_10.06.2025.txt\",\n",
        "              'XC-ON': \"/content/drive/MyDrive/Colab Notebooks/ProyectoLINTatPromptGamma/2025-06-11_NAAPG_Beam/11.06.2025_PG_LINT/-txt/XC_fondo_rON_10.06.2025.txt\"}\n",
        "\n",
        "#Nombre de la fuente patrón\n",
        "Fuente_pat = 'Eu152_76044A-440'\n",
        "\n",
        "#Espectros de Eu en .txt\n",
        "path_Eu152 = {'DF-ON': \"/content/drive/MyDrive/Colab Notebooks/ProyectoLINTatPromptGamma/2025-06-11_NAAPG_Beam/11.06.2025_PG_LINT/-txt/DF_Eu152_76044A_sep3_rON_11.06.2025.txt\",\n",
        "              'XC-ON': \"/content/drive/MyDrive/Colab Notebooks/ProyectoLINTatPromptGamma/2025-06-11_NAAPG_Beam/11.06.2025_PG_LINT/-txt/XC_Eu152_76044A_3sep_rON_11.06.2025.txt\",\n",
        "              'XC-OFF': \"/content/drive/MyDrive/Colab Notebooks/ProyectoLINTatPromptGamma/2025-06-11_NAAPG_Beam/11.06.2025_PG_LINT/-txt/XC_Eu152_76044A_3sep_rOFF_12.06.2025.txt\"}\n",
        "\n",
        "#Tablas de ROIs en .txt [E, inicio, fin]\n",
        "path_Roical = {'DF-ON': \"/content/drive/MyDrive/Colab Notebooks/ProyectoLINTatPromptGamma/2025-06-11_NAAPG_Beam/11.06.2025_PG_LINT/-txt/ROI_cal_DF_Eu152_rON.txt\",\n",
        "               'XC-ON': \"/content/drive/MyDrive/Colab Notebooks/ProyectoLINTatPromptGamma/2025-06-11_NAAPG_Beam/11.06.2025_PG_LINT/-txt/ROI_cal_XC_Eu152_rON.txt\",\n",
        "               'XC-OFF': \"/content/drive/MyDrive/Colab Notebooks/ProyectoLINTatPromptGamma/2025-06-11_NAAPG_Beam/11.06.2025_PG_LINT/-txt/ROI_cal_XC_Eu152_rOFF.txt\"}\n",
        "\n",
        "#Fuentes de Cs y Co según detector y r_is\n",
        "fuente_Cs = {'DF-ON': 'Cs137_76072-440',\n",
        "          'XC-ON': 'Cs137_76072-440',\n",
        "          'XC-OFF': 'Cs137_76071-440'}\n",
        "\n",
        "fuente_Co = {f:'Co60_76057-440' for f in ['DF-ON', 'XC-ON', 'XC-OFF']}\n",
        "\n",
        "#Espectros de Cs=incog y Co=incog_Co en .txt\n",
        "path_incog_1 = {'DF-ON': \"/content/drive/MyDrive/Colab Notebooks/ProyectoLINTatPromptGamma/2025-06-11_NAAPG_Beam/11.06.2025_PG_LINT/-txt/DF_Cs137_76072_sep3_rON_11.06.2025.txt\",\n",
        "              'XC-ON': \"/content/drive/MyDrive/Colab Notebooks/ProyectoLINTatPromptGamma/2025-06-11_NAAPG_Beam/11.06.2025_PG_LINT/-txt/XC_Cs137_76072_3sep_rON_11.06.2025.txt\",\n",
        "              'XC-OFF': \"/content/drive/MyDrive/Colab Notebooks/ProyectoLINTatPromptGamma/2025-06-11_NAAPG_Beam/11.06.2025_PG_LINT/-txt/XC_Cs137_76071_3sep_rOFF_12.06.2025.txt\"}\n",
        "\n",
        "ROIs_Cs = {'DF-ON': [1160, 1174],\n",
        "          'XC-ON': [1108, 1122],\n",
        "          'XC-OFF': [1109, 1121]}\n",
        "\n",
        "path_incog_2 = {'DF-ON': \"/content/drive/MyDrive/Colab Notebooks/ProyectoLINTatPromptGamma/2025-06-11_NAAPG_Beam/11.06.2025_PG_LINT/-txt/DF_Co60_76057_sep3_rON_11.06.2025.txt\",\n",
        "                 'XC-OFF': \"/content/drive/MyDrive/Colab Notebooks/ProyectoLINTatPromptGamma/2025-06-11_NAAPG_Beam/11.06.2025_PG_LINT/-txt/XC_Co60_76057_3sep_rOFF_12.06.2025.txt\",\n",
        "                 'XC-ON': \"/content/drive/MyDrive/Colab Notebooks/ProyectoLINTatPromptGamma/2025-06-11_NAAPG_Beam/11.06.2025_PG_LINT/-txt/XC_Co60_76057_3sep_rON_11.06.2025.txt\"}\n",
        "\n",
        "ROIs_Co = {'DF-ON': np.array([[2370, 2388], [2082, 2100]]),\n",
        "           'XC-ON': np.array([[1992, 2006], [2268, 2282]]),\n",
        "           'XC-OFF': np.array([[1993, 2007], [2268, 2282]])}\n"
      ],
      "metadata": {
        "id": "aDqfTUXsxL0o"
      },
      "execution_count": null,
      "outputs": []
    },
    {
      "cell_type": "code",
      "source": [
        "npicos = {'137Cs': 1, '60Co': 2}\n",
        "for f in list(npicos.keys()):\n",
        "\t\tprint(globals()[f'fuente_{f[-2:]}'])"
      ],
      "metadata": {
        "colab": {
          "base_uri": "https://localhost:8080/"
        },
        "id": "HbDCy8rLf4dJ",
        "outputId": "84160645-a9fd-4dac-9027-9b8343e18ba7"
      },
      "execution_count": null,
      "outputs": [
        {
          "output_type": "stream",
          "name": "stdout",
          "text": [
            "{'DF-ON': 'Cs137_76072-440', 'XC-ON': 'Cs137_76072-440', 'XC-OFF': 'Cs137_76071-440'}\n",
            "{'DF-ON': 'Co60_76057-440', 'XC-ON': 'Co60_76057-440', 'XC-OFF': 'Co60_76057-440'}\n"
          ]
        }
      ]
    },
    {
      "cell_type": "markdown",
      "source": [
        "#DF-ON (Mn203/1 y Mn209/1)"
      ],
      "metadata": {
        "id": "DNsH34Bry_Y4"
      }
    },
    {
      "cell_type": "code",
      "source": [
        "det = 'DF-ON'"
      ],
      "metadata": {
        "id": "YsxG8I0_zFPr"
      },
      "execution_count": null,
      "outputs": []
    },
    {
      "cell_type": "markdown",
      "source": [
        "## Fondo\n",
        "Cargo el espectro del fondo correspondiente en '.txt'. Elijo con *det*."
      ],
      "metadata": {
        "id": "DscHUWxPcnQT"
      }
    },
    {
      "cell_type": "code",
      "source": [
        "Fondo = act.fromspec(path_fondo[det])"
      ],
      "metadata": {
        "id": "qCUBm9bFcmwz"
      },
      "execution_count": null,
      "outputs": []
    },
    {
      "cell_type": "code",
      "source": [
        "plt.figure()\n",
        "plt.plot(Fondo.channels, Fondo.counts)\n",
        "plt.grid(True, ls='--')\n",
        "plt.xlabel('Channel')\n",
        "plt.ylabel('Counts')\n",
        "plt.yscale('log')"
      ],
      "metadata": {
        "colab": {
          "base_uri": "https://localhost:8080/",
          "height": 449
        },
        "id": "neFUWXCxzsj2",
        "outputId": "8e6163a4-9220-4733-cd53-43884c05b778"
      },
      "execution_count": null,
      "outputs": [
        {
          "output_type": "display_data",
          "data": {
            "text/plain": [
              "<Figure size 640x480 with 1 Axes>"
            ],
            "image/png": "[encoded data removed]"
          },
          "metadata": {}
        }
      ]
    },
    {
      "cell_type": "markdown",
      "source": [
        "## Eficiencia"
      ],
      "metadata": {
        "id": "LAFI0GXcdJwy"
      }
    },
    {
      "cell_type": "markdown",
      "source": [
        "Defino las direcciones para los espectros de Eu y las tablas con las ROIs."
      ],
      "metadata": {
        "id": "etZ-EI9QeO0B"
      }
    },
    {
      "cell_type": "code",
      "source": [
        "ROIs_cal = np.loadtxt(path_Roical[det]) #llamo a las ROIs definidas\n",
        "spec_cal = act.fromspec(path_Eu152[det]) #recupero el espectro"
      ],
      "metadata": {
        "id": "JD-2NqIdenRf"
      },
      "execution_count": null,
      "outputs": []
    },
    {
      "cell_type": "code",
      "source": [
        "Fecha_cal = datetime.strptime(path_Eu152[det][-14:-4], '%d.%m.%Y') #día de la calibración. Puede definirse a mano, o cambiarse el formato de la fecha.\n",
        "datos_cal = act.NAA_calib(Fuente_pat, Fecha_cal) #datos de la fuente pat - actividad, hl, espectro gamma (energy, intensity, unc_int)\n",
        "\n",
        "Epeak_Eu = ROIs_cal[:, 0]\n",
        "ROIs_cal = ROIs_cal[:, 1:].astype(int)"
      ],
      "metadata": {
        "id": "MemyXV9il_MW"
      },
      "execution_count": null,
      "outputs": []
    },
    {
      "cell_type": "markdown",
      "source": [
        "### Ajuste a curva de eficiencia"
      ],
      "metadata": {
        "id": "rnJVbRApkw6Z"
      }
    },
    {
      "cell_type": "code",
      "source": [
        "grado_pol = 1 #grado de polinomio\n",
        "\n",
        "eff_fit = datos_cal.cal_eff(ROIs_cal, spec_cal, Fondo, grado_pol, criterio = 0.003)\n",
        "\n",
        "eff_data, err_eff, coef, coef_err, chi2, data_sel, residual, pvalor, ddof, rhos, var_mus = eff_fit #desglosamiento de resultados\n",
        "\n",
        "coef_tabla = np.vstack((coef, coef_err)).T"
      ],
      "metadata": {
        "id": "VZTMprZXnECS"
      },
      "execution_count": null,
      "outputs": []
    },
    {
      "cell_type": "markdown",
      "source": [
        "Grafico los resultados"
      ],
      "metadata": {
        "id": "4dTlaMNKnUw6"
      }
    },
    {
      "cell_type": "code",
      "source": [
        "E_arr = np.linspace(Epeak_Eu.min(), Epeak_Eu.max(), num=1000)\n",
        "logE_arr  = np.log(E_arr)\n",
        "eff_eval = np.polyval(coef, logE_arr) #eff evaluada con parámetros del ajuste\n",
        "sigma_mu_est = np.sqrt(var_mus(logE_arr)) #raiz de la función varianza en función de ln(E)"
      ],
      "metadata": {
        "id": "y71sM5IGnUNm"
      },
      "execution_count": null,
      "outputs": []
    },
    {
      "cell_type": "code",
      "source": [
        "plt.figure(1, figsize = (5,5))\n",
        "plt.errorbar(np.log(Epeak_Eu), np.log(eff_data), yerr= err_eff/eff_data, fmt='.')\n",
        "plt.plot(logE_arr, eff_eval, label = 'fit, grado {}'.format(grado_pol))\n",
        "plt.fill_between(logE_arr, eff_eval-sigma_mu_est, eff_eval+sigma_mu_est, color='tab:orange', alpha=0.2)\n",
        "plt.grid(True, ls = '--')\n",
        "plt.ylabel('$ln$ Eff')\n",
        "plt.xlabel('$ln$ E')\n",
        "plt.legend()\n",
        "plt.title('Eficiencia para ' + f'{det}'+ ' 3sep ' + f'{Fecha_cal.date()}')\n",
        "plt.tight_layout()"
      ],
      "metadata": {
        "colab": {
          "base_uri": "https://localhost:8080/",
          "height": 507
        },
        "id": "eSqXSZjHoDfv",
        "outputId": "dbc89365-b395-4328-acba-54586f2de05e"
      },
      "execution_count": null,
      "outputs": [
        {
          "output_type": "display_data",
          "data": {
            "text/plain": [
              "<Figure size 500x500 with 1 Axes>"
            ],
            "image/png": "[encoded data removed]"
          },
          "metadata": {}
        }
      ]
    },
    {
      "cell_type": "markdown",
      "source": [
        "### Reporte Eficiencia"
      ],
      "metadata": {
        "id": "aTJdlmrpnJFR"
      }
    },
    {
      "cell_type": "code",
      "source": [
        "for jj in range(len(coef)):\n",
        "    print(f'a{grado_pol-jj} = '+ ' '.join([*act.redondeo(coef[jj], coef_err[jj], 2, texto=True)]))\n",
        "print(f'χ2 = {chi2}, ddof = {ddof}, p-value = {pvalor}.')#' \\n Válido en E = ({Epeak_Eu.min().round(2)}-{Epeak_Eu.max().round(2)}) keV')"
      ],
      "metadata": {
        "colab": {
          "base_uri": "https://localhost:8080/"
        },
        "id": "-LgdP6ItnNIE",
        "outputId": "7535444a-f967-4dbf-9d1b-c3539c9fcc1e"
      },
      "execution_count": null,
      "outputs": [
        {
          "output_type": "stream",
          "name": "stdout",
          "text": [
            "a1 = -0.721 ± 0.020\n",
            "a0 = -1.15 ± 0.13\n",
            "χ2 = 0.587207945319987, ddof = 5, p-value = 0.9885814379008866.\n"
          ]
        }
      ]
    },
    {
      "cell_type": "markdown",
      "source": [
        "##Picos incógnita"
      ],
      "metadata": {
        "id": "tWuMruvzoILL"
      }
    },
    {
      "cell_type": "markdown",
      "source": [
        "###137Cs"
      ],
      "metadata": {
        "id": "gPBYPbRS95dq"
      }
    },
    {
      "cell_type": "markdown",
      "source": [
        "Defino la **fuente incógnita** a considerar."
      ],
      "metadata": {
        "id": "rjpyaGvxogcV"
      }
    },
    {
      "cell_type": "code",
      "source": [
        "iso = '137Cs'"
      ],
      "metadata": {
        "id": "dajjBztpolnE"
      },
      "execution_count": null,
      "outputs": []
    },
    {
      "cell_type": "markdown",
      "source": [
        "Defino la fuente como un **alambre de composición 100% del radioisótopo**. Esto es para que sea una variable con las mismas funciones definidas (métodos) que las de un alambre."
      ],
      "metadata": {
        "id": "k2mIzCIvpwC4"
      }
    },
    {
      "cell_type": "code",
      "source": [
        "Comp_incog = {iso: 1}\n",
        "Incog = act.Alambre(Comp_incog, 0)"
      ],
      "metadata": {
        "id": "_XRx44L7pvB6"
      },
      "execution_count": null,
      "outputs": []
    },
    {
      "cell_type": "markdown",
      "source": [
        "Datos y **Tasa de Fondo** en la ROI del pico de interés."
      ],
      "metadata": {
        "id": "J8oAnBTOqdjE"
      }
    },
    {
      "cell_type": "code",
      "source": [
        "ROIs = ROIs_Cs[det]\n",
        "Fondo_ROIs = {iso:Fondo.ROI(ROIs)}\n",
        "cps_Fondo = {iso:np.array([Fondo_ROIs[iso][xx] for xx in ['net', 'net_err']])/Fondo.tlive}"
      ],
      "metadata": {
        "id": "qHKl36TdqetV"
      },
      "execution_count": null,
      "outputs": []
    },
    {
      "cell_type": "markdown",
      "source": [
        "**Espectro de la incógnita**, y datos en la ROI antes definida."
      ],
      "metadata": {
        "id": "8zxNDcmgqzNv"
      }
    },
    {
      "cell_type": "code",
      "source": [
        "spec_incog = act.fromspec(path_incog[det], coef_en = spec_cal.coef_en[::-1])\n",
        "pico_incog = spec_incog.ROI(ROIs)\n",
        "E_incog = pico_incog['en_max'] #energía del pico\n",
        "t_inicio = spec_incog.tinicio.replace(hour=0, minute=0, second=0, microsecond=0) #Fecha de espectro '00 hs'"
      ],
      "metadata": {
        "id": "XwnBl-XFqzcy"
      },
      "execution_count": null,
      "outputs": []
    },
    {
      "cell_type": "markdown",
      "source": [
        "**Tasa neta de**l pico **incógnita** en la ROI."
      ],
      "metadata": {
        "id": "K_I7-_WFqSBI"
      }
    },
    {
      "cell_type": "code",
      "source": [
        "cps_pico = np.array([pico_incog['net'], pico_incog['net_err']])/spec_incog.tlive - cps_Fondo[iso]"
      ],
      "metadata": {
        "id": "-uPKcszOoUAw"
      },
      "execution_count": null,
      "outputs": []
    },
    {
      "cell_type": "markdown",
      "source": [
        "Actividad calculada, actividad reportada, y la **diferencia relativa porcentual**."
      ],
      "metadata": {
        "id": "Q9pekk1RqM0q"
      }
    },
    {
      "cell_type": "code",
      "source": [
        "Act_incog, Act_RA3, diff, BR_incog = act.Actividad(np.array([E_incog]), np.array([cps_pico[0]]), np.array([cps_pico[1]]),\n",
        "                          spec_incog.treal, coef_tabla, isfromRA3=True, Fuente=fuente[det], dt = t_inicio,\n",
        "                          var_mu = var_mus)"
      ],
      "metadata": {
        "id": "ZVp0ang7qMeo"
      },
      "execution_count": null,
      "outputs": []
    },
    {
      "cell_type": "markdown",
      "source": [
        "####Resultados"
      ],
      "metadata": {
        "id": "h9fwHmCXjKb8"
      }
    },
    {
      "cell_type": "code",
      "source": [
        "print(f' Act calc = {Act_incog[0][0].round(-2)}±{Act_incog[0][1].round(-2)} Bq\\n Act reportada = {Act_RA3[0].round(-2)}±{Act_RA3[1].round(-2)} Bq\\n diff = {diff[0].round(2)}%')"
      ],
      "metadata": {
        "colab": {
          "base_uri": "https://localhost:8080/"
        },
        "id": "8ZD6EuhuuFgK",
        "outputId": "552c4795-f51e-44b2-fa6d-217e7666edac"
      },
      "execution_count": null,
      "outputs": [
        {
          "output_type": "stream",
          "name": "stdout",
          "text": [
            " Act calc = 127900.0±1800.0 Bq\n",
            " Act reportada = 126900.0±3800.0 Bq\n",
            " diff = 0.82%\n"
          ]
        }
      ]
    },
    {
      "cell_type": "code",
      "source": [
        "ROIs_Co[det]"
      ],
      "metadata": {
        "colab": {
          "base_uri": "https://localhost:8080/"
        },
        "id": "M2_MW2-5J4BL",
        "outputId": "6f9780d8-b30a-41f4-c377-6bfecece4f38"
      },
      "execution_count": null,
      "outputs": [
        {
          "output_type": "execute_result",
          "data": {
            "text/plain": [
              "array([[2370, 2388],\n",
              "       [2082, 2100]])"
            ]
          },
          "metadata": {},
          "execution_count": 397
        }
      ]
    },
    {
      "cell_type": "markdown",
      "source": [
        "###60Co"
      ],
      "metadata": {
        "id": "pyz-auaj-BHS"
      }
    },
    {
      "cell_type": "markdown",
      "source": [
        "Repito para la fuente de Co. Sé que son 2 picos, por eso range(2)."
      ],
      "metadata": {
        "id": "6xqvpnN69-6-"
      }
    },
    {
      "cell_type": "code",
      "source": [
        "iso_Co = '60Co'\n",
        "fuente_Co = 'Co60_76057-440'\n",
        "\n",
        "Incog_Co = act.Alambre({iso_Co: 1}, 0)\n",
        "\n",
        "ROI_Co = ROIs_Co[det]\n",
        "Fondo_ROIs[iso_Co] = [Fondo.ROI(roi) for roi in ROI_Co]\n",
        "cps_Fondo[iso_Co] = [np.array([Fondo_ROIs[iso_Co][ii][xx] for xx in ['net', 'net_err']])/Fondo.tlive for ii in range(2)]\n",
        "\n",
        "spec_incog_Co = act.fromspec(path_incog_Co[det], coef_en = spec_cal.coef_en[::-1])\n",
        "pico_incog_Co = [spec_incog_Co.ROI(roi) for roi in ROI_Co]\n",
        "E_incog_Co = [pico_incog_Co[ii]['en_max'] for ii in range(2)] #energía del pico\n"
      ],
      "metadata": {
        "id": "Fknik8i19-7G"
      },
      "execution_count": null,
      "outputs": []
    },
    {
      "cell_type": "code",
      "source": [
        "np.array(E_incog_Co)"
      ],
      "metadata": {
        "colab": {
          "base_uri": "https://localhost:8080/"
        },
        "id": "8oNMvFMrVRhs",
        "outputId": "3435b849-d7d5-4ffd-e219-77a6bfba22ce"
      },
      "execution_count": null,
      "outputs": [
        {
          "output_type": "execute_result",
          "data": {
            "text/plain": [
              "array([1331.78679427, 1172.47837275])"
            ]
          },
          "metadata": {},
          "execution_count": 399
        }
      ]
    },
    {
      "cell_type": "code",
      "source": [
        "cps_pico_Co = [np.array([pico_incog_Co[ii]['net'], pico_incog_Co[ii]['net_err']])/spec_incog_Co.tlive - cps_Fondo[iso_Co][ii] for ii in range(2)]\n",
        "Act_incog_Co, Act_RA3_Co, diff_Co, BR_incog_Co = act.Actividad(np.array(E_incog_Co), np.array(cps_pico_Co)[:, 0], np.array(cps_pico_Co)[:, 1],\n",
        "                          spec_incog_Co.treal, coef_tabla, isfromRA3=True, Fuente=fuente_Co, dt = spec_incog_Co.tinicio.replace(hour=0, minute=0, second=0, microsecond=0),\n",
        "                          var_mu = var_mus)\n"
      ],
      "metadata": {
        "id": "kVYwYPnxRylw"
      },
      "execution_count": null,
      "outputs": []
    },
    {
      "cell_type": "markdown",
      "source": [
        "####Resultados"
      ],
      "metadata": {
        "id": "LsN-AL_CjMVh"
      }
    },
    {
      "cell_type": "code",
      "source": [
        "Act_incog_Co, Act_RA3_Co, diff_Co, BR_incog_Co"
      ],
      "metadata": {
        "colab": {
          "base_uri": "https://localhost:8080/"
        },
        "id": "DFGQ3DZgAdPB",
        "outputId": "546723da-9029-4721-960f-37a792e523c5"
      },
      "execution_count": null,
      "outputs": [
        {
          "output_type": "execute_result",
          "data": {
            "text/plain": [
              "(array([[18383.60415766,   354.60239079],\n",
              "        [18380.07107413,   323.65614231]]),\n",
              " array([18279.0511971 ,   548.37153591]),\n",
              " array([0.57021471, 0.55099435]),\n",
              " array([[1.332492e+03, 9.998260e-01, 6.000000e-06],\n",
              "        [1.173228e+03, 9.985000e-01, 3.000000e-04]]))"
            ]
          },
          "metadata": {},
          "execution_count": 401
        }
      ]
    },
    {
      "cell_type": "markdown",
      "source": [
        "##Agregar datos a la curva de eficiencia"
      ],
      "metadata": {
        "id": "paYUVy0LvHDy"
      }
    },
    {
      "cell_type": "markdown",
      "source": [
        "A partir de *BR_incog*, *Act_RA3*, y *cps_pico*, puedo calcular nuevos valores de eficiencia, y sumarlos a *eff_data*."
      ],
      "metadata": {
        "id": "nsXEPXpkwldJ"
      }
    },
    {
      "cell_type": "code",
      "source": [
        "n_new = 3\n",
        "eff_data = np.append(eff_data, np.zeros(n_new))\n",
        "err_eff = np.append(err_eff, np.zeros(n_new))\n",
        "Epeak_Eu = np.append(Epeak_Eu, np.zeros(n_new))"
      ],
      "metadata": {
        "id": "x6S513s3Z_TB"
      },
      "execution_count": null,
      "outputs": []
    },
    {
      "cell_type": "markdown",
      "source": [
        "### 137Cs"
      ],
      "metadata": {
        "id": "cwHqqxB3WTr2"
      }
    },
    {
      "cell_type": "code",
      "source": [
        "eff_incog = cps_pico[0]/(Act_RA3[0]*BR_incog[0][1])\n",
        "eff_incog_err = eff_incog*np.sqrt(np.divide(*BR_incog[0][1:][::-1])**2 +\n",
        "                                  np.divide(*cps_pico[::-1])**2 +\n",
        "                                  np.divide(*Act_RA3[::-1])**2)"
      ],
      "metadata": {
        "id": "vjzqlw2jwiFB"
      },
      "execution_count": null,
      "outputs": []
    },
    {
      "cell_type": "code",
      "source": [
        "eff_data[-3] = eff_incog\n",
        "err_eff[-3] = eff_incog_err\n",
        "Epeak_Eu[-3] = E_incog"
      ],
      "metadata": {
        "id": "ifMjc_6r4ZvW"
      },
      "execution_count": null,
      "outputs": []
    },
    {
      "cell_type": "markdown",
      "source": [
        "###60Co"
      ],
      "metadata": {
        "id": "tjWEmNKfWXRO"
      }
    },
    {
      "cell_type": "code",
      "source": [
        "cps_pico_Co = np.array(cps_pico_Co)\n",
        "\n",
        "eff_data[-2:] = np.array(cps_pico_Co)[:, 0]/(Act_RA3_Co[0]*BR_incog_Co[:, 1])\n",
        "err_eff[-2:] = eff_incog*np.sqrt((BR_incog_Co[:, 2]/BR_incog_Co[:, 1])**2 +\n",
        "              (cps_pico_Co[:, 1]/cps_pico_Co[:, 0])**2 + np.divide(*Act_RA3[::-1])**2)\n",
        "Epeak_Eu[-2:] = E_incog_Co"
      ],
      "metadata": {
        "id": "NO-tQ1n1Wb6J"
      },
      "execution_count": null,
      "outputs": []
    },
    {
      "cell_type": "markdown",
      "source": [
        "Repito el cálculo del ajuste, con estas nuevas series de datos."
      ],
      "metadata": {
        "id": "IfXZ98UG7zTX"
      }
    },
    {
      "cell_type": "code",
      "source": [
        "grado_pol = 1 #grado de polinomio\n",
        "\n",
        "coef, coef_err, chi2, residual, pvalor, ddof, rhos, var_mus = act.ajuste_pol(grado_pol, np.log(Epeak_Eu), np.log(eff_data), err_eff/eff_data)\n",
        "\n",
        "E_arr = np.linspace(Epeak_Eu.min(), Epeak_Eu.max(), num=1000)\n",
        "logE_arr  = np.log(E_arr)\n",
        "eff_eval = np.polyval(coef, logE_arr) #eff evaluada con parámetros del ajuste\n",
        "sigma_mu_est = np.sqrt(var_mus(logE_arr)) #raiz de la función varianza en función de ln(E)"
      ],
      "metadata": {
        "id": "L47XDqJl6DpJ"
      },
      "execution_count": null,
      "outputs": []
    },
    {
      "cell_type": "code",
      "source": [
        "for jj in range(len(coef)):\n",
        "    print(f'a{grado_pol-jj} = '+ ' '.join([*act.redondeo(coef[jj], coef_err[jj], 3, texto=True)]))\n",
        "print(f'χ2 = {chi2}, ddof = {ddof}, p-value = {pvalor}.')#' \\n Válido en E = ({Epeak_Eu.min().round(2)}-{Epeak_Eu.max().round(2)}) keV')"
      ],
      "metadata": {
        "colab": {
          "base_uri": "https://localhost:8080/"
        },
        "outputId": "df8cf5d5-de23-4bd1-be81-9876f4678cbb",
        "id": "mU2GVnA563pu"
      },
      "execution_count": null,
      "outputs": [
        {
          "output_type": "stream",
          "name": "stdout",
          "text": [
            "a1 = -0.7202 ± 0.0192\n",
            "a0 = -1.15 ± 0.127\n",
            "χ2 = 0.6587439284869885, ddof = 8, p-value = 0.999622653905138.\n"
          ]
        }
      ]
    },
    {
      "cell_type": "code",
      "source": [
        "print('χ2 red = ', chi2/ddof)"
      ],
      "metadata": {
        "colab": {
          "base_uri": "https://localhost:8080/"
        },
        "id": "tLcfmuJ4bep6",
        "outputId": "5dd34b52-3a21-48b9-8122-cf0a74874cc5"
      },
      "execution_count": null,
      "outputs": [
        {
          "output_type": "stream",
          "name": "stdout",
          "text": [
            "χ2 red =  0.08234299106087356\n"
          ]
        }
      ]
    },
    {
      "cell_type": "code",
      "source": [
        "plt.figure(1, figsize = (5,5))\n",
        "\n",
        "plt.errorbar(np.log(Epeak_Eu[:-3]), np.log(eff_data[:-3]), yerr= err_eff[:-3]/eff_data[:-3], fmt='r.', label = '$^{152}$Eu')\n",
        "plt.errorbar(np.log(Epeak_Eu[-2:]), np.log(eff_data[-2:]), yerr= err_eff[-2:]/eff_data[-2:], fmt='.', label = '$^{60}$Co')\n",
        "plt.errorbar(np.log(Epeak_Eu[-3]), np.log(eff_data[-3]), yerr= err_eff[-3]/eff_data[-1], fmt='m.', label = '$^{137}$Cs')\n",
        "\n",
        "plt.plot(logE_arr, eff_eval, 'darkcyan' , label = 'fit, grado {}'.format(grado_pol))\n",
        "plt.fill_between(logE_arr, eff_eval-sigma_mu_est, eff_eval+sigma_mu_est, color='darkcyan', alpha=0.2)\n",
        "plt.grid(True, ls = '--')\n",
        "plt.ylabel('$ln$ Eff')\n",
        "plt.xlabel('$ln$ E')\n",
        "plt.legend()\n",
        "plt.title('Eficiencia para ' + f'{det}'+ ' 3sep ' + f'{Fecha_cal.date()}')\n",
        "plt.tight_layout()"
      ],
      "metadata": {
        "colab": {
          "base_uri": "https://localhost:8080/",
          "height": 507
        },
        "id": "JY51MwcX6yTb",
        "outputId": "7cb60b46-1ad5-4b87-ee21-642d6c890f96"
      },
      "execution_count": null,
      "outputs": [
        {
          "output_type": "display_data",
          "data": {
            "text/plain": [
              "<Figure size 500x500 with 1 Axes>"
            ],
            "image/png": "[encoded data removed]"
          },
          "metadata": {}
        }
      ]
    },
    {
      "cell_type": "code",
      "source": [
        "coef_tabla = np.vstack((coef, coef_err)).T\n",
        "coef_tabla"
      ],
      "metadata": {
        "colab": {
          "base_uri": "https://localhost:8080/"
        },
        "id": "8GFnMR4IoQDY",
        "outputId": "fd86317b-d311-4f19-f9a3-10cee36db70b"
      },
      "execution_count": null,
      "outputs": [
        {
          "output_type": "execute_result",
          "data": {
            "text/plain": [
              "array([[-0.72021827,  0.01917715],\n",
              "       [-1.14959236,  0.12694148]])"
            ]
          },
          "metadata": {},
          "execution_count": 410
        }
      ]
    },
    {
      "cell_type": "code",
      "source": [
        "eff_data, err_eff"
      ],
      "metadata": {
        "colab": {
          "base_uri": "https://localhost:8080/"
        },
        "id": "SEvOTMBKpYfN",
        "outputId": "66df2398-c81c-42d5-9053-bc14b5ac2d47"
      },
      "execution_count": null,
      "outputs": [
        {
          "output_type": "execute_result",
          "data": {
            "text/plain": [
              "(array([0.00603711, 0.00472236, 0.00257234, 0.00245556, 0.00224097,\n",
              "        0.00200742, 0.00172414, 0.0029663 , 0.00178641, 0.00195768]),\n",
              " array([1.91846620e-04, 1.47712397e-04, 8.27197278e-05, 9.22735670e-05,\n",
              "        7.13592835e-05, 6.49690967e-05, 5.41984222e-05, 9.15019936e-05,\n",
              "        9.13692450e-05, 9.13195313e-05]))"
            ]
          },
          "metadata": {},
          "execution_count": 411
        }
      ]
    },
    {
      "cell_type": "markdown",
      "source": [
        "##Espectros de hojuelas MnCu"
      ],
      "metadata": {
        "id": "7MSTvk99r-f6"
      }
    },
    {
      "cell_type": "markdown",
      "source": [
        "Sólo lo hago una vez, así me queda guardado:"
      ],
      "metadata": {
        "id": "4vzo-sR5VXlP"
      }
    },
    {
      "cell_type": "code",
      "source": [
        "#Dicts que me van guardar la info de todos los alambres en cada corrida\n",
        "cps_Alambres = {}\n",
        "Act_Alambres = {}\n",
        "dts = {}\n",
        "tdead = {}"
      ],
      "metadata": {
        "id": "7fSUyPzFLNd6"
      },
      "execution_count": null,
      "outputs": []
    },
    {
      "cell_type": "markdown",
      "source": [
        "Empiezo iterando a partir de acá. Al finald el bloque anterior pueden encontrarse los coefs de eficiencia, y los\n",
        "\n",
        "\n"
      ],
      "metadata": {
        "id": "eLy3D0PpLOf6"
      }
    },
    {
      "cell_type": "code",
      "source": [
        "#Composición del alambre\n",
        "Composition = {'55Mn': 0.8123, '63Cu': 0.1877}\n",
        "\n",
        "#Tiempo de irradiación total\n",
        "tirr = 16200 + 696\n",
        "\n",
        "#Defino la clase de alambre con sus métodos\n",
        "Alambres = act.Alambre(Composition, tirr)\n",
        "\n",
        "#Regiones de interés sacadas del espectro (GammaVision). El background es 3 puntos\n",
        "ROIs = {'56Mn': [1494, 1508]}#, '64Cu': [885, 903]}\n",
        "\n",
        "#Nombre del alambre y nro de medición\n",
        "alambre = 'Mn209'\n",
        "medno = 1"
      ],
      "metadata": {
        "id": "y1d0_edLsHOB"
      },
      "execution_count": null,
      "outputs": []
    },
    {
      "cell_type": "markdown",
      "source": [
        "Tasa de fondo (cps_ROIs) en la ROI del pico de '56Mn' (*mat* en *ROIs*). Se lo agrega al dict de Fondos."
      ],
      "metadata": {
        "id": "8O7_KXiYRq_6"
      }
    },
    {
      "cell_type": "code",
      "source": [
        "#Obtengo info de los fondos en las ROIs de interés, y calculo sus tasas\n",
        "Fondo_ROIs[alambre] = {iso: Fondo.ROI(ROIs[iso]) for iso in ROIs}\n",
        "cps_ROIs = {mat:np.array([Fondo_ROIs[alambre][mat][xx] for xx in ['net', 'net_err']])/Fondo.tlive for mat in ROIs}\n",
        "\n",
        "#Corresponde al tiempo de fin de la irradiación\n",
        "t_inicio = datetime(2025, 6, 11, 14, 41, 36)\n",
        "\n",
        "#función para el path del espectro del alambre (Chequear fecha. En general funciona a menos que el job haya arrancado al día siguiente)\n",
        "path_job = lambda alambre, nro: f\"/content/drive/MyDrive/Colab Notebooks/ProyectoLINTatPromptGamma/2025-06-11_NAAPG_Beam/11.06.2025_PG_LINT/-txt/DF_{alambre}_sep3_rON_{t_inicio.date().strftime('%d.%m.%Y')}_med{nro}.txt\"\n"
      ],
      "metadata": {
        "id": "jos7jJR-rWMU"
      },
      "execution_count": null,
      "outputs": []
    },
    {
      "cell_type": "markdown",
      "source": [
        "Inicio nuevos parámetros para iniciar el cálculo de tasas del alambre."
      ],
      "metadata": {
        "id": "QDSkiBtbUDQI"
      }
    },
    {
      "cell_type": "code",
      "source": [
        "#Arrays con ceros para a tasa y actividad del alambre\n",
        "id_med = [mat+f'_med{medno}' for mat in ROIs]\n",
        "cps_Alambres[alambre] = {id:np.zeros(2) for id in id_med}\n",
        "Act_Alambres[alambre] = {id:np.zeros(2) for id in id_med}\n",
        "\n",
        "#Obtengo el espectro del alambre\n",
        "data = act.fromspec(path_job(alambre, medno), spec_cal.coef_en[::-1])\n",
        "\n",
        "#Intervalo desde que se dejó de irradiar hasta que se empezó a medir (td o tdelay)\n",
        "dt = (data.tinicio - t_inicio).total_seconds()\n",
        "\n",
        "#Señalo las regiones de interés en channels\n",
        "idx = np.array(list(ROIs.values())).reshape(-1)\n",
        "idx_roiMn = np.logical_and(data.channels> idx[0], data.channels<idx[1])\n",
        "\n",
        "##Si se quiere agregar el del Cu:\n",
        "#idx_roiCu = np.logical_and(data.channels> idx[2], data.channels< idx[3])"
      ],
      "metadata": {
        "id": "XUv4MOY5tT7K"
      },
      "execution_count": null,
      "outputs": []
    },
    {
      "cell_type": "markdown",
      "source": [
        "Grafico el espectro cerca del pico de interés."
      ],
      "metadata": {
        "id": "NpvUe6PhSg5p"
      }
    },
    {
      "cell_type": "code",
      "source": [
        "#Figuras de espectros destacando las ROIs\n",
        "plt.figure()\n",
        "plt.plot(data.channels[min(idx)-100:max(idx)+100], data.counts[min(idx)-100:max(idx)+100])\n",
        "plt.plot(data.channels[idx_roiMn], data.counts[idx_roiMn], label = 'ROI_Mn')\n",
        "#plt.plot(data.channels[idx_roiCu], data.counts[idx_roiCu], label = 'ROI_Cu')\n",
        "plt.grid(True, ls='--')\n",
        "plt.xlabel('Channel')\n",
        "plt.ylabel('Counts')\n",
        "plt.legend()\n",
        "#plt.yscale('log')"
      ],
      "metadata": {
        "colab": {
          "base_uri": "https://localhost:8080/",
          "height": 470
        },
        "id": "3WWUHhmeCJ83",
        "outputId": "5f3342d6-aec9-4d4f-8856-75ebe8fc7978"
      },
      "execution_count": null,
      "outputs": [
        {
          "output_type": "execute_result",
          "data": {
            "text/plain": [
              "<matplotlib.legend.Legend at 0x7b320c553710>"
            ]
          },
          "metadata": {},
          "execution_count": 416
        },
        {
          "output_type": "display_data",
          "data": {
            "text/plain": [
              "<Figure size 640x480 with 1 Axes>"
            ],
            "image/png": "[encoded data removed]"
          },
          "metadata": {}
        }
      ]
    },
    {
      "cell_type": "markdown",
      "source": [
        "Cálculo a partir de las tasas y la eficiencia del HPGe."
      ],
      "metadata": {
        "id": "7-Ktt6DTS2su"
      }
    },
    {
      "cell_type": "code",
      "source": [
        "#Cálculo de actividad a partir de sus tasas\n",
        "for mat, id in zip(ROIs, id_med):\n",
        "  data_ROI = data.ROI(ROIs[mat])\n",
        "  Net_cps, Err_cps = (data_ROI['net']/data.tlive - cps_ROIs[mat][0], np.sqrt((data_ROI['net_err']/data.tlive)**2 + cps_ROIs[mat][1]**2))\n",
        "  cps_Alambres[alambre][id] = [Net_cps, Err_cps]\n",
        "  Act_Alambres[alambre][id] = Alambres.Act_alambre(mat, np.array([data_ROI['en_max']]), np.array([Net_cps]), Err_cps, dt, data.treal, coef_tabla, rhos[0][0])[0]\n",
        "\n",
        "#También me guardo el td para cada medición, así como el tiempo muerto en porcentaje.\n",
        "dts[alambre] = dt\n",
        "tdead[alambre] = 100*(1 - data.tlive/data.treal)"
      ],
      "metadata": {
        "id": "MxAhGAjcBP2A"
      },
      "execution_count": null,
      "outputs": []
    },
    {
      "cell_type": "markdown",
      "source": [
        "Actividad para este alambre:"
      ],
      "metadata": {
        "id": "aUhYK-WbSzhv"
      }
    },
    {
      "cell_type": "code",
      "source": [
        "Act_Alambres"
      ],
      "metadata": {
        "colab": {
          "base_uri": "https://localhost:8080/"
        },
        "id": "qN0h87ErGbH5",
        "outputId": "09e40626-5154-4c86-938e-4bf647334ab0"
      },
      "execution_count": null,
      "outputs": [
        {
          "output_type": "execute_result",
          "data": {
            "text/plain": [
              "{'Mn209': {'56Mn_med1': array([76509.08196078,  1051.78368243])}}"
            ]
          },
          "metadata": {},
          "execution_count": 418
        }
      ]
    },
    {
      "cell_type": "markdown",
      "source": [
        "#XC-OFF (Mn209/1 y Mn209/2)"
      ],
      "metadata": {
        "id": "IUcmD36cUeOu"
      }
    },
    {
      "cell_type": "code",
      "source": [
        "det = 'XC-OFF'"
      ],
      "metadata": {
        "id": "iAX4mwItUeOx"
      },
      "execution_count": null,
      "outputs": []
    },
    {
      "cell_type": "markdown",
      "source": [
        "## Fondo\n",
        "Cargo el espectro del fondo correspondiente en '.txt'. Elijo con *det*."
      ],
      "metadata": {
        "id": "r6JVrfMTUeOy"
      }
    },
    {
      "cell_type": "code",
      "source": [
        "Fondo = act.fromspec(path_fondo[det])"
      ],
      "metadata": {
        "id": "Vu1pMzJvUeO1"
      },
      "execution_count": null,
      "outputs": []
    },
    {
      "cell_type": "code",
      "source": [
        "plt.figure()\n",
        "plt.plot(Fondo.channels, Fondo.counts)\n",
        "plt.grid(True, ls='--')\n",
        "plt.xlabel('Channel')\n",
        "plt.ylabel('Counts')\n",
        "plt.yscale('log')"
      ],
      "metadata": {
        "colab": {
          "base_uri": "https://localhost:8080/",
          "height": 449
        },
        "outputId": "d92bd72b-9e73-419f-b705-b60e21882555",
        "id": "yKzhYsbxUeO3"
      },
      "execution_count": null,
      "outputs": [
        {
          "output_type": "display_data",
          "data": {
            "text/plain": [
              "<Figure size 640x480 with 1 Axes>"
            ],
            "image/png": "[encoded data removed]"
          },
          "metadata": {}
        }
      ]
    },
    {
      "cell_type": "markdown",
      "source": [
        "## Eficiencia"
      ],
      "metadata": {
        "id": "-1RsSRHzUeO5"
      }
    },
    {
      "cell_type": "markdown",
      "source": [
        "Defino las direcciones para los espectros de Eu y las tablas con las ROIs."
      ],
      "metadata": {
        "id": "zj9sxcP-UeO8"
      }
    },
    {
      "cell_type": "code",
      "source": [
        "ROIs_cal = np.loadtxt(path_Roical[det]) #llamo a las ROIs definidas\n",
        "spec_cal = act.fromspec(path_Eu152[det]) #recupero el espectro"
      ],
      "metadata": {
        "id": "e6SJ1kJXUeO-"
      },
      "execution_count": null,
      "outputs": []
    },
    {
      "cell_type": "code",
      "source": [
        "Fecha_cal = datetime.strptime(path_Eu152[det][-14:-4], '%d.%m.%Y') #día de la calibración. Puede definirse a mano, o cambiarse el formato de la fecha.\n",
        "datos_cal = act.NAA_calib(Fuente_pat, Fecha_cal) #datos de la fuente pat - actividad, hl, espectro gamma (energy, intensity, unc_int)\n",
        "\n",
        "Epeak_Eu = ROIs_cal[:, 0]\n",
        "ROIs_cal = ROIs_cal[:, 1:].astype(int)"
      ],
      "metadata": {
        "id": "zlBqd0PRUeO_"
      },
      "execution_count": null,
      "outputs": []
    },
    {
      "cell_type": "markdown",
      "source": [
        "### Ajuste a curva de eficiencia"
      ],
      "metadata": {
        "id": "K_My8cb7UePA"
      }
    },
    {
      "cell_type": "code",
      "source": [
        "grado_pol = 1 #grado de polinomio\n",
        "\n",
        "eff_fit = datos_cal.cal_eff(ROIs_cal, spec_cal, Fondo, grado_pol, criterio = 0.003)\n",
        "\n",
        "eff_data, err_eff, coef, coef_err, chi2, data_sel, residual, pvalor, ddof, rhos, var_mus = eff_fit #desglosamiento de resultados\n",
        "\n",
        "coef_tabla = np.vstack((coef, coef_err)).T"
      ],
      "metadata": {
        "id": "xnNJO8LNUePB"
      },
      "execution_count": null,
      "outputs": []
    },
    {
      "cell_type": "markdown",
      "source": [
        "Grafico los resultados"
      ],
      "metadata": {
        "id": "iNjo8xd0UePC"
      }
    },
    {
      "cell_type": "code",
      "source": [
        "E_arr = np.linspace(Epeak_Eu.min(), Epeak_Eu.max(), num=1000)\n",
        "logE_arr  = np.log(E_arr)\n",
        "eff_eval = np.polyval(coef, logE_arr) #eff evaluada con parámetros del ajuste\n",
        "sigma_mu_est = np.sqrt(var_mus(logE_arr)) #raiz de la función varianza en función de ln(E)"
      ],
      "metadata": {
        "id": "zq_cwapwUePD"
      },
      "execution_count": null,
      "outputs": []
    },
    {
      "cell_type": "code",
      "source": [
        "plt.figure(1, figsize = (5,5))\n",
        "plt.errorbar(np.log(Epeak_Eu), np.log(eff_data), yerr= err_eff/eff_data, fmt='.')\n",
        "plt.plot(logE_arr, eff_eval, label = 'fit, grado {}'.format(grado_pol))\n",
        "plt.fill_between(logE_arr, eff_eval-sigma_mu_est, eff_eval+sigma_mu_est, color='tab:orange', alpha=0.2)\n",
        "plt.grid(True, ls = '--')\n",
        "plt.ylabel('$ln$ Eff')\n",
        "plt.xlabel('$ln$ E')\n",
        "plt.legend()\n",
        "plt.title('Eficiencia para ' + f'{det}'+ ' 3sep ' + f'{Fecha_cal.date()}')\n",
        "plt.tight_layout()"
      ],
      "metadata": {
        "colab": {
          "base_uri": "https://localhost:8080/",
          "height": 507
        },
        "outputId": "667ad4c7-5c2a-442e-81a6-7e5c877eccc8",
        "id": "tBVUy6gHUePE"
      },
      "execution_count": null,
      "outputs": [
        {
          "output_type": "display_data",
          "data": {
            "text/plain": [
              "<Figure size 500x500 with 1 Axes>"
            ],
            "image/png": "[encoded data removed]"
          },
          "metadata": {}
        }
      ]
    },
    {
      "cell_type": "markdown",
      "source": [
        "### Reporte Eficiencia"
      ],
      "metadata": {
        "id": "mQKdf2mxUePG"
      }
    },
    {
      "cell_type": "code",
      "source": [
        "for jj in range(len(coef)):\n",
        "    print(f'a{grado_pol-jj} = '+ ' '.join([*act.redondeo(coef[jj], coef_err[jj], 2, texto=True)]))\n",
        "print(f'χ2 = {chi2}, ddof = {ddof}, p-value = {pvalor}.')#' \\n Válido en E = ({Epeak_Eu.min().round(2)}-{Epeak_Eu.max().round(2)}) keV')"
      ],
      "metadata": {
        "colab": {
          "base_uri": "https://localhost:8080/"
        },
        "outputId": "aed8eac6-aa1f-4576-94ee-7cdf0025348b",
        "id": "w5PG8uHOUePH"
      },
      "execution_count": null,
      "outputs": [
        {
          "output_type": "stream",
          "name": "stdout",
          "text": [
            "a1 = -1.187 ± 0.020\n",
            "a0 = 1.28 ± 0.13\n",
            "χ2 = 3.281414847854652, ddof = 5, p-value = 0.6566882398021794.\n"
          ]
        }
      ]
    },
    {
      "cell_type": "markdown",
      "source": [
        "##Picos incógnita"
      ],
      "metadata": {
        "id": "flVExNx7UePJ"
      }
    },
    {
      "cell_type": "markdown",
      "source": [
        "###137Cs"
      ],
      "metadata": {
        "id": "T6QJRG3hUePK"
      }
    },
    {
      "cell_type": "markdown",
      "source": [
        "Defino la **fuente incógnita** a considerar."
      ],
      "metadata": {
        "id": "eeabgAp8UePL"
      }
    },
    {
      "cell_type": "code",
      "source": [
        "iso = '137Cs'"
      ],
      "metadata": {
        "id": "au-zuYiWUePM"
      },
      "execution_count": null,
      "outputs": []
    },
    {
      "cell_type": "markdown",
      "source": [
        "Defino la fuente como un **alambre de composición 100% del radioisótopo**. Esto es para que sea una variable con las mismas funciones definidas (métodos) que las de un alambre."
      ],
      "metadata": {
        "id": "nkg9yWGfUePN"
      }
    },
    {
      "cell_type": "code",
      "source": [
        "Comp_incog = {iso: 1}\n",
        "Incog = act.Alambre(Comp_incog, 0)"
      ],
      "metadata": {
        "id": "XyUzhdQWUePO"
      },
      "execution_count": null,
      "outputs": []
    },
    {
      "cell_type": "markdown",
      "source": [
        "Datos y **Tasa de Fondo** en la ROI del pico de interés."
      ],
      "metadata": {
        "id": "-9yHunFaUePO"
      }
    },
    {
      "cell_type": "code",
      "source": [
        "ROIs = ROIs_Cs[det]\n",
        "Fondo_ROIs = {iso:Fondo.ROI(ROIs)}\n",
        "cps_Fondo = {iso:np.array([Fondo_ROIs[iso][xx] for xx in ['net', 'net_err']])/Fondo.tlive}"
      ],
      "metadata": {
        "id": "VEeLz9F4UePP"
      },
      "execution_count": null,
      "outputs": []
    },
    {
      "cell_type": "markdown",
      "source": [
        "**Espectro de la incógnita**, y datos en la ROI antes definida."
      ],
      "metadata": {
        "id": "fAeDNoGDUePP"
      }
    },
    {
      "cell_type": "code",
      "source": [
        "spec_incog = act.fromspec(path_incog[det], coef_en = spec_cal.coef_en[::-1])\n",
        "pico_incog = spec_incog.ROI(ROIs)\n",
        "E_incog = pico_incog['en_max'] #energía del pico\n",
        "t_inicio = spec_incog.tinicio.replace(hour=0, minute=0, second=0, microsecond=0) #Fecha de espectro '00 hs'"
      ],
      "metadata": {
        "id": "FhiBhe1zUePQ"
      },
      "execution_count": null,
      "outputs": []
    },
    {
      "cell_type": "markdown",
      "source": [
        "**Tasa neta de**l pico **incógnita** en la ROI."
      ],
      "metadata": {
        "id": "3x8n6bGrUePQ"
      }
    },
    {
      "cell_type": "code",
      "source": [
        "cps_pico = np.array([pico_incog['net'], pico_incog['net_err']])/spec_incog.tlive - cps_Fondo[iso]"
      ],
      "metadata": {
        "id": "OpiNkIkjUePR"
      },
      "execution_count": null,
      "outputs": []
    },
    {
      "cell_type": "markdown",
      "source": [
        "Actividad calculada, actividad reportada, y la **diferencia relativa porcentual**."
      ],
      "metadata": {
        "id": "jtLpDauRUePS"
      }
    },
    {
      "cell_type": "code",
      "source": [
        "Act_incog, Act_RA3, diff, BR_incog = act.Actividad(np.array([E_incog]), np.array([cps_pico[0]]), np.array([cps_pico[1]]),\n",
        "                          spec_incog.treal, coef_tabla, isfromRA3=True, Fuente=fuente[det], dt = t_inicio,\n",
        "                          var_mu = var_mus)"
      ],
      "metadata": {
        "id": "DpgFa-ohUePS"
      },
      "execution_count": null,
      "outputs": []
    },
    {
      "cell_type": "markdown",
      "source": [
        "####Resultados"
      ],
      "metadata": {
        "id": "OfZ3d5cIUePT"
      }
    },
    {
      "cell_type": "code",
      "source": [
        "print(f' Act calc = {Act_incog[0][0].round(-2)}±{Act_incog[0][1].round(-2)} Bq\\n Act reportada = {Act_RA3[0].round(-2)}±{Act_RA3[1].round(-2)} Bq\\n diff = {diff[0].round(2)}%')"
      ],
      "metadata": {
        "colab": {
          "base_uri": "https://localhost:8080/"
        },
        "outputId": "28b90e03-fd09-45fa-a094-67e05380561a",
        "id": "SD-IB9NYUePT"
      },
      "execution_count": null,
      "outputs": [
        {
          "output_type": "stream",
          "name": "stdout",
          "text": [
            " Act calc = 25400.0±300.0 Bq\n",
            " Act reportada = 25300.0±800.0 Bq\n",
            " diff = 0.39%\n"
          ]
        }
      ]
    },
    {
      "cell_type": "code",
      "source": [
        "ROIs_Co[det]"
      ],
      "metadata": {
        "colab": {
          "base_uri": "https://localhost:8080/"
        },
        "outputId": "707ce936-1937-430c-f1a3-de016aafcb1c",
        "id": "Lijy2FXEUePU"
      },
      "execution_count": null,
      "outputs": [
        {
          "output_type": "execute_result",
          "data": {
            "text/plain": [
              "array([[1993, 2007],\n",
              "       [2268, 2282]])"
            ]
          },
          "metadata": {},
          "execution_count": 435
        }
      ]
    },
    {
      "cell_type": "markdown",
      "source": [
        "###60Co"
      ],
      "metadata": {
        "id": "1AdwiITFUePV"
      }
    },
    {
      "cell_type": "markdown",
      "source": [
        "Repito para la fuente de Co. Sé que son 2 picos, por eso range(2)."
      ],
      "metadata": {
        "id": "Vpp3K3BdUePV"
      }
    },
    {
      "cell_type": "code",
      "source": [
        "iso_Co = '60Co'\n",
        "fuente_Co = 'Co60_76057-440'\n",
        "\n",
        "Incog_Co = act.Alambre({iso_Co: 1}, 0)\n",
        "\n",
        "ROI_Co = ROIs_Co[det]\n",
        "Fondo_ROIs[iso_Co] = [Fondo.ROI(roi) for roi in ROI_Co]\n",
        "cps_Fondo[iso_Co] = [np.array([Fondo_ROIs[iso_Co][ii][xx] for xx in ['net', 'net_err']])/Fondo.tlive for ii in range(2)]\n",
        "\n",
        "spec_incog_Co = act.fromspec(path_incog_Co[det], coef_en = spec_cal.coef_en[::-1])\n",
        "pico_incog_Co = [spec_incog_Co.ROI(roi) for roi in ROI_Co]\n",
        "E_incog_Co = [pico_incog_Co[ii]['en_max'] for ii in range(2)] #energía del pico\n"
      ],
      "metadata": {
        "id": "XifPRC8pUePW"
      },
      "execution_count": null,
      "outputs": []
    },
    {
      "cell_type": "code",
      "source": [
        "np.array(E_incog_Co)"
      ],
      "metadata": {
        "colab": {
          "base_uri": "https://localhost:8080/"
        },
        "outputId": "86698e0e-f195-4592-89fd-93a7361599a0",
        "id": "MhysHfoRUePW"
      },
      "execution_count": null,
      "outputs": [
        {
          "output_type": "execute_result",
          "data": {
            "text/plain": [
              "array([1172.76111022, 1332.51254108])"
            ]
          },
          "metadata": {},
          "execution_count": 437
        }
      ]
    },
    {
      "cell_type": "code",
      "source": [
        "cps_pico_Co = [np.array([pico_incog_Co[ii]['net'], pico_incog_Co[ii]['net_err']])/spec_incog_Co.tlive - cps_Fondo[iso_Co][ii] for ii in range(2)]\n",
        "Act_incog_Co, Act_RA3_Co, diff_Co, BR_incog_Co = act.Actividad(np.array(E_incog_Co), np.array(cps_pico_Co)[:, 0], np.array(cps_pico_Co)[:, 1],\n",
        "                          spec_incog_Co.treal, coef_tabla, isfromRA3=True, Fuente=fuente_Co, dt = spec_incog_Co.tinicio.replace(hour=0, minute=0, second=0, microsecond=0),\n",
        "                          var_mu = var_mus)\n"
      ],
      "metadata": {
        "id": "9MYfenwKUePX"
      },
      "execution_count": null,
      "outputs": []
    },
    {
      "cell_type": "code",
      "source": [
        "cps_pico_Co"
      ],
      "metadata": {
        "colab": {
          "base_uri": "https://localhost:8080/"
        },
        "id": "uQZ6yadcZCOA",
        "outputId": "8a329c2a-23a3-4633-9868-02896dde668a"
      },
      "execution_count": null,
      "outputs": [
        {
          "output_type": "execute_result",
          "data": {
            "text/plain": [
              "[array([15.4862298 ,  0.06260272]), array([13.51852128,  0.05714882])]"
            ]
          },
          "metadata": {},
          "execution_count": 439
        }
      ]
    },
    {
      "cell_type": "markdown",
      "source": [
        "####Resultados"
      ],
      "metadata": {
        "id": "UQ0STbTaUePX"
      }
    },
    {
      "cell_type": "code",
      "source": [
        "Act_incog_Co, Act_RA3_Co, diff_Co, BR_incog_Co"
      ],
      "metadata": {
        "colab": {
          "base_uri": "https://localhost:8080/"
        },
        "outputId": "35d2d3f6-a369-4d49-98c8-e32b4cc698a0",
        "id": "cF7yF8JcUePY"
      },
      "execution_count": null,
      "outputs": [
        {
          "output_type": "execute_result",
          "data": {
            "text/plain": [
              "(array([[18908.45532111,   306.42708797],\n",
              "        [19173.28541221,   343.86066812]]),\n",
              " array([18272.47148282,   548.17414448]),\n",
              " array([3.42014447, 4.81042316]),\n",
              " array([[1.173228e+03, 9.985000e-01, 3.000000e-04],\n",
              "        [1.332492e+03, 9.998260e-01, 6.000000e-06]]))"
            ]
          },
          "metadata": {},
          "execution_count": 440
        }
      ]
    },
    {
      "cell_type": "markdown",
      "source": [
        "##Agregar datos a la curva de eficiencia"
      ],
      "metadata": {
        "id": "YFXfGRiqUePZ"
      }
    },
    {
      "cell_type": "markdown",
      "source": [
        "A partir de *BR_incog*, *Act_RA3*, y *cps_pico*, puedo calcular nuevos valores de eficiencia, y sumarlos a *eff_data*."
      ],
      "metadata": {
        "id": "YqZUEgdfUePZ"
      }
    },
    {
      "cell_type": "code",
      "source": [
        "n_new = 3\n",
        "eff_data = np.append(eff_data, np.zeros(n_new))\n",
        "err_eff = np.append(err_eff, np.zeros(n_new))\n",
        "Epeak_Eu = np.append(Epeak_Eu, np.zeros(n_new))"
      ],
      "metadata": {
        "id": "8eOrYKCnUePa"
      },
      "execution_count": null,
      "outputs": []
    },
    {
      "cell_type": "markdown",
      "source": [
        "### 137Cs"
      ],
      "metadata": {
        "id": "UI4kH1w0UePa"
      }
    },
    {
      "cell_type": "code",
      "source": [
        "eff_incog = cps_pico[0]/(Act_RA3[0]*BR_incog[0][1])\n",
        "eff_incog_err = eff_incog*np.sqrt(np.divide(*BR_incog[0][1:][::-1])**2 +\n",
        "                                  np.divide(*cps_pico[::-1])**2 +\n",
        "                                  np.divide(*Act_RA3[::-1])**2)"
      ],
      "metadata": {
        "id": "thFllDUoUePb"
      },
      "execution_count": null,
      "outputs": []
    },
    {
      "cell_type": "code",
      "source": [
        "eff_data[-3] = eff_incog\n",
        "err_eff[-3] = eff_incog_err\n",
        "Epeak_Eu[-3] = E_incog"
      ],
      "metadata": {
        "id": "jchU9ji-UePc"
      },
      "execution_count": null,
      "outputs": []
    },
    {
      "cell_type": "markdown",
      "source": [
        "###60Co"
      ],
      "metadata": {
        "id": "dI7HygmVUePc"
      }
    },
    {
      "cell_type": "code",
      "source": [
        "cps_pico_Co = np.array(cps_pico_Co)\n",
        "\n",
        "eff_data[-2:] = np.array(cps_pico_Co)[:, 0]/(Act_RA3_Co[0]*BR_incog_Co[:, 1])\n",
        "err_eff[-2:] = eff_incog*np.sqrt((BR_incog_Co[:, 2]/BR_incog_Co[:, 1])**2 +\n",
        "              (cps_pico_Co[:, 1]/cps_pico_Co[:, 0])**2 + np.divide(*Act_RA3[::-1])**2)\n",
        "Epeak_Eu[-2:] = E_incog_Co"
      ],
      "metadata": {
        "id": "7FGCw5nqUePd"
      },
      "execution_count": null,
      "outputs": []
    },
    {
      "cell_type": "markdown",
      "source": [
        "Repito el cálculo del ajuste, con estas nuevas series de datos."
      ],
      "metadata": {
        "id": "q6-Aw8X2UePd"
      }
    },
    {
      "cell_type": "code",
      "source": [
        "grado_pol = 1 #grado de polinomio\n",
        "\n",
        "coef, coef_err, chi2, residual, pvalor, ddof, rhos, var_mus = act.ajuste_pol(grado_pol, np.log(Epeak_Eu), np.log(eff_data), err_eff/eff_data)\n",
        "\n",
        "E_arr = np.linspace(Epeak_Eu.min(), Epeak_Eu.max(), num=1000)\n",
        "logE_arr  = np.log(E_arr)\n",
        "eff_eval = np.polyval(coef, logE_arr) #eff evaluada con parámetros del ajuste\n",
        "sigma_mu_est = np.sqrt(var_mus(logE_arr)) #raiz de la función varianza en función de ln(E)"
      ],
      "metadata": {
        "id": "5-VwxrZnUePe"
      },
      "execution_count": null,
      "outputs": []
    },
    {
      "cell_type": "code",
      "source": [
        "for jj in range(len(coef)):\n",
        "    print(f'a{grado_pol-jj} = '+ ' '.join([*act.redondeo(coef[jj], coef_err[jj], 3, texto=True)]))\n",
        "print(f'χ2 = {chi2}, ddof = {ddof}, p-value = {pvalor}.')#' \\n Válido en E = ({Epeak_Eu.min().round(2)}-{Epeak_Eu.max().round(2)}) keV')"
      ],
      "metadata": {
        "colab": {
          "base_uri": "https://localhost:8080/"
        },
        "outputId": "6313f33f-f893-4452-8c3a-9c2c5efe35ec",
        "id": "1Pkz3pD9UePe"
      },
      "execution_count": null,
      "outputs": [
        {
          "output_type": "stream",
          "name": "stdout",
          "text": [
            "a1 = -1.1822 ± 0.0190\n",
            "a0 = 1.254 ± 0.126\n",
            "χ2 = 3.9897587456767365, ddof = 8, p-value = 0.8580462776497138.\n"
          ]
        }
      ]
    },
    {
      "cell_type": "code",
      "source": [
        "print('χ2 red = ', chi2/ddof)"
      ],
      "metadata": {
        "colab": {
          "base_uri": "https://localhost:8080/"
        },
        "outputId": "72616e95-5d14-46e2-df96-16996103e71d",
        "id": "6G_Ol3XJUePf"
      },
      "execution_count": null,
      "outputs": [
        {
          "output_type": "stream",
          "name": "stdout",
          "text": [
            "χ2 red =  0.49871984320959206\n"
          ]
        }
      ]
    },
    {
      "cell_type": "code",
      "source": [
        "plt.figure(1, figsize = (5,5))\n",
        "\n",
        "plt.errorbar(np.log(Epeak_Eu[:-3]), np.log(eff_data[:-3]), yerr= err_eff[:-3]/eff_data[:-3], fmt='r.', label = '$^{152}$Eu')\n",
        "plt.errorbar(np.log(Epeak_Eu[-2:]), np.log(eff_data[-2:]), yerr= err_eff[-2:]/eff_data[-2:], fmt='.', label = '$^{60}$Co')\n",
        "plt.errorbar(np.log(Epeak_Eu[-3]), np.log(eff_data[-3]), yerr= err_eff[-3]/eff_data[-1], fmt='m.', label = '$^{137}$Cs')\n",
        "\n",
        "plt.plot(logE_arr, eff_eval, 'darkcyan' , label = 'fit, grado {}'.format(grado_pol))\n",
        "plt.fill_between(logE_arr, eff_eval-sigma_mu_est, eff_eval+sigma_mu_est, color='darkcyan', alpha=0.2)\n",
        "plt.grid(True, ls = '--')\n",
        "plt.ylabel('$ln$ Eff')\n",
        "plt.xlabel('$ln$ E')\n",
        "plt.legend()\n",
        "plt.title('Eficiencia para ' + f'{det}'+ ' 3sep ' + f'{Fecha_cal.date()}')\n",
        "plt.tight_layout()"
      ],
      "metadata": {
        "colab": {
          "base_uri": "https://localhost:8080/",
          "height": 507
        },
        "outputId": "5f5dd8f4-fb7c-4459-f726-5c1aedc4e5ac",
        "id": "Rhf5HB_kUePg"
      },
      "execution_count": null,
      "outputs": [
        {
          "output_type": "display_data",
          "data": {
            "text/plain": [
              "<Figure size 500x500 with 1 Axes>"
            ],
            "image/png": "[encoded data removed]"
          },
          "metadata": {}
        }
      ]
    },
    {
      "cell_type": "code",
      "source": [
        "coef_tabla = np.vstack((coef, coef_err)).T\n",
        "coef_tabla"
      ],
      "metadata": {
        "colab": {
          "base_uri": "https://localhost:8080/"
        },
        "outputId": "0423b109-dd36-45e4-a5d8-1a7711cf334a",
        "id": "vY-pMw_zUePg"
      },
      "execution_count": null,
      "outputs": [
        {
          "output_type": "execute_result",
          "data": {
            "text/plain": [
              "array([[-1.18218793,  0.01904496],\n",
              "       [ 1.25425229,  0.12568254]])"
            ]
          },
          "metadata": {},
          "execution_count": 449
        }
      ]
    },
    {
      "cell_type": "code",
      "source": [
        "eff_data, err_eff"
      ],
      "metadata": {
        "colab": {
          "base_uri": "https://localhost:8080/"
        },
        "outputId": "546138e5-03f5-4968-9427-668f26358ee1",
        "id": "VZ7UcqUTUePh"
      },
      "execution_count": null,
      "outputs": [
        {
          "output_type": "execute_result",
          "data": {
            "text/plain": [
              "(array([0.00535819, 0.0035099 , 0.00130789, 0.00114144, 0.00103678,\n",
              "        0.00086166, 0.00068793, 0.00162549, 0.00084879, 0.00073996]),\n",
              " array([1.64535220e-04, 1.08878750e-04, 4.08842089e-05, 3.92106096e-05,\n",
              "        3.21669832e-05, 2.70564795e-05, 2.12418135e-05, 4.93445304e-05,\n",
              "        4.92079614e-05, 4.92465919e-05]))"
            ]
          },
          "metadata": {},
          "execution_count": 450
        }
      ]
    },
    {
      "cell_type": "markdown",
      "source": [
        "##Espectros de hojuelas MnCu"
      ],
      "metadata": {
        "id": "8X0PIQlOUePk"
      }
    },
    {
      "cell_type": "markdown",
      "source": [
        "Empiezo iterando a partir de acá. Al finald el bloque anterior pueden encontrarse los coefs de eficiencia, y los\n",
        "\n",
        "\n"
      ],
      "metadata": {
        "id": "zE_zSMgnUePl"
      }
    },
    {
      "cell_type": "code",
      "source": [
        "#Composición del alambre\n",
        "Composition = {'55Mn': 0.8123, '63Cu': 0.1877}\n",
        "\n",
        "#Tiempo de irradiación total\n",
        "tirr = 16200 + 696\n",
        "\n",
        "#Defino la clase de alambre con sus métodos\n",
        "Alambres = act.Alambre(Composition, tirr)\n",
        "\n",
        "#Regiones de interés sacadas del espectro (GammaVision). El background es 3 puntos\n",
        "ROIs = {'56Mn': [1427, 1443]}#, '64Cu': [885, 903]}\n",
        "\n",
        "#Nombre del alambre y nro de medición\n",
        "alambre = 'Mn209'\n",
        "medno = 2"
      ],
      "metadata": {
        "id": "Vm02fW56UePm"
      },
      "execution_count": null,
      "outputs": []
    },
    {
      "cell_type": "markdown",
      "source": [
        "Tasa de fondo (cps_ROIs) en la ROI del pico de '56Mn' (*mat* en *ROIs*). Se lo agrega al dict de Fondos."
      ],
      "metadata": {
        "id": "0doNOXs4UePn"
      }
    },
    {
      "cell_type": "code",
      "source": [
        "#Obtengo info de los fondos en las ROIs de interés, y calculo sus tasas\n",
        "Fondo_ROIs[alambre] = {iso: Fondo.ROI(ROIs[iso]) for iso in ROIs}\n",
        "cps_ROIs = {mat:np.array([Fondo_ROIs[alambre][mat][xx] for xx in ['net', 'net_err']])/Fondo.tlive for mat in ROIs}\n",
        "\n",
        "#Corresponde al tiempo de fin de la irradiación\n",
        "t_inicio = datetime(2025, 6, 11, 14, 41, 36)\n",
        "\n",
        "#función para el path del espectro del alambre (Chequear fecha. En general funciona a menos que el job haya arrancado al día siguiente)\n",
        "path_job = lambda alambre, nro: f\"/content/drive/MyDrive/Colab Notebooks/ProyectoLINTatPromptGamma/2025-06-11_NAAPG_Beam/11.06.2025_PG_LINT/-txt/XC_{alambre}_3sep_rOFF_12.06.2025_med{nro}.txt\"\n"
      ],
      "metadata": {
        "id": "bk9TxnWqUePo"
      },
      "execution_count": null,
      "outputs": []
    },
    {
      "cell_type": "markdown",
      "source": [
        "Inicio nuevos parámetros para iniciar el cálculo de tasas del alambre."
      ],
      "metadata": {
        "id": "COkIzotJUePo"
      }
    },
    {
      "cell_type": "code",
      "source": [
        "#Nueva etiqueta para las mediciones de XC-OFF\n",
        "id_med = [mat+f'_med{medno}' for mat in ROIs]\n",
        "\n",
        "#Obtengo el espectro del alambre\n",
        "data = act.fromspec(path_job(alambre, medno), spec_cal.coef_en[::-1])\n",
        "\n",
        "#Intervalo desde que se dejó de irradiar hasta que se empezó a medir (td o tdelay)\n",
        "dt = (data.tinicio - t_inicio).total_seconds()\n",
        "\n",
        "#Señalo las regiones de interés en channels\n",
        "idx = np.array(list(ROIs.values())).reshape(-1)\n",
        "idx_roiMn = np.logical_and(data.channels> idx[0], data.channels<idx[1])\n",
        "\n",
        "##Si se quiere agregar el del Cu:\n",
        "#idx_roiCu = np.logical_and(data.channels> idx[2], data.channels< idx[3])"
      ],
      "metadata": {
        "id": "JiTs_0eQUePp"
      },
      "execution_count": null,
      "outputs": []
    },
    {
      "cell_type": "markdown",
      "source": [
        "Grafico el espectro cerca del pico de interés."
      ],
      "metadata": {
        "id": "t03EG7ScUePp"
      }
    },
    {
      "cell_type": "code",
      "source": [
        "#Figuras de espectros destacando las ROIs\n",
        "plt.figure()\n",
        "plt.plot(data.channels[min(idx)-100:max(idx)+100], data.counts[min(idx)-100:max(idx)+100])\n",
        "plt.plot(data.channels[idx_roiMn], data.counts[idx_roiMn], label = 'ROI_Mn')\n",
        "#plt.plot(data.channels[idx_roiCu], data.counts[idx_roiCu], label = 'ROI_Cu')\n",
        "plt.grid(True, ls='--')\n",
        "plt.xlabel('Channel')\n",
        "plt.ylabel('Counts')\n",
        "plt.legend()\n",
        "#plt.yscale('log')"
      ],
      "metadata": {
        "id": "bYxWDr-iUePq",
        "colab": {
          "base_uri": "https://localhost:8080/",
          "height": 467
        },
        "outputId": "f31adf89-f286-4096-d61b-f32d7879fdea"
      },
      "execution_count": null,
      "outputs": [
        {
          "output_type": "execute_result",
          "data": {
            "text/plain": [
              "<matplotlib.legend.Legend at 0x7b320bf65450>"
            ]
          },
          "metadata": {},
          "execution_count": 454
        },
        {
          "output_type": "display_data",
          "data": {
            "text/plain": [
              "<Figure size 640x480 with 1 Axes>"
            ],
            "image/png": "[encoded data removed]"
          },
          "metadata": {}
        }
      ]
    },
    {
      "cell_type": "markdown",
      "source": [
        "Cálculo a partir de las tasas y la eficiencia del HPGe."
      ],
      "metadata": {
        "id": "T8VdPOFbUePq"
      }
    },
    {
      "cell_type": "code",
      "source": [
        "#Cálculo de actividad a partir de sus tasas\n",
        "for mat, id in zip(ROIs, id_med):\n",
        "  data_ROI = data.ROI(ROIs[mat])\n",
        "  Net_cps, Err_cps = (data_ROI['net']/data.tlive - cps_ROIs[mat][0], np.sqrt((data_ROI['net_err']/data.tlive)**2 + cps_ROIs[mat][1]**2))\n",
        "  cps_Alambres[alambre][id] = [Net_cps, Err_cps]\n",
        "  Act_Alambres[alambre][id] = Alambres.Act_alambre(mat, np.array([data_ROI['en_max']]), np.array([Net_cps]), Err_cps, dt, data.treal, coef_tabla, rhos[0][0])[0]\n",
        "\n",
        "#También me guardo el td para cada medición, así como el tiempo muerto en porcentaje.\n",
        "dts[alambre] = dt\n",
        "tdead[alambre] = 100*(1 - data.tlive/data.treal)"
      ],
      "metadata": {
        "id": "eXlqYsr6UePr"
      },
      "execution_count": null,
      "outputs": []
    },
    {
      "cell_type": "code",
      "source": [
        "Act_Alambres"
      ],
      "metadata": {
        "id": "1I3lkmGlbRBO",
        "colab": {
          "base_uri": "https://localhost:8080/"
        },
        "outputId": "8575d493-f5ab-41c4-d84b-fff8a166d91b"
      },
      "execution_count": null,
      "outputs": [
        {
          "output_type": "execute_result",
          "data": {
            "text/plain": [
              "{'Mn209': {'56Mn_med1': array([76509.08196078,  1051.78368243]),\n",
              "  '56Mn_med2': array([78516.44758794,   970.03357247])}}"
            ]
          },
          "metadata": {},
          "execution_count": 456
        }
      ]
    },
    {
      "cell_type": "markdown",
      "source": [
        "## Todas las Eff. juntas"
      ],
      "metadata": {
        "id": "mhzuKO0aUePh"
      }
    },
    {
      "cell_type": "markdown",
      "source": [
        "En cada iteración, para los distintos *det*, me anoto los coeficientes que devuelve, junto con los datos para ajustar. Esto último resultará útil para volver a obtener la función *var_mu*, para propagar errores."
      ],
      "metadata": {
        "id": "-uzXYJkUUePi"
      }
    },
    {
      "cell_type": "code",
      "source": [
        "data_all = {'XC-OFF': np.array([[0.00535819, 0.0035099 , 0.00130789, 0.00114144, 0.00103678,\n",
        "       0.00086166, 0.00068793, 0.00162549, 0.00084879, 0.00073996], [1.64535220e-04, 1.08878750e-04, 4.08842089e-05, 3.92106096e-05,\n",
        "       3.21669832e-05, 2.70564795e-05, 2.12418135e-05, 4.93445304e-05,\n",
        "       4.92079614e-05, 4.92465919e-05]]).T,\n",
        "            'XC-ON': np.array([[0.00534794, 0.00351262, 0.00130545, 0.00113286, 0.00102448,\n",
        "        0.00087893, 0.00068957, 0.00160198, 0.00084564, 0.00073355], [1.65666521e-04, 1.09283381e-04, 4.14880987e-05, 4.15274852e-05,\n",
        "        3.24040914e-05, 2.82822615e-05, 2.16697848e-05, 4.99017641e-05,\n",
        "        5.03679057e-05, 5.05801497e-05]]).T,\n",
        "            'DF-ON': np.array([[0.00603711, 0.00472236, 0.00257234, 0.00245556, 0.00224097,\n",
        "        0.00200742, 0.00172414, 0.0029663 , 0.00178641, 0.00195768], [1.91846620e-04, 1.47712397e-04, 8.27197278e-05, 9.22735670e-05,\n",
        "        7.13592835e-05, 6.49690967e-05, 5.41984222e-05, 9.15019936e-05,\n",
        "        9.13692450e-05, 9.13195313e-05]]).T}"
      ],
      "metadata": {
        "id": "DCYWpXDoUePj"
      },
      "execution_count": null,
      "outputs": []
    },
    {
      "cell_type": "code",
      "source": [
        "coef_all = {'XC-OFF': np.array([[-1.18218793,  0.01904496], [ 1.25425229,  0.12568254]]),\n",
        "            'XC-ON': np.array([[-1.1798183 ,  0.01928542], [ 1.2369473 ,  0.12712041]]),\n",
        "            'DF-ON': np.array([[-0.72021827,  0.01917715], [-1.14959236,  0.12694148]])}\n"
      ],
      "metadata": {
        "id": "_q86lgqSUePj"
      },
      "execution_count": null,
      "outputs": []
    }
  ]
}