{
  "nbformat": 4,
  "nbformat_minor": 0,
  "metadata": {
    "colab": {
      "provenance": [],
      "toc_visible": true
    },
    "kernelspec": {
      "name": "python3",
      "display_name": "Python 3"
    },
    "language_info": {
      "name": "python"
    }
  },
  "cells": [
    {
      "cell_type": "code",
      "execution_count": null,
      "metadata": {
        "colab": {
          "base_uri": "https://localhost:8080/"
        },
        "id": "E2-ic3kCcJpQ",
        "outputId": "93d55b9e-f609-4222-bf08-f6730e7aaaae"
      },
      "outputs": [
        {
          "output_type": "stream",
          "name": "stdout",
          "text": [
            "Drive already mounted at /content/drive; to attempt to forcibly remount, call drive.mount(\"/content/drive\", force_remount=True).\n"
          ]
        }
      ],
      "source": [
        "from google.colab import drive\n",
        "drive.mount('/content/drive')\n",
        "\n",
        "import sys\n",
        "sys.path.append('/content/drive/MyDrive/Colab Notebooks/ProyectoLINTatPromptGamma/')"
      ]
    },
    {
      "cell_type": "code",
      "source": [
        "import Activacion as act\n",
        "import numpy as np\n",
        "from datetime import datetime\n",
        "import matplotlib.pyplot as plt"
      ],
      "metadata": {
        "id": "2nz2nFExcOah"
      },
      "execution_count": null,
      "outputs": []
    },
    {
      "cell_type": "markdown",
      "source": [
        "## Fondo\n",
        "Defino las direcciones de los fondos, según detector de germanio. Elijo con *det*, y cargo los espectros en '.txt'."
      ],
      "metadata": {
        "id": "DscHUWxPcnQT"
      }
    },
    {
      "cell_type": "code",
      "source": [
        "path_fondo = {'DF-OFF': \"/content/drive/MyDrive/Colab Notebooks/ProyectoLINTatPromptGamma/2025-06-11_NAAPG_Beam/11.06.2025_PG_LINT/-txt/DF_fondo_rOFF_12.06.2025.txt\",\n",
        "              'XC-OFF': \"/content/drive/MyDrive/Colab Notebooks/ProyectoLINTatPromptGamma/2025-06-11_NAAPG_Beam/11.06.2025_PG_LINT/-txt/XC_fondo_rOFF_12.06.2025.txt\",\n",
        "              'DF-ON': \"/content/drive/MyDrive/Colab Notebooks/ProyectoLINTatPromptGamma/2025-06-11_NAAPG_Beam/11.06.2025_PG_LINT/-txt/DF_fondo_rON_10.06.2025.txt\",\n",
        "              'XC-ON': \"/content/drive/MyDrive/Colab Notebooks/ProyectoLINTatPromptGamma/2025-06-11_NAAPG_Beam/11.06.2025_PG_LINT/-txt/XC_fondo_rON_10.06.2025.txt\"}\n",
        "\n",
        "det = 'XC-OFF'\n",
        "\n",
        "r_is = det.split('-')[1]\n",
        "\n",
        "Fondo = {'OFF': act.fromspec(path_fondo[det.split('-')[0]+'-OFF']),\n",
        "         'ON': act.fromspec(path_fondo[det.split('-')[0]+'-ON'])}"
      ],
      "metadata": {
        "id": "qCUBm9bFcmwz"
      },
      "execution_count": null,
      "outputs": []
    },
    {
      "cell_type": "markdown",
      "source": [
        "## Eficiencia"
      ],
      "metadata": {
        "id": "LAFI0GXcdJwy"
      }
    },
    {
      "cell_type": "markdown",
      "source": [
        "Defino las direcciones para los espectros de Eu y las tablas con las ROIs."
      ],
      "metadata": {
        "id": "etZ-EI9QeO0B"
      }
    },
    {
      "cell_type": "code",
      "source": [
        "path_Eu152 = {'DF-ON': \"/content/drive/MyDrive/Colab Notebooks/ProyectoLINTatPromptGamma/2025-06-11_NAAPG_Beam/11.06.2025_PG_LINT/-txt/DF_Eu152_76044A_sep3_rON_11.06.2025.txt\",\n",
        "              'XC-ON': \"/content/drive/MyDrive/Colab Notebooks/ProyectoLINTatPromptGamma/2025-06-11_NAAPG_Beam/11.06.2025_PG_LINT/-txt/XC_Eu152_76044A_3sep_rON_11.06.2025.txt\",\n",
        "              'XC-OFF': \"/content/drive/MyDrive/Colab Notebooks/ProyectoLINTatPromptGamma/2025-06-11_NAAPG_Beam/11.06.2025_PG_LINT/-txt/XC_Eu152_76044A_3sep_rOFF_12.06.2025.txt\"}\n",
        "path_Roical = {'DF-ON': \"/content/drive/MyDrive/Colab Notebooks/ProyectoLINTatPromptGamma/2025-06-11_NAAPG_Beam/11.06.2025_PG_LINT/-txt/ROI_cal_DF_Eu152_rON.txt\",\n",
        "               'XC-ON': \"/content/drive/MyDrive/Colab Notebooks/ProyectoLINTatPromptGamma/2025-06-11_NAAPG_Beam/11.06.2025_PG_LINT/-txt/ROI_cal_XC_Eu152_rON.txt\",\n",
        "               'XC-OFF': \"/content/drive/MyDrive/Colab Notebooks/ProyectoLINTatPromptGamma/2025-06-11_NAAPG_Beam/11.06.2025_PG_LINT/-txt/ROI_cal_XC_Eu152_rOFF.txt\"}"
      ],
      "metadata": {
        "id": "NDX8dvBVeOA8"
      },
      "execution_count": null,
      "outputs": []
    },
    {
      "cell_type": "code",
      "source": [
        "ROIs_cal = np.loadtxt(path_Roical[det]) #llamo a las ROIs definidas\n",
        "spec_cal = act.fromspec(path_Eu152[det]) #recupero el espectro"
      ],
      "metadata": {
        "id": "JD-2NqIdenRf"
      },
      "execution_count": null,
      "outputs": []
    },
    {
      "cell_type": "code",
      "source": [
        "Fuente_pat = 'Eu152_76044A-440'\n",
        "Fecha_cal = datetime.strptime(path_Eu152[det][-14:-4], '%d.%m.%Y') #día de la calibración. Puede definirse a mano, o cambiarse el formato de la fecha.\n",
        "datos_cal = act.NAA_calib(Fuente_pat, Fecha_cal) #datos de la fuente pat - actividad, hl, espectro gamma (energy, intensity, unc_int)\n",
        "\n",
        "Epeak_Eu = ROIs_cal[:, 0]\n",
        "ROIs_cal = ROIs_cal[:, 1:].astype(int)"
      ],
      "metadata": {
        "id": "MemyXV9il_MW"
      },
      "execution_count": null,
      "outputs": []
    },
    {
      "cell_type": "markdown",
      "source": [
        "### Ajuste a curva de eficiencia"
      ],
      "metadata": {
        "id": "rnJVbRApkw6Z"
      }
    },
    {
      "cell_type": "code",
      "source": [
        "grado_pol = 1 #grado de polinomio\n",
        "\n",
        "eff_fit = datos_cal.cal_eff(ROIs_cal, spec_cal, Fondo[r_is], grado_pol, criterio = 0.003)\n",
        "\n",
        "eff_data, err_eff, coef, coef_err, chi2, data_sel, residual, pvalor, ddof, rhos, var_mus = eff_fit #desglosamiento de resultados\n",
        "\n",
        "coef_tabla = np.vstack((coef, coef_err)).T"
      ],
      "metadata": {
        "id": "VZTMprZXnECS"
      },
      "execution_count": null,
      "outputs": []
    },
    {
      "cell_type": "markdown",
      "source": [
        "Grafico los resultados"
      ],
      "metadata": {
        "id": "4dTlaMNKnUw6"
      }
    },
    {
      "cell_type": "code",
      "source": [
        "E_arr = np.linspace(Epeak_Eu.min(), Epeak_Eu.max(), num=1000)\n",
        "logE_arr  = np.log(E_arr)\n",
        "eff_eval = np.polyval(coef, logE_arr) #eff evaluada con parámetros del ajuste\n",
        "sigma_mu_est = np.sqrt(var_mus(logE_arr)) #raiz de la función varianza en función de ln(E)"
      ],
      "metadata": {
        "id": "y71sM5IGnUNm"
      },
      "execution_count": null,
      "outputs": []
    },
    {
      "cell_type": "code",
      "source": [
        "plt.figure(1, figsize = (5,5))\n",
        "plt.errorbar(np.log(Epeak_Eu), np.log(eff_data), yerr= err_eff/eff_data, fmt='.')\n",
        "plt.plot(logE_arr, eff_eval, label = 'fit, grado {}'.format(grado_pol))\n",
        "plt.fill_between(logE_arr, eff_eval-sigma_mu_est, eff_eval+sigma_mu_est, color='tab:orange', alpha=0.2)\n",
        "plt.grid(True, ls = '--')\n",
        "plt.ylabel('$ln$ Eff')\n",
        "plt.xlabel('$ln$ E')\n",
        "plt.legend()\n",
        "plt.title('Eficiencia para ' + f'{det}'+ ' 3sep ' + f'{Fecha_cal.date()}')\n",
        "plt.tight_layout()"
      ],
      "metadata": {
        "colab": {
          "base_uri": "https://localhost:8080/",
          "height": 507
        },
        "id": "eSqXSZjHoDfv",
        "outputId": "32b636ab-4424-4dd4-a9d1-117dd8f7a916"
      },
      "execution_count": null,
      "outputs": [
        {
          "output_type": "display_data",
          "data": {
            "text/plain": [
              "<Figure size 500x500 with 1 Axes>"
            ],
            "image/png": "[encoded data removed]"
          },
          "metadata": {}
        }
      ]
    },
    {
      "cell_type": "markdown",
      "source": [
        "### Reporte Eficiencia"
      ],
      "metadata": {
        "id": "aTJdlmrpnJFR"
      }
    },
    {
      "cell_type": "code",
      "source": [
        "for jj in range(len(coef)):\n",
        "    print(f'a{grado_pol-jj} = '+ ' '.join([*act.redondeo(coef[jj], coef_err[jj], 2, texto=True)]))\n",
        "print(f'χ2 = {chi2}, ddof = {ddof}, p-value = {pvalor}.')#' \\n Válido en E = ({Epeak_Eu.min().round(2)}-{Epeak_Eu.max().round(2)}) keV')"
      ],
      "metadata": {
        "colab": {
          "base_uri": "https://localhost:8080/"
        },
        "id": "-LgdP6ItnNIE",
        "outputId": "f0ecd201-de1a-4501-f6c8-7b8ccb8ff0a8"
      },
      "execution_count": null,
      "outputs": [
        {
          "output_type": "stream",
          "name": "stdout",
          "text": [
            "a1 = -1.187 ± 0.020 keV^-1\n",
            "a0 = 1.28 ± 0.13 keV^-0\n",
            "χ2 = 3.281414847854652, ddof = 5, p-value = 0.6566882398021794.\n"
          ]
        }
      ]
    },
    {
      "cell_type": "markdown",
      "source": [
        "##Pico incógnita"
      ],
      "metadata": {
        "id": "tWuMruvzoILL"
      }
    },
    {
      "cell_type": "markdown",
      "source": [
        "###137Cs"
      ],
      "metadata": {
        "id": "gPBYPbRS95dq"
      }
    },
    {
      "cell_type": "markdown",
      "source": [
        "Ruta del espectro en .txt"
      ],
      "metadata": {
        "id": "Gke14AStomAF"
      }
    },
    {
      "cell_type": "code",
      "source": [
        "path_incog = {'DF-ON': \"/content/drive/MyDrive/Colab Notebooks/ProyectoLINTatPromptGamma/2025-06-11_NAAPG_Beam/11.06.2025_PG_LINT/-txt/DF_Cs137_76072_sep3_rON_11.06.2025.txt\",\n",
        "              'XC-ON': \"/content/drive/MyDrive/Colab Notebooks/ProyectoLINTatPromptGamma/2025-06-11_NAAPG_Beam/11.06.2025_PG_LINT/-txt/XC_Cs137_76072_3sep_rON_11.06.2025.txt\",\n",
        "              'XC-OFF': \"/content/drive/MyDrive/Colab Notebooks/ProyectoLINTatPromptGamma/2025-06-11_NAAPG_Beam/11.06.2025_PG_LINT/-txt/XC_Cs137_76071_3sep_rOFF_12.06.2025.txt\"}"
      ],
      "metadata": {
        "id": "px57BwiroYCj"
      },
      "execution_count": null,
      "outputs": []
    },
    {
      "cell_type": "markdown",
      "source": [
        "Defino la **fuente incógnita** a considerar."
      ],
      "metadata": {
        "id": "rjpyaGvxogcV"
      }
    },
    {
      "cell_type": "code",
      "source": [
        "iso = '137Cs'\n",
        "fuente = {'DF-ON': 'Cs137_76072-440',\n",
        "          'XC-ON': 'Cs137_76072-440',\n",
        "          'XC-OFF': 'Cs137_76071-440'}  #'Co60_76057-440'"
      ],
      "metadata": {
        "id": "dajjBztpolnE"
      },
      "execution_count": null,
      "outputs": []
    },
    {
      "cell_type": "markdown",
      "source": [
        "**ROI** del pico incógnita. Se define a partir de mirar el pico en la energía que esperamos."
      ],
      "metadata": {
        "id": "qyAD0D2Qp-oM"
      }
    },
    {
      "cell_type": "code",
      "source": [
        "n_back = 3\n",
        "\n",
        "ROIs = {'DF-ON': {iso: [1160, 1174]},\n",
        "        'XC-ON': {iso: [1108, 1122]},\n",
        "        'XC-OFF': {iso: [1109, 1121]}}"
      ],
      "metadata": {
        "id": "JK8B3xnjpKZM"
      },
      "execution_count": null,
      "outputs": []
    },
    {
      "cell_type": "markdown",
      "source": [
        "Defino la fuente como un **alambre de composición 100% del radioisótopo**. Esto es para que sea una variable con las mismas funciones definidas (métodos) que las de un alambre."
      ],
      "metadata": {
        "id": "k2mIzCIvpwC4"
      }
    },
    {
      "cell_type": "code",
      "source": [
        "Comp_incog = {iso: 1}\n",
        "Incog = act.Alambre(Comp_incog, 0)"
      ],
      "metadata": {
        "id": "_XRx44L7pvB6"
      },
      "execution_count": null,
      "outputs": []
    },
    {
      "cell_type": "markdown",
      "source": [
        "Datos y **Tasa de Fondo** en la ROI del pico de interés."
      ],
      "metadata": {
        "id": "J8oAnBTOqdjE"
      }
    },
    {
      "cell_type": "code",
      "source": [
        "ROIs = ROIs[det]\n",
        "Fondo_ROIs = {mat:Fondo[r_is].ROI(ROIs[mat], n_bkg=n_back) for mat in ROIs}\n",
        "cps_Fondo = {mat:np.array([Fondo_ROIs[mat][xx] for xx in ['net', 'net_err']])/Fondo[r_is].tlive for mat in ROIs}"
      ],
      "metadata": {
        "id": "qHKl36TdqetV"
      },
      "execution_count": null,
      "outputs": []
    },
    {
      "cell_type": "markdown",
      "source": [
        "**Espectro de la incógnita**, y datos en la ROI antes definida."
      ],
      "metadata": {
        "id": "8zxNDcmgqzNv"
      }
    },
    {
      "cell_type": "code",
      "source": [
        "spec_incog = act.fromspec(path_incog[det], coef_en = spec_cal.coef_en[::-1])\n",
        "pico_incog = spec_incog.ROI(list(ROIs.values())[0], n_bkg=n_back)\n",
        "E_incog = pico_incog['en_max'] #energía del pico\n",
        "t_inicio = spec_incog.tinicio.replace(hour=0, minute=0, second=0, microsecond=0) #Fecha de espectro '00 hs'"
      ],
      "metadata": {
        "id": "XwnBl-XFqzcy"
      },
      "execution_count": null,
      "outputs": []
    },
    {
      "cell_type": "markdown",
      "source": [
        "**Tasa neta de**l pico **incógnita** en la ROI."
      ],
      "metadata": {
        "id": "K_I7-_WFqSBI"
      }
    },
    {
      "cell_type": "code",
      "source": [
        "cps_pico = np.array([pico_incog['net'], pico_incog['net_err']])/spec_incog.tlive - cps_Fondo[iso]"
      ],
      "metadata": {
        "id": "-uPKcszOoUAw"
      },
      "execution_count": null,
      "outputs": []
    },
    {
      "cell_type": "markdown",
      "source": [
        "Actividad calculada, actividad reportada, y la **diferencia relativa porcentual**."
      ],
      "metadata": {
        "id": "Q9pekk1RqM0q"
      }
    },
    {
      "cell_type": "code",
      "source": [
        "Act_incog, Act_RA3, diff, BR_incog = act.Actividad(np.array([E_incog]), np.array([cps_pico[0]]), np.array([cps_pico[1]]),\n",
        "                          spec_incog.treal, coef_tabla, isfromRA3=True, Fuente=fuente[det], dt = t_inicio,\n",
        "                          var_mu = var_mus)"
      ],
      "metadata": {
        "id": "ZVp0ang7qMeo"
      },
      "execution_count": null,
      "outputs": []
    },
    {
      "cell_type": "markdown",
      "source": [
        "####Resultados"
      ],
      "metadata": {
        "id": "h9fwHmCXjKb8"
      }
    },
    {
      "cell_type": "code",
      "source": [
        "print(f' Act calc = {Act_incog[0][0].round(-2)}±{Act_incog[0][1].round(-2)} Bq\\n Act reportada = {Act_RA3[0].round(-2)}±{Act_RA3[1].round(-2)} Bq\\n diff = {diff[0].round(2)}%')"
      ],
      "metadata": {
        "colab": {
          "base_uri": "https://localhost:8080/"
        },
        "id": "8ZD6EuhuuFgK",
        "outputId": "5a53da3d-5223-4665-9675-d0ea8ce2923f"
      },
      "execution_count": null,
      "outputs": [
        {
          "output_type": "stream",
          "name": "stdout",
          "text": [
            " Act calc = 25400.0±300.0 Bq\n",
            " Act reportada = 25300.0±800.0 Bq\n",
            " diff = 0.39%\n"
          ]
        }
      ]
    },
    {
      "cell_type": "markdown",
      "source": [
        "###60Co"
      ],
      "metadata": {
        "id": "pyz-auaj-BHS"
      }
    },
    {
      "cell_type": "markdown",
      "source": [
        "Repito para esta otra fuente"
      ],
      "metadata": {
        "id": "6xqvpnN69-6-"
      }
    },
    {
      "cell_type": "code",
      "source": [
        "path_incog_Co = {'DF-ON': \"/content/drive/MyDrive/Colab Notebooks/ProyectoLINTatPromptGamma/2025-06-11_NAAPG_Beam/11.06.2025_PG_LINT/-txt/DF_Co60_76057_sep3_rON_11.06.2025.txt\",\n",
        "                 'XC-OFF': \"/content/drive/MyDrive/Colab Notebooks/ProyectoLINTatPromptGamma/2025-06-11_NAAPG_Beam/11.06.2025_PG_LINT/-txt/XC_Co60_76057_3sep_rOFF_12.06.2025.txt\",\n",
        "                 'XC-ON': \"/content/drive/MyDrive/Colab Notebooks/ProyectoLINTatPromptGamma/2025-06-11_NAAPG_Beam/11.06.2025_PG_LINT/-txt/XC_Co60_76057_3sep_rON_11.06.2025.txt\"}\n",
        "iso_Co = '60Co'\n",
        "fuente_Co = 'Co60_76057-440'\n",
        "\n",
        "ROIs_Co = {'DF-ON': {iso_Co: np.array([[2370, 2388], [2082, 2100]])},\n",
        "           'XC-ON': {iso_Co: np.array([[1992, 2006], [2268, 2282]])},\n",
        "           'XC-OFF': {iso_Co: np.array([[1993, 2007], [2268, 2282]])}}\n",
        "\n",
        "Incog_Co = act.Alambre({iso_Co: 1}, 0)\n",
        "\n",
        "ROIs_Co = ROIs_Co[det]\n",
        "Fondo_ROIs[iso_Co] = [Fondo[r_is].ROI(ROIs_Co[iso_Co][ii], n_bkg=n_back) for ii in range(2)]\n",
        "cps_Fondo[iso_Co] = [np.array([Fondo_ROIs[iso_Co][ii][xx] for xx in ['net', 'net_err']])/Fondo[r_is].tlive for ii in range(2)]\n",
        "\n",
        "spec_incog_Co = act.fromspec(path_incog_Co[det], coef_en = spec_cal.coef_en[::-1])\n",
        "pico_incog_Co = [spec_incog_Co.ROI(list(ROIs_Co.values())[0][ii]) for ii in range(2)]\n",
        "E_incog_Co = [pico_incog_Co[ii]['en_max'] for ii in range(2)] #energía del pico\n"
      ],
      "metadata": {
        "id": "Fknik8i19-7G"
      },
      "execution_count": null,
      "outputs": []
    },
    {
      "cell_type": "code",
      "source": [
        "np.array(E_incog_Co)"
      ],
      "metadata": {
        "colab": {
          "base_uri": "https://localhost:8080/"
        },
        "id": "8oNMvFMrVRhs",
        "outputId": "79cbbc29-b1f6-41ac-b2e3-5cbc5dccdf19"
      },
      "execution_count": null,
      "outputs": [
        {
          "output_type": "execute_result",
          "data": {
            "text/plain": [
              "array([1172.76111022, 1332.51254108])"
            ]
          },
          "metadata": {},
          "execution_count": 163
        }
      ]
    },
    {
      "cell_type": "code",
      "source": [
        "cps_pico_Co = [np.array([pico_incog_Co[ii]['net'], pico_incog_Co[ii]['net_err']])/spec_incog_Co.tlive - cps_Fondo[iso_Co][ii] for ii in range(2)]\n",
        "Act_incog_Co, Act_RA3_Co, diff_Co, BR_incog_Co = act.Actividad(np.array(E_incog_Co), np.array(cps_pico_Co)[:, 0], np.array(cps_pico_Co)[:, 1],\n",
        "                          spec_incog_Co.treal, coef_tabla, isfromRA3=True, Fuente=fuente_Co, dt = spec_incog_Co.tinicio.replace(hour=0, minute=0, second=0, microsecond=0),\n",
        "                          var_mu = var_mus)\n"
      ],
      "metadata": {
        "id": "kVYwYPnxRylw"
      },
      "execution_count": null,
      "outputs": []
    },
    {
      "cell_type": "markdown",
      "source": [
        "####Resultados"
      ],
      "metadata": {
        "id": "LsN-AL_CjMVh"
      }
    },
    {
      "cell_type": "code",
      "source": [
        "Act_incog_Co, Act_RA3_Co, diff_Co, BR_incog_Co"
      ],
      "metadata": {
        "colab": {
          "base_uri": "https://localhost:8080/"
        },
        "id": "DFGQ3DZgAdPB",
        "outputId": "350354e9-3473-49bf-ef02-351a3aaea0b5"
      },
      "execution_count": null,
      "outputs": [
        {
          "output_type": "execute_result",
          "data": {
            "text/plain": [
              "(array([[18908.45532111,   306.42708797],\n",
              "        [19173.28541221,   343.86066812]]),\n",
              " array([18272.47148282,   548.17414448]),\n",
              " array([3.42014447, 4.81042316]),\n",
              " array([[1.173228e+03, 9.985000e-01, 3.000000e-04],\n",
              "        [1.332492e+03, 9.998260e-01, 6.000000e-06]]))"
            ]
          },
          "metadata": {},
          "execution_count": 165
        }
      ]
    },
    {
      "cell_type": "markdown",
      "source": [
        "##Agregar datos a la curva de eficiencia"
      ],
      "metadata": {
        "id": "paYUVy0LvHDy"
      }
    },
    {
      "cell_type": "markdown",
      "source": [
        "A partir de *BR_incog*, *Act_RA3*, y *cps_pico*, puedo calcular nuevos valores de eficiencia, y sumarlos a *eff_data*."
      ],
      "metadata": {
        "id": "nsXEPXpkwldJ"
      }
    },
    {
      "cell_type": "code",
      "source": [
        "n_new = 3\n",
        "eff_data = np.append(eff_data, np.zeros(n_new))\n",
        "err_eff = np.append(err_eff, np.zeros(n_new))\n",
        "Epeak_Eu = np.append(Epeak_Eu, np.zeros(n_new))"
      ],
      "metadata": {
        "id": "x6S513s3Z_TB"
      },
      "execution_count": null,
      "outputs": []
    },
    {
      "cell_type": "markdown",
      "source": [
        "### 137Cs"
      ],
      "metadata": {
        "id": "cwHqqxB3WTr2"
      }
    },
    {
      "cell_type": "code",
      "source": [
        "eff_incog = cps_pico[0]/(Act_RA3[0]*BR_incog[0][1])\n",
        "eff_incog_err = eff_incog*np.sqrt(np.divide(*BR_incog[0][1:][::-1])**2 +\n",
        "                                  np.divide(*cps_pico[::-1])**2 +\n",
        "                                  np.divide(*Act_RA3[::-1])**2)"
      ],
      "metadata": {
        "id": "vjzqlw2jwiFB"
      },
      "execution_count": null,
      "outputs": []
    },
    {
      "cell_type": "code",
      "source": [
        "eff_data[-3] = eff_incog\n",
        "err_eff[-3] = eff_incog_err\n",
        "Epeak_Eu[-3] = E_incog"
      ],
      "metadata": {
        "id": "ifMjc_6r4ZvW"
      },
      "execution_count": null,
      "outputs": []
    },
    {
      "cell_type": "markdown",
      "source": [
        "###60Co"
      ],
      "metadata": {
        "id": "tjWEmNKfWXRO"
      }
    },
    {
      "cell_type": "code",
      "source": [
        "cps_pico_Co = np.array(cps_pico_Co)\n",
        "\n",
        "eff_data[-2:] = np.array(cps_pico_Co)[:, 0]/(Act_RA3_Co[0]*BR_incog_Co[:, 1])\n",
        "err_eff[-2:] = eff_incog*np.sqrt((BR_incog_Co[:, 2]/BR_incog_Co[:, 1])**2 +\n",
        "              (cps_pico_Co[:, 1]/cps_pico_Co[:, 0])**2 + np.divide(*Act_RA3[::-1])**2)\n",
        "Epeak_Eu[-2:] = E_incog_Co"
      ],
      "metadata": {
        "id": "NO-tQ1n1Wb6J"
      },
      "execution_count": null,
      "outputs": []
    },
    {
      "cell_type": "markdown",
      "source": [
        "Repito el cálculo del ajuste, con estas nuevas series de datos."
      ],
      "metadata": {
        "id": "IfXZ98UG7zTX"
      }
    },
    {
      "cell_type": "code",
      "source": [
        "grado_pol = 1 #grado de polinomio\n",
        "\n",
        "coef, coef_err, chi2, residual, pvalor, ddof, rhos, var_mus = act.ajuste_pol(grado_pol, np.log(Epeak_Eu), np.log(eff_data), err_eff/eff_data)\n",
        "\n",
        "E_arr = np.linspace(Epeak_Eu.min(), Epeak_Eu.max(), num=1000)\n",
        "logE_arr  = np.log(E_arr)\n",
        "eff_eval = np.polyval(coef, logE_arr) #eff evaluada con parámetros del ajuste\n",
        "sigma_mu_est = np.sqrt(var_mus(logE_arr)) #raiz de la función varianza en función de ln(E)"
      ],
      "metadata": {
        "id": "L47XDqJl6DpJ"
      },
      "execution_count": null,
      "outputs": []
    },
    {
      "cell_type": "code",
      "source": [
        "for jj in range(len(coef)):\n",
        "    print(f'a{grado_pol-jj} = '+ ' '.join([*act.redondeo(coef[jj], coef_err[jj], 3, texto=True)]))\n",
        "print(f'χ2 = {chi2}, ddof = {ddof}, p-value = {pvalor}.')#' \\n Válido en E = ({Epeak_Eu.min().round(2)}-{Epeak_Eu.max().round(2)}) keV')"
      ],
      "metadata": {
        "colab": {
          "base_uri": "https://localhost:8080/"
        },
        "outputId": "21109ead-9ef2-4e53-ad12-4b1949a7acad",
        "id": "mU2GVnA563pu"
      },
      "execution_count": null,
      "outputs": [
        {
          "output_type": "stream",
          "name": "stdout",
          "text": [
            "a1 = -1.1822 ± 0.0190 keV^-1\n",
            "a0 = 1.254 ± 0.126 keV^-0\n",
            "χ2 = 3.9897587456767365, ddof = 8, p-value = 0.8580462776497138.\n"
          ]
        }
      ]
    },
    {
      "cell_type": "code",
      "source": [
        "print('χ2 red = ', chi2/ddof)"
      ],
      "metadata": {
        "colab": {
          "base_uri": "https://localhost:8080/"
        },
        "id": "tLcfmuJ4bep6",
        "outputId": "9a42e043-df26-4b7c-96df-babe17e461d3"
      },
      "execution_count": null,
      "outputs": [
        {
          "output_type": "stream",
          "name": "stdout",
          "text": [
            "χ2 red =  0.49871984320959206\n"
          ]
        }
      ]
    },
    {
      "cell_type": "code",
      "source": [
        "plt.figure(1, figsize = (5,5))\n",
        "\n",
        "plt.errorbar(np.log(Epeak_Eu[:-3]), np.log(eff_data[:-3]), yerr= err_eff[:-3]/eff_data[:-3], fmt='r.', label = '$^{152}$Eu')\n",
        "plt.errorbar(np.log(Epeak_Eu[-2:]), np.log(eff_data[-2:]), yerr= err_eff[-2:]/eff_data[-2:], fmt='.', label = '$^{60}$Co')\n",
        "plt.errorbar(np.log(Epeak_Eu[-3]), np.log(eff_data[-3]), yerr= err_eff[-3]/eff_data[-1], fmt='m.', label = '$^{137}$Cs')\n",
        "\n",
        "plt.plot(logE_arr, eff_eval, 'darkcyan' , label = 'fit, grado {}'.format(grado_pol))\n",
        "plt.fill_between(logE_arr, eff_eval-sigma_mu_est, eff_eval+sigma_mu_est, color='darkcyan', alpha=0.2)\n",
        "plt.grid(True, ls = '--')\n",
        "plt.ylabel('$ln$ Eff')\n",
        "plt.xlabel('$ln$ E')\n",
        "plt.legend()\n",
        "plt.title('Eficiencia para ' + f'{det}'+ ' 3sep ' + f'{Fecha_cal.date()}')\n",
        "plt.tight_layout()"
      ],
      "metadata": {
        "colab": {
          "base_uri": "https://localhost:8080/",
          "height": 507
        },
        "id": "JY51MwcX6yTb",
        "outputId": "8e443586-c538-4939-caf8-d345e357d0a9"
      },
      "execution_count": null,
      "outputs": [
        {
          "output_type": "display_data",
          "data": {
            "text/plain": [
              "<Figure size 500x500 with 1 Axes>"
            ],
            "image/png": "[encoded data removed]"
          },
          "metadata": {}
        }
      ]
    },
    {
      "cell_type": "code",
      "source": [
        "coef_tabla = np.vstack((coef, coef_err)).T\n",
        "coef_tabla"
      ],
      "metadata": {
        "colab": {
          "base_uri": "https://localhost:8080/"
        },
        "id": "8GFnMR4IoQDY",
        "outputId": "dbc992c2-9f45-4f39-b1a3-9cabe161c920"
      },
      "execution_count": null,
      "outputs": [
        {
          "output_type": "execute_result",
          "data": {
            "text/plain": [
              "array([[-1.18218793,  0.01904496],\n",
              "       [ 1.25425229,  0.12568254]])"
            ]
          },
          "metadata": {},
          "execution_count": 175
        }
      ]
    },
    {
      "cell_type": "code",
      "source": [
        "err_eff"
      ],
      "metadata": {
        "colab": {
          "base_uri": "https://localhost:8080/"
        },
        "id": "SEvOTMBKpYfN",
        "outputId": "0017f1f9-9085-444f-c527-505b6b095810"
      },
      "execution_count": null,
      "outputs": [
        {
          "output_type": "execute_result",
          "data": {
            "text/plain": [
              "array([1.64535220e-04, 1.08878750e-04, 4.08842089e-05, 3.92106096e-05,\n",
              "       3.21669832e-05, 2.70564795e-05, 2.12418135e-05, 4.93445304e-05,\n",
              "       4.92079614e-05, 4.92465919e-05])"
            ]
          },
          "metadata": {},
          "execution_count": 177
        }
      ]
    },
    {
      "cell_type": "markdown",
      "source": [
        "## Todas las Eff. juntas"
      ],
      "metadata": {
        "id": "FUovVUJ7r4ll"
      }
    },
    {
      "cell_type": "markdown",
      "source": [
        "En cada iteración, para los distintos *det*, me anoto los coeficientes que devuelve, junto con los datos para ajustar. Esto último resultará útil para volver a obtener la función *var_mu*, para propagar errores."
      ],
      "metadata": {
        "id": "Z1btB2CRoRnf"
      }
    },
    {
      "cell_type": "code",
      "source": [
        "data_all = {'XC-OFF': np.array([[0.00535819, 0.0035099 , 0.00130789, 0.00114144, 0.00103678,\n",
        "       0.00086166, 0.00068793, 0.00162549, 0.00084879, 0.00073996], [1.64535220e-04, 1.08878750e-04, 4.08842089e-05, 3.92106096e-05,\n",
        "       3.21669832e-05, 2.70564795e-05, 2.12418135e-05, 4.93445304e-05,\n",
        "       4.92079614e-05, 4.92465919e-05]]).T,\n",
        "            'XC-ON': ,\n",
        "            'DF-ON': }"
      ],
      "metadata": {
        "id": "Nycqx02VqfJm"
      },
      "execution_count": null,
      "outputs": []
    },
    {
      "cell_type": "code",
      "source": [
        "coef_all = {'XC-OFF': np.array([[-1.18218793,  0.01904496], [ 1.25425229,  0.12568254]]),\n",
        "            'XC-ON': ,\n",
        "            'DF-ON': }\n"
      ],
      "metadata": {
        "id": "JyaacRXjpLJ2"
      },
      "execution_count": null,
      "outputs": []
    },
    {
      "cell_type": "markdown",
      "source": [
        "##Flujo a partir de hojuelas Mn"
      ],
      "metadata": {
        "id": "7MSTvk99r-f6"
      }
    },
    {
      "cell_type": "code",
      "source": [],
      "metadata": {
        "id": "y1d0_edLsHOB"
      },
      "execution_count": null,
      "outputs": []
    }
  ]
}