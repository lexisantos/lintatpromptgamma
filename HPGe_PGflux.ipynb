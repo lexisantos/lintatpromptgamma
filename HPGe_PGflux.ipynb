{
  "nbformat": 4,
  "nbformat_minor": 0,
  "metadata": {
    "colab": {
      "provenance": [],
      "authorship_tag": "ABX9TyNApYdQ3OWTTtzyAonl9GS5",
      "include_colab_link": true
    },
    "kernelspec": {
      "name": "python3",
      "display_name": "Python 3"
    },
    "language_info": {
      "name": "python"
    }
  },
  "cells": [
    {
      "cell_type": "markdown",
      "metadata": {
        "id": "view-in-github",
        "colab_type": "text"
      },
      "source": [
        "<a href=\"https://colab.research.google.com/github/lexisantos/lintatpromptgamma/blob/main/HPGe_PGflux.ipynb\" target=\"_parent\"><img src=\"https://colab.research.google.com/assets/colab-badge.svg\" alt=\"Open In Colab\"/></a>"
      ]
    },
    {
      "cell_type": "code",
      "execution_count": 154,
      "metadata": {
        "colab": {
          "base_uri": "https://localhost:8080/"
        },
        "id": "E2-ic3kCcJpQ",
        "outputId": "dba36a26-2a6b-4f74-ea1d-7e13cc14d58f"
      },
      "outputs": [
        {
          "output_type": "stream",
          "name": "stdout",
          "text": [
            "Drive already mounted at /content/drive; to attempt to forcibly remount, call drive.mount(\"/content/drive\", force_remount=True).\n"
          ]
        }
      ],
      "source": [
        "from google.colab import drive\n",
        "drive.mount('/content/drive')\n",
        "\n",
        "import sys\n",
        "sys.path.append('/content/drive/MyDrive/Colab Notebooks/ProyectoLINTatPromptGamma/')"
      ]
    },
    {
      "cell_type": "code",
      "source": [
        "import Activacion as act\n",
        "import numpy as np\n",
        "import pandas as pd\n",
        "from datetime import datetime\n",
        "import matplotlib.pyplot as plt"
      ],
      "metadata": {
        "id": "2nz2nFExcOah"
      },
      "execution_count": 155,
      "outputs": []
    },
    {
      "cell_type": "markdown",
      "source": [
        "##Paths generales"
      ],
      "metadata": {
        "id": "d0jyGNb6xCGo"
      }
    },
    {
      "cell_type": "markdown",
      "source": [
        "Es importante el orden y definir bien los nombres en el caso de `path_incog_{iso}`."
      ],
      "metadata": {
        "id": "w0Bslx6Rp9aC"
      }
    },
    {
      "cell_type": "code",
      "source": [
        "#Espectros de fondo según detector y r_is\n",
        "path_fondo = {'DF-OFF': \"/content/drive/MyDrive/Colab Notebooks/ProyectoLINTatPromptGamma/2025-06-11_NAAPG_Beam/11.06.2025_PG_LINT/-txt/DF_fondo_rOFF_12.06.2025.txt\",\n",
        "              'XC-OFF': \"/content/drive/MyDrive/Colab Notebooks/ProyectoLINTatPromptGamma/2025-06-11_NAAPG_Beam/11.06.2025_PG_LINT/-txt/XC_fondo_rOFF_12.06.2025.txt\",\n",
        "              'DF-ON': \"/content/drive/MyDrive/Colab Notebooks/ProyectoLINTatPromptGamma/2025-06-11_NAAPG_Beam/11.06.2025_PG_LINT/-txt/DF_fondo_rON_10.06.2025.txt\",\n",
        "              'XC-ON': \"/content/drive/MyDrive/Colab Notebooks/ProyectoLINTatPromptGamma/2025-06-11_NAAPG_Beam/11.06.2025_PG_LINT/-txt/XC_fondo_rON_10.06.2025.txt\"}\n",
        "\n",
        "#Nombre de la fuente patrón\n",
        "Fuente_pat = 'Eu152_76044A-440'\n",
        "\n",
        "#Espectros de Eu en .txt\n",
        "path_Eu152 = {'DF-ON': \"/content/drive/MyDrive/Colab Notebooks/ProyectoLINTatPromptGamma/2025-06-11_NAAPG_Beam/11.06.2025_PG_LINT/-txt/DF_Eu152_76044A_sep3_rON_11.06.2025.txt\",\n",
        "              'XC-ON': \"/content/drive/MyDrive/Colab Notebooks/ProyectoLINTatPromptGamma/2025-06-11_NAAPG_Beam/11.06.2025_PG_LINT/-txt/XC_Eu152_76044A_3sep_rON_11.06.2025.txt\",\n",
        "              'XC-OFF': \"/content/drive/MyDrive/Colab Notebooks/ProyectoLINTatPromptGamma/2025-06-11_NAAPG_Beam/11.06.2025_PG_LINT/-txt/XC_Eu152_76044A_3sep_rOFF_12.06.2025.txt\"}\n",
        "\n",
        "#Tablas de ROIs en .txt [E, inicio, fin]\n",
        "path_Roical = {'DF-ON': \"/content/drive/MyDrive/Colab Notebooks/ProyectoLINTatPromptGamma/2025-06-11_NAAPG_Beam/11.06.2025_PG_LINT/-txt/ROI_cal_DF_Eu152_rON.txt\",\n",
        "               'XC-ON': \"/content/drive/MyDrive/Colab Notebooks/ProyectoLINTatPromptGamma/2025-06-11_NAAPG_Beam/11.06.2025_PG_LINT/-txt/ROI_cal_XC_Eu152_rON.txt\",\n",
        "               'XC-OFF': \"/content/drive/MyDrive/Colab Notebooks/ProyectoLINTatPromptGamma/2025-06-11_NAAPG_Beam/11.06.2025_PG_LINT/-txt/ROI_cal_XC_Eu152_rOFF.txt\"}\n",
        "\n",
        "#Fuentes de Cs y Co según detector y r_is\n",
        "fuente_Cs = {'DF-ON': 'Cs137_76072-440',\n",
        "          'XC-ON': 'Cs137_76072-440',\n",
        "          'XC-OFF': 'Cs137_76071-440'}\n",
        "\n",
        "fuente_Co = {f:'Co60_76057-440' for f in ['DF-ON', 'XC-ON', 'XC-OFF']}\n",
        "\n",
        "#Espectros de Cs=incog y Co=incog_Co en .txt\n",
        "path_incog_Cs = {'DF-ON': \"/content/drive/MyDrive/Colab Notebooks/ProyectoLINTatPromptGamma/2025-06-11_NAAPG_Beam/11.06.2025_PG_LINT/-txt/DF_Cs137_76072_sep3_rON_11.06.2025.txt\",\n",
        "              'XC-ON': \"/content/drive/MyDrive/Colab Notebooks/ProyectoLINTatPromptGamma/2025-06-11_NAAPG_Beam/11.06.2025_PG_LINT/-txt/XC_Cs137_76072_3sep_rON_11.06.2025.txt\",\n",
        "              'XC-OFF': \"/content/drive/MyDrive/Colab Notebooks/ProyectoLINTatPromptGamma/2025-06-11_NAAPG_Beam/11.06.2025_PG_LINT/-txt/XC_Cs137_76071_3sep_rOFF_12.06.2025.txt\"}\n",
        "\n",
        "ROIs_Cs = {'DF-ON': np.array([1160, 1174]),\n",
        "          'XC-ON': np.array([1108, 1122]),\n",
        "          'XC-OFF': np.array([1109, 1121])}\n",
        "\n",
        "path_incog_Co = {'DF-ON': \"/content/drive/MyDrive/Colab Notebooks/ProyectoLINTatPromptGamma/2025-06-11_NAAPG_Beam/11.06.2025_PG_LINT/-txt/DF_Co60_76057_sep3_rON_11.06.2025.txt\",\n",
        "                 'XC-OFF': \"/content/drive/MyDrive/Colab Notebooks/ProyectoLINTatPromptGamma/2025-06-11_NAAPG_Beam/11.06.2025_PG_LINT/-txt/XC_Co60_76057_3sep_rOFF_12.06.2025.txt\",\n",
        "                 'XC-ON': \"/content/drive/MyDrive/Colab Notebooks/ProyectoLINTatPromptGamma/2025-06-11_NAAPG_Beam/11.06.2025_PG_LINT/-txt/XC_Co60_76057_3sep_rON_11.06.2025.txt\"}\n",
        "\n",
        "ROIs_Co = {'DF-ON': np.array([[2370, 2388], [2082, 2100]]),\n",
        "           'XC-ON': np.array([[1992, 2006], [2268, 2282]]),\n",
        "           'XC-OFF': np.array([[1993, 2007], [2268, 2282]])}\n"
      ],
      "metadata": {
        "id": "aDqfTUXsxL0o"
      },
      "execution_count": 156,
      "outputs": []
    },
    {
      "cell_type": "code",
      "source": [
        "class bydet:\n",
        "  def __init__(self, det):\n",
        "    self.det = det\n",
        "\n",
        "  def fondo(self, paths, graph = False):\n",
        "    # Store the result of act.fromspec in self.fondo\n",
        "    self.fondo = act.fromspec(paths[self.det])\n",
        "    self.cps_fondo = {}\n",
        "    self.fondo_ROIs = {}\n",
        "\n",
        "    if graph:\n",
        "      plt.figure()\n",
        "      plt.plot(self.fondo.channels, self.fondo.counts)\n",
        "      plt.grid(True, ls='--')\n",
        "      plt.xlabel('Channel')\n",
        "      plt.ylabel('Counts')\n",
        "      plt.yscale('log')\n",
        "      plt.title(f'Fondo {self.det}')\n",
        "\n",
        "  def eff(self, ROI_cal_paths, spec_cal_paths, Fuente_pat: str = 'Eu152_76044A-440'):\n",
        "    ROIs_cal = np.loadtxt(ROI_cal_paths[self.det])\n",
        "    spec_Eu = act.fromspec(spec_cal_paths[self.det])\n",
        "    self.spec_cal = spec_Eu\n",
        "\n",
        "    Fecha_cal = datetime.strptime(spec_cal_paths[self.det][-14:-4], '%d.%m.%Y')\n",
        "    datos_cal = act.NAA_calib(Fuente_pat, Fecha_cal)\n",
        "    self.fuente_pat = Fuente_pat\n",
        "\n",
        "    self.eff_Epeak_Eu = ROIs_cal[:, 0]\n",
        "    ROIs_cal = ROIs_cal[:, 1:].astype(int)\n",
        "\n",
        "    eff_data, err_eff = datos_cal.cal_eff(ROIs_cal, self.spec_cal, self.fondo, criterio = 0.003, only_data = True)\n",
        "    self.eff_data = eff_data\n",
        "    self.eff_err = err_eff\n",
        "    self.npicos = {Fuente_pat.split('_')[0]: len(err_eff)}\n",
        "\n",
        "  def   eff_ext(self, n_new, npicos = {'137Cs': 1, '60Co': 2}, path_name: str = 'path_incog_'):\n",
        "    self.npicos.update(npicos)\n",
        "    for f in npicos:\n",
        "      Comp_incog = {f: 1}\n",
        "      Incog = act.Alambre(Comp_incog, 0)\n",
        "      ROIs = globals()[f'ROIs_{f[-2:]}'][self.det]\n",
        "      # Access the ROI method on self.fondo\n",
        "      self.fondo_ROIs[f] = [self.fondo.ROI(ROIs)] if ROIs.shape == (2,) else [self.fondo.ROI(roi) for roi in ROIs]\n",
        "      self.cps_fondo[f] = [np.array([back[xx] for xx in ['net', 'net_err']])/self.fondo.tlive for back in self.fondo_ROIs[f]]\n",
        "\n",
        "      spec_incog = act.fromspec(globals()[f'{path_name}{f[-2:]}'][self.det], coef_en = self.spec_cal.coef_en[::-1])\n",
        "      pico_incog = [spec_incog.ROI(ROIs)] if ROIs.shape == (2,) else [spec_incog.ROI(roi) for roi in ROIs]\n",
        "      E_incog = [pico_incog[ii]['en_max'] for ii in range(npicos[f])] #energía del pico\n",
        "      t_inicio = spec_incog.tinicio.replace(hour=0, minute=0, second=0, microsecond=0) #Fecha de espectro '00 hs'\n",
        "\n",
        "      setattr(self, f'cps_pico_{f[-2:]}', np.array([np.array([pico_incog[ii]['net'], pico_incog[ii]['net_err']])/spec_incog.tlive - self.cps_fondo[f][ii] for ii in range(npicos[f])]))\n",
        "      cps_pico = getattr(self, f'cps_pico_{f[-2:]}')\n",
        "      data_act = act.Actividad(np.array(E_incog), np.array([cps_pico[:, 0]]), np.array([cps_pico[:, 1]]),\n",
        "                          spec_incog.treal, self.eff_coef_tabla, isfromRA3=True, Fuente=globals()[f'fuente_{f[-2:]}'][det], dt = t_inicio,\n",
        "                          var_mu = self.eff_var_mu)\n",
        "      df_act = pd.DataFrame(np.hstack((data_act[3], data_act[0].reshape((npicos[f], 2)), np.array(data_act[2]).reshape((npicos[f], 1)))),\n",
        "                            columns = ['Energy [keV]', 'BR %', 'BR err %', 'Act [Bq]', 'Error Act [Bq]', 'Diff Tab %'])\n",
        "      df_act[['BR %', 'BR err %']] = df_act[['BR %', 'BR err %']]*100\n",
        "\n",
        "      setattr(self, f'data_act_{f[-2:]}', df_act)\n",
        "      setattr(self, f'data_RA3_{f[-2:]}', data_act[1])\n",
        "\n",
        "      eff_incog = cps_pico[:, 0]/(data_act[1][0]*data_act[3][0][1])\n",
        "      eff_incog_err = eff_incog*np.sqrt((data_act[3][:, 2]/data_act[3][:, 1])**2 +\n",
        "                        (cps_pico[:, 1]/cps_pico[:, 0])**2 +\n",
        "                        np.divide(*data_act[1][::-1])**2)\n",
        "\n",
        "      self.eff_data = np.append(self.eff_data, eff_incog)\n",
        "      self.eff_err = np.append(self.eff_err, eff_incog_err)\n",
        "      self.eff_Epeak_Eu = np.append(self.eff_Epeak_Eu, E_incog)\n",
        "\n",
        "  def fit_eff(self, grado, graph = True):\n",
        "    coef, coef_err, chi2, residual, pvalor, ddof, rhos, var_mus = act.ajuste_pol(grado, np.log(self.eff_Epeak_Eu), np.log(self.eff_data), self.eff_err/self.eff_data)\n",
        "\n",
        "    self.eff_coef_tabla = np.vstack((coef, coef_err)).T\n",
        "    self.eff_residuos = residual\n",
        "    ss_res = np.sum(residual**2)\n",
        "    ss_tot = np.sum((np.log(self.eff_data)-np.mean(np.log(self.eff_data)))**2)\n",
        "    R2 = 1 - (ss_res / ss_tot)\n",
        "    self.eff_goodness = pd.DataFrame(np.array([chi2, pvalor, ddof, R2]), index = ['chi^2', 'p-value', 'ddof', 'R^2'], columns = ['goodness of fit'])\n",
        "    self.eff_var_mu = var_mus\n",
        "    self.eff_rhos = rhos\n",
        "\n",
        "    if graph:\n",
        "      E_arr = np.linspace(self.eff_Epeak_Eu.min(), self.eff_Epeak_Eu.max(), num=1000)\n",
        "      logE_arr  = np.log(E_arr)\n",
        "      eff_eval = np.polyval(coef, logE_arr)\n",
        "      sigma_mu_est = np.sqrt(var_mus(logE_arr))\n",
        "      i0 = 0\n",
        "      plt.figure(figsize = (5,5))\n",
        "      for dd in self.npicos:\n",
        "        i1 = self.npicos[dd] + i0\n",
        "        plt.errorbar(np.log(self.eff_Epeak_Eu[i0:i1]), np.log(self.eff_data)[i0:i1], yerr= self.eff_err[i0:i1]/self.eff_data[i0:i1], fmt='.', label = f'{dd}')\n",
        "        i0 = i1\n",
        "      plt.plot(logE_arr, eff_eval, 'tab:gray', linewidth = 2.0, label = 'Model Fit')\n",
        "      plt.fill_between(logE_arr, eff_eval-sigma_mu_est, eff_eval+sigma_mu_est, color='tab:gray', alpha=0.2)\n",
        "      plt.grid(True, ls = '--')\n",
        "      plt.ylabel('$ln$ Eff')\n",
        "      plt.xlabel('$ln$ E')\n",
        "      plt.legend()\n",
        "      plt.title('Eficiencia para ' + f'{det}'+ ' 3sep ' + 'Fit grado= {}'.format(grado))# + f'{Fecha_cal.date()}')\n",
        "      plt.tight_layout()"
      ],
      "metadata": {
        "id": "-dnWnmPIow8Y"
      },
      "execution_count": 157,
      "outputs": []
    },
    {
      "cell_type": "markdown",
      "source": [
        "#DF-ON (Mn203/1 y Mn209/1)"
      ],
      "metadata": {
        "id": "DNsH34Bry_Y4"
      }
    },
    {
      "cell_type": "markdown",
      "source": [
        "Defino el detector que elijo con `det` y cargo todas las funciones para calcular fondos y la eficiencia."
      ],
      "metadata": {
        "id": "zvpJKsp0oxVo"
      }
    },
    {
      "cell_type": "code",
      "source": [
        "det = 'DF-ON'\n",
        "data_dfon = bydet(det)"
      ],
      "metadata": {
        "id": "YsxG8I0_zFPr"
      },
      "execution_count": 158,
      "outputs": []
    },
    {
      "cell_type": "markdown",
      "source": [
        "## Fondo\n",
        "A partir de `data_dfon`, sólo basta darle como input el dict con los paths de fondos."
      ],
      "metadata": {
        "id": "DscHUWxPcnQT"
      }
    },
    {
      "cell_type": "code",
      "source": [
        "data_dfon.fondo(path_fondo, graph = True)"
      ],
      "metadata": {
        "colab": {
          "base_uri": "https://localhost:8080/",
          "height": 472
        },
        "id": "GuVREy6uqUFw",
        "outputId": "c5dea954-72d6-48bd-cb2a-df614dfa7d43"
      },
      "execution_count": 159,
      "outputs": [
        {
          "output_type": "display_data",
          "data": {
            "text/plain": [
              "<Figure size 640x480 with 1 Axes>"
            ],
            "image/png": "[encoded data removed]"
          },
          "metadata": {}
        }
      ]
    },
    {
      "cell_type": "markdown",
      "source": [
        "## Eficiencia"
      ],
      "metadata": {
        "id": "LAFI0GXcdJwy"
      }
    },
    {
      "cell_type": "markdown",
      "source": [
        "Cargo las eficiencias en función de los paths de los espectros de la fuente patrón -`path_Eu152`-, y una lista con los ROIs -`path_Roical`-."
      ],
      "metadata": {
        "id": "etZ-EI9QeO0B"
      }
    },
    {
      "cell_type": "code",
      "source": [
        "data_dfon.eff(path_Roical, path_Eu152)"
      ],
      "metadata": {
        "id": "eEsIXDzhqTHa"
      },
      "execution_count": 160,
      "outputs": []
    },
    {
      "cell_type": "markdown",
      "source": [
        "### Ajuste a curva de eficiencia"
      ],
      "metadata": {
        "id": "rnJVbRApkw6Z"
      }
    },
    {
      "cell_type": "markdown",
      "source": [
        "Ajusto con los datos sólo del espectro de Eu152."
      ],
      "metadata": {
        "id": "JEjYg4H1rOyp"
      }
    },
    {
      "cell_type": "code",
      "source": [
        "data_dfon.fit_eff(grado = 1, graph = True)"
      ],
      "metadata": {
        "colab": {
          "base_uri": "https://localhost:8080/",
          "height": 507
        },
        "id": "O5FNwqgrrKz4",
        "outputId": "0848ba3b-358e-4f7c-e307-2338e5cce86f"
      },
      "execution_count": 161,
      "outputs": [
        {
          "output_type": "display_data",
          "data": {
            "text/plain": [
              "<Figure size 500x500 with 1 Axes>"
            ],
            "image/png": "[encoded data removed]"
          },
          "metadata": {}
        }
      ]
    },
    {
      "cell_type": "markdown",
      "source": [
        "### Reporte Eficiencia"
      ],
      "metadata": {
        "id": "aTJdlmrpnJFR"
      }
    },
    {
      "cell_type": "markdown",
      "source": [
        "La bondad del ajuste puede obtenerse por el método `eff_goodness`. Los residuos se pueden ver con el método `eff_residuos`. Los coeficientes están en la tabla de `eff_coef_tabla`, siendo la ec. lineal  $ln{\\text{Eff}} = a_1\\cdot ln{E} + a_0$."
      ],
      "metadata": {
        "id": "erZRzNforgjp"
      }
    },
    {
      "cell_type": "code",
      "source": [
        "data_dfon.eff_goodness"
      ],
      "metadata": {
        "colab": {
          "base_uri": "https://localhost:8080/",
          "height": 175
        },
        "id": "MRuh2ET9rbhr",
        "outputId": "acbff616-f2b0-4c87-9094-4c0a73e51b08"
      },
      "execution_count": 162,
      "outputs": [
        {
          "output_type": "execute_result",
          "data": {
            "text/plain": [
              "         goodness of fit\n",
              "chi^2           0.587312\n",
              "p-value         0.988577\n",
              "ddof            5.000000\n",
              "R^2             0.999487"
            ],
            "text/html": [
              "\n",
              "  <div id=\"df-211e33fe-d528-4c44-85e4-51c7a549d3c2\" class=\"colab-df-container\">\n",
              "    <div>\n",
              "<style scoped>\n",
              "    .dataframe tbody tr th:only-of-type {\n",
              "        vertical-align: middle;\n",
              "    }\n",
              "\n",
              "    .dataframe tbody tr th {\n",
              "        vertical-align: top;\n",
              "    }\n",
              "\n",
              "    .dataframe thead th {\n",
              "        text-align: right;\n",
              "    }\n",
              "</style>\n",
              "<table border=\"1\" class=\"dataframe\">\n",
              "  <thead>\n",
              "    <tr style=\"text-align: right;\">\n",
              "      <th></th>\n",
              "      <th>goodness of fit</th>\n",
              "    </tr>\n",
              "  </thead>\n",
              "  <tbody>\n",
              "    <tr>\n",
              "      <th>chi^2</th>\n",
              "      <td>0.587312</td>\n",
              "    </tr>\n",
              "    <tr>\n",
              "      <th>p-value</th>\n",
              "      <td>0.988577</td>\n",
              "    </tr>\n",
              "    <tr>\n",
              "      <th>ddof</th>\n",
              "      <td>5.000000</td>\n",
              "    </tr>\n",
              "    <tr>\n",
              "      <th>R^2</th>\n",
              "      <td>0.999487</td>\n",
              "    </tr>\n",
              "  </tbody>\n",
              "</table>\n",
              "</div>\n",
              "    <div class=\"colab-df-buttons\">\n",
              "\n",
              "  <div class=\"colab-df-container\">\n",
              "    <button class=\"colab-df-convert\" onclick=\"convertToInteractive('df-211e33fe-d528-4c44-85e4-51c7a549d3c2')\"\n",
              "            title=\"Convert this dataframe to an interactive table.\"\n",
              "            style=\"display:none;\">\n",
              "\n",
              "  <svg xmlns=\"http://www.w3.org/2000/svg\" height=\"24px\" viewBox=\"0 -960 960 960\">\n",
              "    <path d=\"M120-120v-720h720v720H120Zm60-500h600v-160H180v160Zm220 220h160v-160H400v160Zm0 220h160v-160H400v160ZM180-400h160v-160H180v160Zm440 0h160v-160H620v160ZM180-180h160v-160H180v160Zm440 0h160v-160H620v160Z\"/>\n",
              "  </svg>\n",
              "    </button>\n",
              "\n",
              "  <style>\n",
              "    .colab-df-container {\n",
              "      display:flex;\n",
              "      gap: 12px;\n",
              "    }\n",
              "\n",
              "    .colab-df-convert {\n",
              "      background-color: #E8F0FE;\n",
              "      border: none;\n",
              "      border-radius: 50%;\n",
              "      cursor: pointer;\n",
              "      display: none;\n",
              "      fill: #1967D2;\n",
              "      height: 32px;\n",
              "      padding: 0 0 0 0;\n",
              "      width: 32px;\n",
              "    }\n",
              "\n",
              "    .colab-df-convert:hover {\n",
              "      background-color: #E2EBFA;\n",
              "      box-shadow: 0px 1px 2px rgba(60, 64, 67, 0.3), 0px 1px 3px 1px rgba(60, 64, 67, 0.15);\n",
              "      fill: #174EA6;\n",
              "    }\n",
              "\n",
              "    .colab-df-buttons div {\n",
              "      margin-bottom: 4px;\n",
              "    }\n",
              "\n",
              "    [theme=dark] .colab-df-convert {\n",
              "      background-color: #3B4455;\n",
              "      fill: #D2E3FC;\n",
              "    }\n",
              "\n",
              "    [theme=dark] .colab-df-convert:hover {\n",
              "      background-color: #434B5C;\n",
              "      box-shadow: 0px 1px 3px 1px rgba(0, 0, 0, 0.15);\n",
              "      filter: drop-shadow(0px 1px 2px rgba(0, 0, 0, 0.3));\n",
              "      fill: #FFFFFF;\n",
              "    }\n",
              "  </style>\n",
              "\n",
              "    <script>\n",
              "      const buttonEl =\n",
              "        document.querySelector('#df-211e33fe-d528-4c44-85e4-51c7a549d3c2 button.colab-df-convert');\n",
              "      buttonEl.style.display =\n",
              "        google.colab.kernel.accessAllowed ? 'block' : 'none';\n",
              "\n",
              "      async function convertToInteractive(key) {\n",
              "        const element = document.querySelector('#df-211e33fe-d528-4c44-85e4-51c7a549d3c2');\n",
              "        const dataTable =\n",
              "          await google.colab.kernel.invokeFunction('convertToInteractive',\n",
              "                                                    [key], {});\n",
              "        if (!dataTable) return;\n",
              "\n",
              "        const docLinkHtml = 'Like what you see? Visit the ' +\n",
              "          '<a target=\"_blank\" href=https://colab.research.google.com/notebooks/data_table.ipynb>data table notebook</a>'\n",
              "          + ' to learn more about interactive tables.';\n",
              "        element.innerHTML = '';\n",
              "        dataTable['output_type'] = 'display_data';\n",
              "        await google.colab.output.renderOutput(dataTable, element);\n",
              "        const docLink = document.createElement('div');\n",
              "        docLink.innerHTML = docLinkHtml;\n",
              "        element.appendChild(docLink);\n",
              "      }\n",
              "    </script>\n",
              "  </div>\n",
              "\n",
              "\n",
              "    <div id=\"df-03464da6-780b-4c49-9f23-83269ca65ee7\">\n",
              "      <button class=\"colab-df-quickchart\" onclick=\"quickchart('df-03464da6-780b-4c49-9f23-83269ca65ee7')\"\n",
              "                title=\"Suggest charts\"\n",
              "                style=\"display:none;\">\n",
              "\n",
              "<svg xmlns=\"http://www.w3.org/2000/svg\" height=\"24px\"viewBox=\"0 0 24 24\"\n",
              "     width=\"24px\">\n",
              "    <g>\n",
              "        <path d=\"M19 3H5c-1.1 0-2 .9-2 2v14c0 1.1.9 2 2 2h14c1.1 0 2-.9 2-2V5c0-1.1-.9-2-2-2zM9 17H7v-7h2v7zm4 0h-2V7h2v10zm4 0h-2v-4h2v4z\"/>\n",
              "    </g>\n",
              "</svg>\n",
              "      </button>\n",
              "\n",
              "<style>\n",
              "  .colab-df-quickchart {\n",
              "      --bg-color: #E8F0FE;\n",
              "      --fill-color: #1967D2;\n",
              "      --hover-bg-color: #E2EBFA;\n",
              "      --hover-fill-color: #174EA6;\n",
              "      --disabled-fill-color: #AAA;\n",
              "      --disabled-bg-color: #DDD;\n",
              "  }\n",
              "\n",
              "  [theme=dark] .colab-df-quickchart {\n",
              "      --bg-color: #3B4455;\n",
              "      --fill-color: #D2E3FC;\n",
              "      --hover-bg-color: #434B5C;\n",
              "      --hover-fill-color: #FFFFFF;\n",
              "      --disabled-bg-color: #3B4455;\n",
              "      --disabled-fill-color: #666;\n",
              "  }\n",
              "\n",
              "  .colab-df-quickchart {\n",
              "    background-color: var(--bg-color);\n",
              "    border: none;\n",
              "    border-radius: 50%;\n",
              "    cursor: pointer;\n",
              "    display: none;\n",
              "    fill: var(--fill-color);\n",
              "    height: 32px;\n",
              "    padding: 0;\n",
              "    width: 32px;\n",
              "  }\n",
              "\n",
              "  .colab-df-quickchart:hover {\n",
              "    background-color: var(--hover-bg-color);\n",
              "    box-shadow: 0 1px 2px rgba(60, 64, 67, 0.3), 0 1px 3px 1px rgba(60, 64, 67, 0.15);\n",
              "    fill: var(--button-hover-fill-color);\n",
              "  }\n",
              "\n",
              "  .colab-df-quickchart-complete:disabled,\n",
              "  .colab-df-quickchart-complete:disabled:hover {\n",
              "    background-color: var(--disabled-bg-color);\n",
              "    fill: var(--disabled-fill-color);\n",
              "    box-shadow: none;\n",
              "  }\n",
              "\n",
              "  .colab-df-spinner {\n",
              "    border: 2px solid var(--fill-color);\n",
              "    border-color: transparent;\n",
              "    border-bottom-color: var(--fill-color);\n",
              "    animation:\n",
              "      spin 1s steps(1) infinite;\n",
              "  }\n",
              "\n",
              "  @keyframes spin {\n",
              "    0% {\n",
              "      border-color: transparent;\n",
              "      border-bottom-color: var(--fill-color);\n",
              "      border-left-color: var(--fill-color);\n",
              "    }\n",
              "    20% {\n",
              "      border-color: transparent;\n",
              "      border-left-color: var(--fill-color);\n",
              "      border-top-color: var(--fill-color);\n",
              "    }\n",
              "    30% {\n",
              "      border-color: transparent;\n",
              "      border-left-color: var(--fill-color);\n",
              "      border-top-color: var(--fill-color);\n",
              "      border-right-color: var(--fill-color);\n",
              "    }\n",
              "    40% {\n",
              "      border-color: transparent;\n",
              "      border-right-color: var(--fill-color);\n",
              "      border-top-color: var(--fill-color);\n",
              "    }\n",
              "    60% {\n",
              "      border-color: transparent;\n",
              "      border-right-color: var(--fill-color);\n",
              "    }\n",
              "    80% {\n",
              "      border-color: transparent;\n",
              "      border-right-color: var(--fill-color);\n",
              "      border-bottom-color: var(--fill-color);\n",
              "    }\n",
              "    90% {\n",
              "      border-color: transparent;\n",
              "      border-bottom-color: var(--fill-color);\n",
              "    }\n",
              "  }\n",
              "</style>\n",
              "\n",
              "      <script>\n",
              "        async function quickchart(key) {\n",
              "          const quickchartButtonEl =\n",
              "            document.querySelector('#' + key + ' button');\n",
              "          quickchartButtonEl.disabled = true;  // To prevent multiple clicks.\n",
              "          quickchartButtonEl.classList.add('colab-df-spinner');\n",
              "          try {\n",
              "            const charts = await google.colab.kernel.invokeFunction(\n",
              "                'suggestCharts', [key], {});\n",
              "          } catch (error) {\n",
              "            console.error('Error during call to suggestCharts:', error);\n",
              "          }\n",
              "          quickchartButtonEl.classList.remove('colab-df-spinner');\n",
              "          quickchartButtonEl.classList.add('colab-df-quickchart-complete');\n",
              "        }\n",
              "        (() => {\n",
              "          let quickchartButtonEl =\n",
              "            document.querySelector('#df-03464da6-780b-4c49-9f23-83269ca65ee7 button');\n",
              "          quickchartButtonEl.style.display =\n",
              "            google.colab.kernel.accessAllowed ? 'block' : 'none';\n",
              "        })();\n",
              "      </script>\n",
              "    </div>\n",
              "\n",
              "    </div>\n",
              "  </div>\n"
            ],
            "application/vnd.google.colaboratory.intrinsic+json": {
              "type": "dataframe",
              "summary": "{\n  \"name\": \"data_dfon\",\n  \"rows\": 4,\n  \"fields\": [\n    {\n      \"column\": \"goodness of fit\",\n      \"properties\": {\n        \"dtype\": \"number\",\n        \"std\": 2.079632532714092,\n        \"min\": 0.5873121175024862,\n        \"max\": 5.0,\n        \"num_unique_values\": 4,\n        \"samples\": [\n          0.9885767899198804,\n          0.9994866690613012,\n          0.5873121175024862\n        ],\n        \"semantic_type\": \"\",\n        \"description\": \"\"\n      }\n    }\n  ]\n}"
            }
          },
          "metadata": {},
          "execution_count": 162
        }
      ]
    },
    {
      "cell_type": "code",
      "source": [
        "print('Coeficientes: \\n')\n",
        "pd.DataFrame(data_dfon.eff_coef_tabla, columns = ['mean', 'error'], index = ['a1', 'a0'])"
      ],
      "metadata": {
        "colab": {
          "base_uri": "https://localhost:8080/",
          "height": 148
        },
        "id": "zi_lahARmIiE",
        "outputId": "edd8964b-efa5-41ca-b452-b9afcf9f73de"
      },
      "execution_count": 163,
      "outputs": [
        {
          "output_type": "stream",
          "name": "stdout",
          "text": [
            "Coeficientes: \n",
            "\n"
          ]
        },
        {
          "output_type": "execute_result",
          "data": {
            "text/plain": [
              "        mean     error\n",
              "a1 -0.720753  0.020196\n",
              "a0 -1.147574  0.132733"
            ],
            "text/html": [
              "\n",
              "  <div id=\"df-21920d3a-0c42-4212-a91b-4c51c702dfd9\" class=\"colab-df-container\">\n",
              "    <div>\n",
              "<style scoped>\n",
              "    .dataframe tbody tr th:only-of-type {\n",
              "        vertical-align: middle;\n",
              "    }\n",
              "\n",
              "    .dataframe tbody tr th {\n",
              "        vertical-align: top;\n",
              "    }\n",
              "\n",
              "    .dataframe thead th {\n",
              "        text-align: right;\n",
              "    }\n",
              "</style>\n",
              "<table border=\"1\" class=\"dataframe\">\n",
              "  <thead>\n",
              "    <tr style=\"text-align: right;\">\n",
              "      <th></th>\n",
              "      <th>mean</th>\n",
              "      <th>error</th>\n",
              "    </tr>\n",
              "  </thead>\n",
              "  <tbody>\n",
              "    <tr>\n",
              "      <th>a1</th>\n",
              "      <td>-0.720753</td>\n",
              "      <td>0.020196</td>\n",
              "    </tr>\n",
              "    <tr>\n",
              "      <th>a0</th>\n",
              "      <td>-1.147574</td>\n",
              "      <td>0.132733</td>\n",
              "    </tr>\n",
              "  </tbody>\n",
              "</table>\n",
              "</div>\n",
              "    <div class=\"colab-df-buttons\">\n",
              "\n",
              "  <div class=\"colab-df-container\">\n",
              "    <button class=\"colab-df-convert\" onclick=\"convertToInteractive('df-21920d3a-0c42-4212-a91b-4c51c702dfd9')\"\n",
              "            title=\"Convert this dataframe to an interactive table.\"\n",
              "            style=\"display:none;\">\n",
              "\n",
              "  <svg xmlns=\"http://www.w3.org/2000/svg\" height=\"24px\" viewBox=\"0 -960 960 960\">\n",
              "    <path d=\"M120-120v-720h720v720H120Zm60-500h600v-160H180v160Zm220 220h160v-160H400v160Zm0 220h160v-160H400v160ZM180-400h160v-160H180v160Zm440 0h160v-160H620v160ZM180-180h160v-160H180v160Zm440 0h160v-160H620v160Z\"/>\n",
              "  </svg>\n",
              "    </button>\n",
              "\n",
              "  <style>\n",
              "    .colab-df-container {\n",
              "      display:flex;\n",
              "      gap: 12px;\n",
              "    }\n",
              "\n",
              "    .colab-df-convert {\n",
              "      background-color: #E8F0FE;\n",
              "      border: none;\n",
              "      border-radius: 50%;\n",
              "      cursor: pointer;\n",
              "      display: none;\n",
              "      fill: #1967D2;\n",
              "      height: 32px;\n",
              "      padding: 0 0 0 0;\n",
              "      width: 32px;\n",
              "    }\n",
              "\n",
              "    .colab-df-convert:hover {\n",
              "      background-color: #E2EBFA;\n",
              "      box-shadow: 0px 1px 2px rgba(60, 64, 67, 0.3), 0px 1px 3px 1px rgba(60, 64, 67, 0.15);\n",
              "      fill: #174EA6;\n",
              "    }\n",
              "\n",
              "    .colab-df-buttons div {\n",
              "      margin-bottom: 4px;\n",
              "    }\n",
              "\n",
              "    [theme=dark] .colab-df-convert {\n",
              "      background-color: #3B4455;\n",
              "      fill: #D2E3FC;\n",
              "    }\n",
              "\n",
              "    [theme=dark] .colab-df-convert:hover {\n",
              "      background-color: #434B5C;\n",
              "      box-shadow: 0px 1px 3px 1px rgba(0, 0, 0, 0.15);\n",
              "      filter: drop-shadow(0px 1px 2px rgba(0, 0, 0, 0.3));\n",
              "      fill: #FFFFFF;\n",
              "    }\n",
              "  </style>\n",
              "\n",
              "    <script>\n",
              "      const buttonEl =\n",
              "        document.querySelector('#df-21920d3a-0c42-4212-a91b-4c51c702dfd9 button.colab-df-convert');\n",
              "      buttonEl.style.display =\n",
              "        google.colab.kernel.accessAllowed ? 'block' : 'none';\n",
              "\n",
              "      async function convertToInteractive(key) {\n",
              "        const element = document.querySelector('#df-21920d3a-0c42-4212-a91b-4c51c702dfd9');\n",
              "        const dataTable =\n",
              "          await google.colab.kernel.invokeFunction('convertToInteractive',\n",
              "                                                    [key], {});\n",
              "        if (!dataTable) return;\n",
              "\n",
              "        const docLinkHtml = 'Like what you see? Visit the ' +\n",
              "          '<a target=\"_blank\" href=https://colab.research.google.com/notebooks/data_table.ipynb>data table notebook</a>'\n",
              "          + ' to learn more about interactive tables.';\n",
              "        element.innerHTML = '';\n",
              "        dataTable['output_type'] = 'display_data';\n",
              "        await google.colab.output.renderOutput(dataTable, element);\n",
              "        const docLink = document.createElement('div');\n",
              "        docLink.innerHTML = docLinkHtml;\n",
              "        element.appendChild(docLink);\n",
              "      }\n",
              "    </script>\n",
              "  </div>\n",
              "\n",
              "\n",
              "    <div id=\"df-bdf13ac7-5160-4e20-b1c0-641e86c20ae8\">\n",
              "      <button class=\"colab-df-quickchart\" onclick=\"quickchart('df-bdf13ac7-5160-4e20-b1c0-641e86c20ae8')\"\n",
              "                title=\"Suggest charts\"\n",
              "                style=\"display:none;\">\n",
              "\n",
              "<svg xmlns=\"http://www.w3.org/2000/svg\" height=\"24px\"viewBox=\"0 0 24 24\"\n",
              "     width=\"24px\">\n",
              "    <g>\n",
              "        <path d=\"M19 3H5c-1.1 0-2 .9-2 2v14c0 1.1.9 2 2 2h14c1.1 0 2-.9 2-2V5c0-1.1-.9-2-2-2zM9 17H7v-7h2v7zm4 0h-2V7h2v10zm4 0h-2v-4h2v4z\"/>\n",
              "    </g>\n",
              "</svg>\n",
              "      </button>\n",
              "\n",
              "<style>\n",
              "  .colab-df-quickchart {\n",
              "      --bg-color: #E8F0FE;\n",
              "      --fill-color: #1967D2;\n",
              "      --hover-bg-color: #E2EBFA;\n",
              "      --hover-fill-color: #174EA6;\n",
              "      --disabled-fill-color: #AAA;\n",
              "      --disabled-bg-color: #DDD;\n",
              "  }\n",
              "\n",
              "  [theme=dark] .colab-df-quickchart {\n",
              "      --bg-color: #3B4455;\n",
              "      --fill-color: #D2E3FC;\n",
              "      --hover-bg-color: #434B5C;\n",
              "      --hover-fill-color: #FFFFFF;\n",
              "      --disabled-bg-color: #3B4455;\n",
              "      --disabled-fill-color: #666;\n",
              "  }\n",
              "\n",
              "  .colab-df-quickchart {\n",
              "    background-color: var(--bg-color);\n",
              "    border: none;\n",
              "    border-radius: 50%;\n",
              "    cursor: pointer;\n",
              "    display: none;\n",
              "    fill: var(--fill-color);\n",
              "    height: 32px;\n",
              "    padding: 0;\n",
              "    width: 32px;\n",
              "  }\n",
              "\n",
              "  .colab-df-quickchart:hover {\n",
              "    background-color: var(--hover-bg-color);\n",
              "    box-shadow: 0 1px 2px rgba(60, 64, 67, 0.3), 0 1px 3px 1px rgba(60, 64, 67, 0.15);\n",
              "    fill: var(--button-hover-fill-color);\n",
              "  }\n",
              "\n",
              "  .colab-df-quickchart-complete:disabled,\n",
              "  .colab-df-quickchart-complete:disabled:hover {\n",
              "    background-color: var(--disabled-bg-color);\n",
              "    fill: var(--disabled-fill-color);\n",
              "    box-shadow: none;\n",
              "  }\n",
              "\n",
              "  .colab-df-spinner {\n",
              "    border: 2px solid var(--fill-color);\n",
              "    border-color: transparent;\n",
              "    border-bottom-color: var(--fill-color);\n",
              "    animation:\n",
              "      spin 1s steps(1) infinite;\n",
              "  }\n",
              "\n",
              "  @keyframes spin {\n",
              "    0% {\n",
              "      border-color: transparent;\n",
              "      border-bottom-color: var(--fill-color);\n",
              "      border-left-color: var(--fill-color);\n",
              "    }\n",
              "    20% {\n",
              "      border-color: transparent;\n",
              "      border-left-color: var(--fill-color);\n",
              "      border-top-color: var(--fill-color);\n",
              "    }\n",
              "    30% {\n",
              "      border-color: transparent;\n",
              "      border-left-color: var(--fill-color);\n",
              "      border-top-color: var(--fill-color);\n",
              "      border-right-color: var(--fill-color);\n",
              "    }\n",
              "    40% {\n",
              "      border-color: transparent;\n",
              "      border-right-color: var(--fill-color);\n",
              "      border-top-color: var(--fill-color);\n",
              "    }\n",
              "    60% {\n",
              "      border-color: transparent;\n",
              "      border-right-color: var(--fill-color);\n",
              "    }\n",
              "    80% {\n",
              "      border-color: transparent;\n",
              "      border-right-color: var(--fill-color);\n",
              "      border-bottom-color: var(--fill-color);\n",
              "    }\n",
              "    90% {\n",
              "      border-color: transparent;\n",
              "      border-bottom-color: var(--fill-color);\n",
              "    }\n",
              "  }\n",
              "</style>\n",
              "\n",
              "      <script>\n",
              "        async function quickchart(key) {\n",
              "          const quickchartButtonEl =\n",
              "            document.querySelector('#' + key + ' button');\n",
              "          quickchartButtonEl.disabled = true;  // To prevent multiple clicks.\n",
              "          quickchartButtonEl.classList.add('colab-df-spinner');\n",
              "          try {\n",
              "            const charts = await google.colab.kernel.invokeFunction(\n",
              "                'suggestCharts', [key], {});\n",
              "          } catch (error) {\n",
              "            console.error('Error during call to suggestCharts:', error);\n",
              "          }\n",
              "          quickchartButtonEl.classList.remove('colab-df-spinner');\n",
              "          quickchartButtonEl.classList.add('colab-df-quickchart-complete');\n",
              "        }\n",
              "        (() => {\n",
              "          let quickchartButtonEl =\n",
              "            document.querySelector('#df-bdf13ac7-5160-4e20-b1c0-641e86c20ae8 button');\n",
              "          quickchartButtonEl.style.display =\n",
              "            google.colab.kernel.accessAllowed ? 'block' : 'none';\n",
              "        })();\n",
              "      </script>\n",
              "    </div>\n",
              "\n",
              "    </div>\n",
              "  </div>\n"
            ],
            "application/vnd.google.colaboratory.intrinsic+json": {
              "type": "dataframe",
              "summary": "{\n  \"name\": \"pd\",\n  \"rows\": 2,\n  \"fields\": [\n    {\n      \"column\": \"mean\",\n      \"properties\": {\n        \"dtype\": \"number\",\n        \"std\": 0.301807567434378,\n        \"min\": -1.1475735241773108,\n        \"max\": -0.720753169084781,\n        \"num_unique_values\": 2,\n        \"samples\": [\n          -1.1475735241773108,\n          -0.720753169084781\n        ],\n        \"semantic_type\": \"\",\n        \"description\": \"\"\n      }\n    },\n    {\n      \"column\": \"error\",\n      \"properties\": {\n        \"dtype\": \"number\",\n        \"std\": 0.07957565596373146,\n        \"min\": 0.02019587099998338,\n        \"max\": 0.13273284289862788,\n        \"num_unique_values\": 2,\n        \"samples\": [\n          0.13273284289862788,\n          0.02019587099998338\n        ],\n        \"semantic_type\": \"\",\n        \"description\": \"\"\n      }\n    }\n  ]\n}"
            }
          },
          "metadata": {},
          "execution_count": 163
        }
      ]
    },
    {
      "cell_type": "code",
      "source": [
        "print('Residuos:', data_dfon.eff_residuos)"
      ],
      "metadata": {
        "colab": {
          "base_uri": "https://localhost:8080/"
        },
        "id": "RX6nCZX1kUjD",
        "outputId": "b103b790-5042-407a-ecdf-46afbbc9118b"
      },
      "execution_count": 164,
      "outputs": [
        {
          "output_type": "stream",
          "name": "stdout",
          "text": [
            "Residuos: [ 0.00190941  0.00237362 -0.01667752  0.01441133 -0.00086856 -0.00797871\n",
            "  0.00995931]\n"
          ]
        }
      ]
    },
    {
      "cell_type": "markdown",
      "source": [
        "##Picos incógnita - Agregar nuevos puntos"
      ],
      "metadata": {
        "id": "tWuMruvzoILL"
      }
    },
    {
      "cell_type": "markdown",
      "source": [
        "Puedo **agregar los picos de otras fuentes a la curva de eficiencia** (desde la actividad tabulada por el RA-3). Para esto indico la cantidad de nuevos puntos con `n_new`, y el nro de picos por fuente, `npicos`.\n",
        "\n",
        "Es importante que el nombre de los paths de las distintas fuentes tenga el mismo título al principio, y que al final se especifique  (por ejemplo, `path_incog_Co` y `path_incog_Cs`)."
      ],
      "metadata": {
        "id": "U474EjnXt60Z"
      }
    },
    {
      "cell_type": "code",
      "source": [
        "data_dfon.eff_ext(n_new = 3, npicos = {'60Co': 2, '137Cs': 1})"
      ],
      "metadata": {
        "id": "EDRwadQFt3wH"
      },
      "execution_count": 165,
      "outputs": []
    },
    {
      "cell_type": "markdown",
      "source": [
        "La actividad calculada (**método *fuente incógnita***) usando la eficiencia anterior queda guardada, en caso de que se quiera comparar con la tabulada."
      ],
      "metadata": {
        "id": "P5mLCQvJu58X"
      }
    },
    {
      "cell_type": "code",
      "source": [
        "data_dfon.data_act_Co"
      ],
      "metadata": {
        "colab": {
          "base_uri": "https://localhost:8080/",
          "height": 112
        },
        "id": "uPaZ74gO5Rp3",
        "outputId": "7ff7d0d0-bb03-4d77-8203-2d2441e4ac54"
      },
      "execution_count": 166,
      "outputs": [
        {
          "output_type": "execute_result",
          "data": {
            "text/plain": [
              "   Energy [keV]     BR %  BR err %      Act [Bq]  Error Act [Bq]  Diff Tab %\n",
              "0      1332.492  99.9826    0.0006  18383.624418      354.603175    0.570325\n",
              "1      1173.228  99.8500    0.0300  18380.082007      323.656523    0.551054"
            ],
            "text/html": [
              "\n",
              "  <div id=\"df-cdbab309-df58-4791-ac5f-881fde250c32\" class=\"colab-df-container\">\n",
              "    <div>\n",
              "<style scoped>\n",
              "    .dataframe tbody tr th:only-of-type {\n",
              "        vertical-align: middle;\n",
              "    }\n",
              "\n",
              "    .dataframe tbody tr th {\n",
              "        vertical-align: top;\n",
              "    }\n",
              "\n",
              "    .dataframe thead th {\n",
              "        text-align: right;\n",
              "    }\n",
              "</style>\n",
              "<table border=\"1\" class=\"dataframe\">\n",
              "  <thead>\n",
              "    <tr style=\"text-align: right;\">\n",
              "      <th></th>\n",
              "      <th>Energy [keV]</th>\n",
              "      <th>BR %</th>\n",
              "      <th>BR err %</th>\n",
              "      <th>Act [Bq]</th>\n",
              "      <th>Error Act [Bq]</th>\n",
              "      <th>Diff Tab %</th>\n",
              "    </tr>\n",
              "  </thead>\n",
              "  <tbody>\n",
              "    <tr>\n",
              "      <th>0</th>\n",
              "      <td>1332.492</td>\n",
              "      <td>99.9826</td>\n",
              "      <td>0.0006</td>\n",
              "      <td>18383.624418</td>\n",
              "      <td>354.603175</td>\n",
              "      <td>0.570325</td>\n",
              "    </tr>\n",
              "    <tr>\n",
              "      <th>1</th>\n",
              "      <td>1173.228</td>\n",
              "      <td>99.8500</td>\n",
              "      <td>0.0300</td>\n",
              "      <td>18380.082007</td>\n",
              "      <td>323.656523</td>\n",
              "      <td>0.551054</td>\n",
              "    </tr>\n",
              "  </tbody>\n",
              "</table>\n",
              "</div>\n",
              "    <div class=\"colab-df-buttons\">\n",
              "\n",
              "  <div class=\"colab-df-container\">\n",
              "    <button class=\"colab-df-convert\" onclick=\"convertToInteractive('df-cdbab309-df58-4791-ac5f-881fde250c32')\"\n",
              "            title=\"Convert this dataframe to an interactive table.\"\n",
              "            style=\"display:none;\">\n",
              "\n",
              "  <svg xmlns=\"http://www.w3.org/2000/svg\" height=\"24px\" viewBox=\"0 -960 960 960\">\n",
              "    <path d=\"M120-120v-720h720v720H120Zm60-500h600v-160H180v160Zm220 220h160v-160H400v160Zm0 220h160v-160H400v160ZM180-400h160v-160H180v160Zm440 0h160v-160H620v160ZM180-180h160v-160H180v160Zm440 0h160v-160H620v160Z\"/>\n",
              "  </svg>\n",
              "    </button>\n",
              "\n",
              "  <style>\n",
              "    .colab-df-container {\n",
              "      display:flex;\n",
              "      gap: 12px;\n",
              "    }\n",
              "\n",
              "    .colab-df-convert {\n",
              "      background-color: #E8F0FE;\n",
              "      border: none;\n",
              "      border-radius: 50%;\n",
              "      cursor: pointer;\n",
              "      display: none;\n",
              "      fill: #1967D2;\n",
              "      height: 32px;\n",
              "      padding: 0 0 0 0;\n",
              "      width: 32px;\n",
              "    }\n",
              "\n",
              "    .colab-df-convert:hover {\n",
              "      background-color: #E2EBFA;\n",
              "      box-shadow: 0px 1px 2px rgba(60, 64, 67, 0.3), 0px 1px 3px 1px rgba(60, 64, 67, 0.15);\n",
              "      fill: #174EA6;\n",
              "    }\n",
              "\n",
              "    .colab-df-buttons div {\n",
              "      margin-bottom: 4px;\n",
              "    }\n",
              "\n",
              "    [theme=dark] .colab-df-convert {\n",
              "      background-color: #3B4455;\n",
              "      fill: #D2E3FC;\n",
              "    }\n",
              "\n",
              "    [theme=dark] .colab-df-convert:hover {\n",
              "      background-color: #434B5C;\n",
              "      box-shadow: 0px 1px 3px 1px rgba(0, 0, 0, 0.15);\n",
              "      filter: drop-shadow(0px 1px 2px rgba(0, 0, 0, 0.3));\n",
              "      fill: #FFFFFF;\n",
              "    }\n",
              "  </style>\n",
              "\n",
              "    <script>\n",
              "      const buttonEl =\n",
              "        document.querySelector('#df-cdbab309-df58-4791-ac5f-881fde250c32 button.colab-df-convert');\n",
              "      buttonEl.style.display =\n",
              "        google.colab.kernel.accessAllowed ? 'block' : 'none';\n",
              "\n",
              "      async function convertToInteractive(key) {\n",
              "        const element = document.querySelector('#df-cdbab309-df58-4791-ac5f-881fde250c32');\n",
              "        const dataTable =\n",
              "          await google.colab.kernel.invokeFunction('convertToInteractive',\n",
              "                                                    [key], {});\n",
              "        if (!dataTable) return;\n",
              "\n",
              "        const docLinkHtml = 'Like what you see? Visit the ' +\n",
              "          '<a target=\"_blank\" href=https://colab.research.google.com/notebooks/data_table.ipynb>data table notebook</a>'\n",
              "          + ' to learn more about interactive tables.';\n",
              "        element.innerHTML = '';\n",
              "        dataTable['output_type'] = 'display_data';\n",
              "        await google.colab.output.renderOutput(dataTable, element);\n",
              "        const docLink = document.createElement('div');\n",
              "        docLink.innerHTML = docLinkHtml;\n",
              "        element.appendChild(docLink);\n",
              "      }\n",
              "    </script>\n",
              "  </div>\n",
              "\n",
              "\n",
              "    <div id=\"df-a03a5598-0449-4dcd-890d-2dc1f1b03b1f\">\n",
              "      <button class=\"colab-df-quickchart\" onclick=\"quickchart('df-a03a5598-0449-4dcd-890d-2dc1f1b03b1f')\"\n",
              "                title=\"Suggest charts\"\n",
              "                style=\"display:none;\">\n",
              "\n",
              "<svg xmlns=\"http://www.w3.org/2000/svg\" height=\"24px\"viewBox=\"0 0 24 24\"\n",
              "     width=\"24px\">\n",
              "    <g>\n",
              "        <path d=\"M19 3H5c-1.1 0-2 .9-2 2v14c0 1.1.9 2 2 2h14c1.1 0 2-.9 2-2V5c0-1.1-.9-2-2-2zM9 17H7v-7h2v7zm4 0h-2V7h2v10zm4 0h-2v-4h2v4z\"/>\n",
              "    </g>\n",
              "</svg>\n",
              "      </button>\n",
              "\n",
              "<style>\n",
              "  .colab-df-quickchart {\n",
              "      --bg-color: #E8F0FE;\n",
              "      --fill-color: #1967D2;\n",
              "      --hover-bg-color: #E2EBFA;\n",
              "      --hover-fill-color: #174EA6;\n",
              "      --disabled-fill-color: #AAA;\n",
              "      --disabled-bg-color: #DDD;\n",
              "  }\n",
              "\n",
              "  [theme=dark] .colab-df-quickchart {\n",
              "      --bg-color: #3B4455;\n",
              "      --fill-color: #D2E3FC;\n",
              "      --hover-bg-color: #434B5C;\n",
              "      --hover-fill-color: #FFFFFF;\n",
              "      --disabled-bg-color: #3B4455;\n",
              "      --disabled-fill-color: #666;\n",
              "  }\n",
              "\n",
              "  .colab-df-quickchart {\n",
              "    background-color: var(--bg-color);\n",
              "    border: none;\n",
              "    border-radius: 50%;\n",
              "    cursor: pointer;\n",
              "    display: none;\n",
              "    fill: var(--fill-color);\n",
              "    height: 32px;\n",
              "    padding: 0;\n",
              "    width: 32px;\n",
              "  }\n",
              "\n",
              "  .colab-df-quickchart:hover {\n",
              "    background-color: var(--hover-bg-color);\n",
              "    box-shadow: 0 1px 2px rgba(60, 64, 67, 0.3), 0 1px 3px 1px rgba(60, 64, 67, 0.15);\n",
              "    fill: var(--button-hover-fill-color);\n",
              "  }\n",
              "\n",
              "  .colab-df-quickchart-complete:disabled,\n",
              "  .colab-df-quickchart-complete:disabled:hover {\n",
              "    background-color: var(--disabled-bg-color);\n",
              "    fill: var(--disabled-fill-color);\n",
              "    box-shadow: none;\n",
              "  }\n",
              "\n",
              "  .colab-df-spinner {\n",
              "    border: 2px solid var(--fill-color);\n",
              "    border-color: transparent;\n",
              "    border-bottom-color: var(--fill-color);\n",
              "    animation:\n",
              "      spin 1s steps(1) infinite;\n",
              "  }\n",
              "\n",
              "  @keyframes spin {\n",
              "    0% {\n",
              "      border-color: transparent;\n",
              "      border-bottom-color: var(--fill-color);\n",
              "      border-left-color: var(--fill-color);\n",
              "    }\n",
              "    20% {\n",
              "      border-color: transparent;\n",
              "      border-left-color: var(--fill-color);\n",
              "      border-top-color: var(--fill-color);\n",
              "    }\n",
              "    30% {\n",
              "      border-color: transparent;\n",
              "      border-left-color: var(--fill-color);\n",
              "      border-top-color: var(--fill-color);\n",
              "      border-right-color: var(--fill-color);\n",
              "    }\n",
              "    40% {\n",
              "      border-color: transparent;\n",
              "      border-right-color: var(--fill-color);\n",
              "      border-top-color: var(--fill-color);\n",
              "    }\n",
              "    60% {\n",
              "      border-color: transparent;\n",
              "      border-right-color: var(--fill-color);\n",
              "    }\n",
              "    80% {\n",
              "      border-color: transparent;\n",
              "      border-right-color: var(--fill-color);\n",
              "      border-bottom-color: var(--fill-color);\n",
              "    }\n",
              "    90% {\n",
              "      border-color: transparent;\n",
              "      border-bottom-color: var(--fill-color);\n",
              "    }\n",
              "  }\n",
              "</style>\n",
              "\n",
              "      <script>\n",
              "        async function quickchart(key) {\n",
              "          const quickchartButtonEl =\n",
              "            document.querySelector('#' + key + ' button');\n",
              "          quickchartButtonEl.disabled = true;  // To prevent multiple clicks.\n",
              "          quickchartButtonEl.classList.add('colab-df-spinner');\n",
              "          try {\n",
              "            const charts = await google.colab.kernel.invokeFunction(\n",
              "                'suggestCharts', [key], {});\n",
              "          } catch (error) {\n",
              "            console.error('Error during call to suggestCharts:', error);\n",
              "          }\n",
              "          quickchartButtonEl.classList.remove('colab-df-spinner');\n",
              "          quickchartButtonEl.classList.add('colab-df-quickchart-complete');\n",
              "        }\n",
              "        (() => {\n",
              "          let quickchartButtonEl =\n",
              "            document.querySelector('#df-a03a5598-0449-4dcd-890d-2dc1f1b03b1f button');\n",
              "          quickchartButtonEl.style.display =\n",
              "            google.colab.kernel.accessAllowed ? 'block' : 'none';\n",
              "        })();\n",
              "      </script>\n",
              "    </div>\n",
              "\n",
              "    </div>\n",
              "  </div>\n"
            ],
            "application/vnd.google.colaboratory.intrinsic+json": {
              "type": "dataframe",
              "summary": "{\n  \"name\": \"data_dfon\",\n  \"rows\": 2,\n  \"fields\": [\n    {\n      \"column\": \"Energy [keV]\",\n      \"properties\": {\n        \"dtype\": \"number\",\n        \"std\": 112.61665439889423,\n        \"min\": 1173.228,\n        \"max\": 1332.492,\n        \"num_unique_values\": 2,\n        \"samples\": [\n          1173.228,\n          1332.492\n        ],\n        \"semantic_type\": \"\",\n        \"description\": \"\"\n      }\n    },\n    {\n      \"column\": \"BR %\",\n      \"properties\": {\n        \"dtype\": \"number\",\n        \"std\": 0.09376235918534377,\n        \"min\": 99.85,\n        \"max\": 99.9826,\n        \"num_unique_values\": 2,\n        \"samples\": [\n          99.85,\n          99.9826\n        ],\n        \"semantic_type\": \"\",\n        \"description\": \"\"\n      }\n    },\n    {\n      \"column\": \"BR err %\",\n      \"properties\": {\n        \"dtype\": \"number\",\n        \"std\": 0.020788939366884498,\n        \"min\": 0.0006,\n        \"max\": 0.03,\n        \"num_unique_values\": 2,\n        \"samples\": [\n          0.03,\n          0.0006\n        ],\n        \"semantic_type\": \"\",\n        \"description\": \"\"\n      }\n    },\n    {\n      \"column\": \"Act [Bq]\",\n      \"properties\": {\n        \"dtype\": \"number\",\n        \"std\": 2.5048624307100025,\n        \"min\": 18380.08200721517,\n        \"max\": 18383.624417636558,\n        \"num_unique_values\": 2,\n        \"samples\": [\n          18380.08200721517,\n          18383.624417636558\n        ],\n        \"semantic_type\": \"\",\n        \"description\": \"\"\n      }\n    },\n    {\n      \"column\": \"Error Act [Bq]\",\n      \"properties\": {\n        \"dtype\": \"number\",\n        \"std\": 21.882587178143485,\n        \"min\": 323.65652349932566,\n        \"max\": 354.60317506646777,\n        \"num_unique_values\": 2,\n        \"samples\": [\n          323.65652349932566,\n          354.60317506646777\n        ],\n        \"semantic_type\": \"\",\n        \"description\": \"\"\n      }\n    },\n    {\n      \"column\": \"Diff Tab %\",\n      \"properties\": {\n        \"dtype\": \"number\",\n        \"std\": 0.013626715005709321,\n        \"min\": 0.5510538301803556,\n        \"max\": 0.5703249153520227,\n        \"num_unique_values\": 2,\n        \"samples\": [\n          0.5510538301803556,\n          0.5703249153520227\n        ],\n        \"semantic_type\": \"\",\n        \"description\": \"\"\n      }\n    }\n  ]\n}"
            }
          },
          "metadata": {},
          "execution_count": 166
        }
      ]
    },
    {
      "cell_type": "code",
      "source": [
        "print('Respecto a los datos tabulados desde el Lab del RA3:\\n', *act.redondeo(*data_dfon.data_RA3_Co, cs = 3, texto = True), 'Bq')"
      ],
      "metadata": {
        "colab": {
          "base_uri": "https://localhost:8080/"
        },
        "id": "FuBQUmoZ6j2w",
        "outputId": "89be8053-106b-4c7d-c9ac-eff7ad4f371a"
      },
      "execution_count": 168,
      "outputs": [
        {
          "output_type": "stream",
          "name": "stdout",
          "text": [
            "Respecto a los datos tabulados desde el Lab del RA3:\n",
            " 18280 ± 548 Bq\n"
          ]
        }
      ]
    },
    {
      "cell_type": "code",
      "source": [
        "data_dfon.data_act_Cs"
      ],
      "metadata": {
        "colab": {
          "base_uri": "https://localhost:8080/",
          "height": 81
        },
        "id": "zx4XYFC70oLl",
        "outputId": "1b3e8708-a97f-4e00-dae9-40fb6be45550"
      },
      "execution_count": 169,
      "outputs": [
        {
          "output_type": "execute_result",
          "data": {
            "text/plain": [
              "   Energy [keV]  BR %  BR err %       Act [Bq]  Error Act [Bq]  Diff Tab %\n",
              "0       661.657  85.1       0.2  127935.642651      1823.41017    0.824352"
            ],
            "text/html": [
              "\n",
              "  <div id=\"df-751f8d3f-fa75-4063-90fa-3ec52607d273\" class=\"colab-df-container\">\n",
              "    <div>\n",
              "<style scoped>\n",
              "    .dataframe tbody tr th:only-of-type {\n",
              "        vertical-align: middle;\n",
              "    }\n",
              "\n",
              "    .dataframe tbody tr th {\n",
              "        vertical-align: top;\n",
              "    }\n",
              "\n",
              "    .dataframe thead th {\n",
              "        text-align: right;\n",
              "    }\n",
              "</style>\n",
              "<table border=\"1\" class=\"dataframe\">\n",
              "  <thead>\n",
              "    <tr style=\"text-align: right;\">\n",
              "      <th></th>\n",
              "      <th>Energy [keV]</th>\n",
              "      <th>BR %</th>\n",
              "      <th>BR err %</th>\n",
              "      <th>Act [Bq]</th>\n",
              "      <th>Error Act [Bq]</th>\n",
              "      <th>Diff Tab %</th>\n",
              "    </tr>\n",
              "  </thead>\n",
              "  <tbody>\n",
              "    <tr>\n",
              "      <th>0</th>\n",
              "      <td>661.657</td>\n",
              "      <td>85.1</td>\n",
              "      <td>0.2</td>\n",
              "      <td>127935.642651</td>\n",
              "      <td>1823.41017</td>\n",
              "      <td>0.824352</td>\n",
              "    </tr>\n",
              "  </tbody>\n",
              "</table>\n",
              "</div>\n",
              "    <div class=\"colab-df-buttons\">\n",
              "\n",
              "  <div class=\"colab-df-container\">\n",
              "    <button class=\"colab-df-convert\" onclick=\"convertToInteractive('df-751f8d3f-fa75-4063-90fa-3ec52607d273')\"\n",
              "            title=\"Convert this dataframe to an interactive table.\"\n",
              "            style=\"display:none;\">\n",
              "\n",
              "  <svg xmlns=\"http://www.w3.org/2000/svg\" height=\"24px\" viewBox=\"0 -960 960 960\">\n",
              "    <path d=\"M120-120v-720h720v720H120Zm60-500h600v-160H180v160Zm220 220h160v-160H400v160Zm0 220h160v-160H400v160ZM180-400h160v-160H180v160Zm440 0h160v-160H620v160ZM180-180h160v-160H180v160Zm440 0h160v-160H620v160Z\"/>\n",
              "  </svg>\n",
              "    </button>\n",
              "\n",
              "  <style>\n",
              "    .colab-df-container {\n",
              "      display:flex;\n",
              "      gap: 12px;\n",
              "    }\n",
              "\n",
              "    .colab-df-convert {\n",
              "      background-color: #E8F0FE;\n",
              "      border: none;\n",
              "      border-radius: 50%;\n",
              "      cursor: pointer;\n",
              "      display: none;\n",
              "      fill: #1967D2;\n",
              "      height: 32px;\n",
              "      padding: 0 0 0 0;\n",
              "      width: 32px;\n",
              "    }\n",
              "\n",
              "    .colab-df-convert:hover {\n",
              "      background-color: #E2EBFA;\n",
              "      box-shadow: 0px 1px 2px rgba(60, 64, 67, 0.3), 0px 1px 3px 1px rgba(60, 64, 67, 0.15);\n",
              "      fill: #174EA6;\n",
              "    }\n",
              "\n",
              "    .colab-df-buttons div {\n",
              "      margin-bottom: 4px;\n",
              "    }\n",
              "\n",
              "    [theme=dark] .colab-df-convert {\n",
              "      background-color: #3B4455;\n",
              "      fill: #D2E3FC;\n",
              "    }\n",
              "\n",
              "    [theme=dark] .colab-df-convert:hover {\n",
              "      background-color: #434B5C;\n",
              "      box-shadow: 0px 1px 3px 1px rgba(0, 0, 0, 0.15);\n",
              "      filter: drop-shadow(0px 1px 2px rgba(0, 0, 0, 0.3));\n",
              "      fill: #FFFFFF;\n",
              "    }\n",
              "  </style>\n",
              "\n",
              "    <script>\n",
              "      const buttonEl =\n",
              "        document.querySelector('#df-751f8d3f-fa75-4063-90fa-3ec52607d273 button.colab-df-convert');\n",
              "      buttonEl.style.display =\n",
              "        google.colab.kernel.accessAllowed ? 'block' : 'none';\n",
              "\n",
              "      async function convertToInteractive(key) {\n",
              "        const element = document.querySelector('#df-751f8d3f-fa75-4063-90fa-3ec52607d273');\n",
              "        const dataTable =\n",
              "          await google.colab.kernel.invokeFunction('convertToInteractive',\n",
              "                                                    [key], {});\n",
              "        if (!dataTable) return;\n",
              "\n",
              "        const docLinkHtml = 'Like what you see? Visit the ' +\n",
              "          '<a target=\"_blank\" href=https://colab.research.google.com/notebooks/data_table.ipynb>data table notebook</a>'\n",
              "          + ' to learn more about interactive tables.';\n",
              "        element.innerHTML = '';\n",
              "        dataTable['output_type'] = 'display_data';\n",
              "        await google.colab.output.renderOutput(dataTable, element);\n",
              "        const docLink = document.createElement('div');\n",
              "        docLink.innerHTML = docLinkHtml;\n",
              "        element.appendChild(docLink);\n",
              "      }\n",
              "    </script>\n",
              "  </div>\n",
              "\n",
              "\n",
              "    </div>\n",
              "  </div>\n"
            ],
            "application/vnd.google.colaboratory.intrinsic+json": {
              "type": "dataframe",
              "summary": "{\n  \"name\": \"data_dfon\",\n  \"rows\": 1,\n  \"fields\": [\n    {\n      \"column\": \"Energy [keV]\",\n      \"properties\": {\n        \"dtype\": \"number\",\n        \"std\": null,\n        \"min\": 661.657,\n        \"max\": 661.657,\n        \"num_unique_values\": 1,\n        \"samples\": [\n          661.657\n        ],\n        \"semantic_type\": \"\",\n        \"description\": \"\"\n      }\n    },\n    {\n      \"column\": \"BR %\",\n      \"properties\": {\n        \"dtype\": \"number\",\n        \"std\": null,\n        \"min\": 85.1,\n        \"max\": 85.1,\n        \"num_unique_values\": 1,\n        \"samples\": [\n          85.1\n        ],\n        \"semantic_type\": \"\",\n        \"description\": \"\"\n      }\n    },\n    {\n      \"column\": \"BR err %\",\n      \"properties\": {\n        \"dtype\": \"number\",\n        \"std\": null,\n        \"min\": 0.2,\n        \"max\": 0.2,\n        \"num_unique_values\": 1,\n        \"samples\": [\n          0.2\n        ],\n        \"semantic_type\": \"\",\n        \"description\": \"\"\n      }\n    },\n    {\n      \"column\": \"Act [Bq]\",\n      \"properties\": {\n        \"dtype\": \"number\",\n        \"std\": null,\n        \"min\": 127935.64265112461,\n        \"max\": 127935.64265112461,\n        \"num_unique_values\": 1,\n        \"samples\": [\n          127935.64265112461\n        ],\n        \"semantic_type\": \"\",\n        \"description\": \"\"\n      }\n    },\n    {\n      \"column\": \"Error Act [Bq]\",\n      \"properties\": {\n        \"dtype\": \"number\",\n        \"std\": null,\n        \"min\": 1823.4101704171276,\n        \"max\": 1823.4101704171276,\n        \"num_unique_values\": 1,\n        \"samples\": [\n          1823.4101704171276\n        ],\n        \"semantic_type\": \"\",\n        \"description\": \"\"\n      }\n    },\n    {\n      \"column\": \"Diff Tab %\",\n      \"properties\": {\n        \"dtype\": \"number\",\n        \"std\": null,\n        \"min\": 0.824352384697969,\n        \"max\": 0.824352384697969,\n        \"num_unique_values\": 1,\n        \"samples\": [\n          0.824352384697969\n        ],\n        \"semantic_type\": \"\",\n        \"description\": \"\"\n      }\n    }\n  ]\n}"
            }
          },
          "metadata": {},
          "execution_count": 169
        }
      ]
    },
    {
      "cell_type": "code",
      "source": [
        "print('Respecto a los datos tabulados desde el Lab del RA3:\\n', *act.redondeo(*data_dfon.data_RA3_Cs, cs = 3, texto = True), 'Bq')"
      ],
      "metadata": {
        "colab": {
          "base_uri": "https://localhost:8080/"
        },
        "id": "FnciGQV37HKc",
        "outputId": "a0ba4d4d-0b73-417c-a647-be31f8aec36f"
      },
      "execution_count": 170,
      "outputs": [
        {
          "output_type": "stream",
          "name": "stdout",
          "text": [
            "Respecto a los datos tabulados desde el Lab del RA3:\n",
            " 126900 ± 3810 Bq\n"
          ]
        }
      ]
    },
    {
      "cell_type": "markdown",
      "source": [
        "**En caso de querer agregar fuentes del mismo isótopo, con distinta activada, medidas en un mismo detector (por ej., Cs137_76072-440 y Cs137_76071-440 en 'DF-ON'), hacer de un paso a la vez**. Por ejemplo:\n",
        "\n",
        "\n",
        "\n",
        "```\n",
        "# data_dfon.eff_ext(n_new = 3, npicos = {'137Cs': 1}, path_name = 'path_add1_')\n",
        "# data_dfon.eff_ext(n_new = 3, npicos = {'137Cs': 1}, path_name = 'path_add2_')\n",
        "```\n",
        "\n",
        "para el que al principio se definen `path_add1_Cs = {'DF-ON': ...}` y `path_add2_Cs = {'DF-ON': ...}`.\n"
      ],
      "metadata": {
        "id": "OlrGaEcWxccS"
      }
    },
    {
      "cell_type": "markdown",
      "source": [
        "##Ajuste con nuevos puntos de eficiencia"
      ],
      "metadata": {
        "id": "paYUVy0LvHDy"
      }
    },
    {
      "cell_type": "markdown",
      "source": [
        "Ajuste con nuevos datos. Se usa el mismo método de antes, ya que los datos en `eff_data` y `eff_err` se renuevan en el paso anterior."
      ],
      "metadata": {
        "id": "IjBo-sT37SmM"
      }
    },
    {
      "cell_type": "code",
      "source": [
        "data_dfon.fit_eff(grado = 1, graph = True)"
      ],
      "metadata": {
        "id": "HVbf1Bvl7RLW",
        "colab": {
          "base_uri": "https://localhost:8080/",
          "height": 507
        },
        "outputId": "c7546804-5884-47eb-db07-cfbfa74397b1"
      },
      "execution_count": 171,
      "outputs": [
        {
          "output_type": "display_data",
          "data": {
            "text/plain": [
              "<Figure size 500x500 with 1 Axes>"
            ],
            "image/png": "[encoded data removed]"
          },
          "metadata": {}
        }
      ]
    },
    {
      "cell_type": "code",
      "source": [
        "data_dfon.eff_goodness"
      ],
      "metadata": {
        "colab": {
          "base_uri": "https://localhost:8080/",
          "height": 175
        },
        "outputId": "c0ebd2d6-51d5-4682-8584-38cb62c43000",
        "id": "LYWrCrXAn3YT"
      },
      "execution_count": 172,
      "outputs": [
        {
          "output_type": "execute_result",
          "data": {
            "text/plain": [
              "         goodness of fit\n",
              "chi^2           0.664459\n",
              "p-value         0.999610\n",
              "ddof            8.000000\n",
              "R^2             0.999539"
            ],
            "text/html": [
              "\n",
              "  <div id=\"df-8bfa9379-689a-4de2-b402-38617ff41698\" class=\"colab-df-container\">\n",
              "    <div>\n",
              "<style scoped>\n",
              "    .dataframe tbody tr th:only-of-type {\n",
              "        vertical-align: middle;\n",
              "    }\n",
              "\n",
              "    .dataframe tbody tr th {\n",
              "        vertical-align: top;\n",
              "    }\n",
              "\n",
              "    .dataframe thead th {\n",
              "        text-align: right;\n",
              "    }\n",
              "</style>\n",
              "<table border=\"1\" class=\"dataframe\">\n",
              "  <thead>\n",
              "    <tr style=\"text-align: right;\">\n",
              "      <th></th>\n",
              "      <th>goodness of fit</th>\n",
              "    </tr>\n",
              "  </thead>\n",
              "  <tbody>\n",
              "    <tr>\n",
              "      <th>chi^2</th>\n",
              "      <td>0.664459</td>\n",
              "    </tr>\n",
              "    <tr>\n",
              "      <th>p-value</th>\n",
              "      <td>0.999610</td>\n",
              "    </tr>\n",
              "    <tr>\n",
              "      <th>ddof</th>\n",
              "      <td>8.000000</td>\n",
              "    </tr>\n",
              "    <tr>\n",
              "      <th>R^2</th>\n",
              "      <td>0.999539</td>\n",
              "    </tr>\n",
              "  </tbody>\n",
              "</table>\n",
              "</div>\n",
              "    <div class=\"colab-df-buttons\">\n",
              "\n",
              "  <div class=\"colab-df-container\">\n",
              "    <button class=\"colab-df-convert\" onclick=\"convertToInteractive('df-8bfa9379-689a-4de2-b402-38617ff41698')\"\n",
              "            title=\"Convert this dataframe to an interactive table.\"\n",
              "            style=\"display:none;\">\n",
              "\n",
              "  <svg xmlns=\"http://www.w3.org/2000/svg\" height=\"24px\" viewBox=\"0 -960 960 960\">\n",
              "    <path d=\"M120-120v-720h720v720H120Zm60-500h600v-160H180v160Zm220 220h160v-160H400v160Zm0 220h160v-160H400v160ZM180-400h160v-160H180v160Zm440 0h160v-160H620v160ZM180-180h160v-160H180v160Zm440 0h160v-160H620v160Z\"/>\n",
              "  </svg>\n",
              "    </button>\n",
              "\n",
              "  <style>\n",
              "    .colab-df-container {\n",
              "      display:flex;\n",
              "      gap: 12px;\n",
              "    }\n",
              "\n",
              "    .colab-df-convert {\n",
              "      background-color: #E8F0FE;\n",
              "      border: none;\n",
              "      border-radius: 50%;\n",
              "      cursor: pointer;\n",
              "      display: none;\n",
              "      fill: #1967D2;\n",
              "      height: 32px;\n",
              "      padding: 0 0 0 0;\n",
              "      width: 32px;\n",
              "    }\n",
              "\n",
              "    .colab-df-convert:hover {\n",
              "      background-color: #E2EBFA;\n",
              "      box-shadow: 0px 1px 2px rgba(60, 64, 67, 0.3), 0px 1px 3px 1px rgba(60, 64, 67, 0.15);\n",
              "      fill: #174EA6;\n",
              "    }\n",
              "\n",
              "    .colab-df-buttons div {\n",
              "      margin-bottom: 4px;\n",
              "    }\n",
              "\n",
              "    [theme=dark] .colab-df-convert {\n",
              "      background-color: #3B4455;\n",
              "      fill: #D2E3FC;\n",
              "    }\n",
              "\n",
              "    [theme=dark] .colab-df-convert:hover {\n",
              "      background-color: #434B5C;\n",
              "      box-shadow: 0px 1px 3px 1px rgba(0, 0, 0, 0.15);\n",
              "      filter: drop-shadow(0px 1px 2px rgba(0, 0, 0, 0.3));\n",
              "      fill: #FFFFFF;\n",
              "    }\n",
              "  </style>\n",
              "\n",
              "    <script>\n",
              "      const buttonEl =\n",
              "        document.querySelector('#df-8bfa9379-689a-4de2-b402-38617ff41698 button.colab-df-convert');\n",
              "      buttonEl.style.display =\n",
              "        google.colab.kernel.accessAllowed ? 'block' : 'none';\n",
              "\n",
              "      async function convertToInteractive(key) {\n",
              "        const element = document.querySelector('#df-8bfa9379-689a-4de2-b402-38617ff41698');\n",
              "        const dataTable =\n",
              "          await google.colab.kernel.invokeFunction('convertToInteractive',\n",
              "                                                    [key], {});\n",
              "        if (!dataTable) return;\n",
              "\n",
              "        const docLinkHtml = 'Like what you see? Visit the ' +\n",
              "          '<a target=\"_blank\" href=https://colab.research.google.com/notebooks/data_table.ipynb>data table notebook</a>'\n",
              "          + ' to learn more about interactive tables.';\n",
              "        element.innerHTML = '';\n",
              "        dataTable['output_type'] = 'display_data';\n",
              "        await google.colab.output.renderOutput(dataTable, element);\n",
              "        const docLink = document.createElement('div');\n",
              "        docLink.innerHTML = docLinkHtml;\n",
              "        element.appendChild(docLink);\n",
              "      }\n",
              "    </script>\n",
              "  </div>\n",
              "\n",
              "\n",
              "    <div id=\"df-6116e064-deab-49ed-8b3f-ae668eca6050\">\n",
              "      <button class=\"colab-df-quickchart\" onclick=\"quickchart('df-6116e064-deab-49ed-8b3f-ae668eca6050')\"\n",
              "                title=\"Suggest charts\"\n",
              "                style=\"display:none;\">\n",
              "\n",
              "<svg xmlns=\"http://www.w3.org/2000/svg\" height=\"24px\"viewBox=\"0 0 24 24\"\n",
              "     width=\"24px\">\n",
              "    <g>\n",
              "        <path d=\"M19 3H5c-1.1 0-2 .9-2 2v14c0 1.1.9 2 2 2h14c1.1 0 2-.9 2-2V5c0-1.1-.9-2-2-2zM9 17H7v-7h2v7zm4 0h-2V7h2v10zm4 0h-2v-4h2v4z\"/>\n",
              "    </g>\n",
              "</svg>\n",
              "      </button>\n",
              "\n",
              "<style>\n",
              "  .colab-df-quickchart {\n",
              "      --bg-color: #E8F0FE;\n",
              "      --fill-color: #1967D2;\n",
              "      --hover-bg-color: #E2EBFA;\n",
              "      --hover-fill-color: #174EA6;\n",
              "      --disabled-fill-color: #AAA;\n",
              "      --disabled-bg-color: #DDD;\n",
              "  }\n",
              "\n",
              "  [theme=dark] .colab-df-quickchart {\n",
              "      --bg-color: #3B4455;\n",
              "      --fill-color: #D2E3FC;\n",
              "      --hover-bg-color: #434B5C;\n",
              "      --hover-fill-color: #FFFFFF;\n",
              "      --disabled-bg-color: #3B4455;\n",
              "      --disabled-fill-color: #666;\n",
              "  }\n",
              "\n",
              "  .colab-df-quickchart {\n",
              "    background-color: var(--bg-color);\n",
              "    border: none;\n",
              "    border-radius: 50%;\n",
              "    cursor: pointer;\n",
              "    display: none;\n",
              "    fill: var(--fill-color);\n",
              "    height: 32px;\n",
              "    padding: 0;\n",
              "    width: 32px;\n",
              "  }\n",
              "\n",
              "  .colab-df-quickchart:hover {\n",
              "    background-color: var(--hover-bg-color);\n",
              "    box-shadow: 0 1px 2px rgba(60, 64, 67, 0.3), 0 1px 3px 1px rgba(60, 64, 67, 0.15);\n",
              "    fill: var(--button-hover-fill-color);\n",
              "  }\n",
              "\n",
              "  .colab-df-quickchart-complete:disabled,\n",
              "  .colab-df-quickchart-complete:disabled:hover {\n",
              "    background-color: var(--disabled-bg-color);\n",
              "    fill: var(--disabled-fill-color);\n",
              "    box-shadow: none;\n",
              "  }\n",
              "\n",
              "  .colab-df-spinner {\n",
              "    border: 2px solid var(--fill-color);\n",
              "    border-color: transparent;\n",
              "    border-bottom-color: var(--fill-color);\n",
              "    animation:\n",
              "      spin 1s steps(1) infinite;\n",
              "  }\n",
              "\n",
              "  @keyframes spin {\n",
              "    0% {\n",
              "      border-color: transparent;\n",
              "      border-bottom-color: var(--fill-color);\n",
              "      border-left-color: var(--fill-color);\n",
              "    }\n",
              "    20% {\n",
              "      border-color: transparent;\n",
              "      border-left-color: var(--fill-color);\n",
              "      border-top-color: var(--fill-color);\n",
              "    }\n",
              "    30% {\n",
              "      border-color: transparent;\n",
              "      border-left-color: var(--fill-color);\n",
              "      border-top-color: var(--fill-color);\n",
              "      border-right-color: var(--fill-color);\n",
              "    }\n",
              "    40% {\n",
              "      border-color: transparent;\n",
              "      border-right-color: var(--fill-color);\n",
              "      border-top-color: var(--fill-color);\n",
              "    }\n",
              "    60% {\n",
              "      border-color: transparent;\n",
              "      border-right-color: var(--fill-color);\n",
              "    }\n",
              "    80% {\n",
              "      border-color: transparent;\n",
              "      border-right-color: var(--fill-color);\n",
              "      border-bottom-color: var(--fill-color);\n",
              "    }\n",
              "    90% {\n",
              "      border-color: transparent;\n",
              "      border-bottom-color: var(--fill-color);\n",
              "    }\n",
              "  }\n",
              "</style>\n",
              "\n",
              "      <script>\n",
              "        async function quickchart(key) {\n",
              "          const quickchartButtonEl =\n",
              "            document.querySelector('#' + key + ' button');\n",
              "          quickchartButtonEl.disabled = true;  // To prevent multiple clicks.\n",
              "          quickchartButtonEl.classList.add('colab-df-spinner');\n",
              "          try {\n",
              "            const charts = await google.colab.kernel.invokeFunction(\n",
              "                'suggestCharts', [key], {});\n",
              "          } catch (error) {\n",
              "            console.error('Error during call to suggestCharts:', error);\n",
              "          }\n",
              "          quickchartButtonEl.classList.remove('colab-df-spinner');\n",
              "          quickchartButtonEl.classList.add('colab-df-quickchart-complete');\n",
              "        }\n",
              "        (() => {\n",
              "          let quickchartButtonEl =\n",
              "            document.querySelector('#df-6116e064-deab-49ed-8b3f-ae668eca6050 button');\n",
              "          quickchartButtonEl.style.display =\n",
              "            google.colab.kernel.accessAllowed ? 'block' : 'none';\n",
              "        })();\n",
              "      </script>\n",
              "    </div>\n",
              "\n",
              "    </div>\n",
              "  </div>\n"
            ],
            "application/vnd.google.colaboratory.intrinsic+json": {
              "type": "dataframe",
              "summary": "{\n  \"name\": \"data_dfon\",\n  \"rows\": 4,\n  \"fields\": [\n    {\n      \"column\": \"goodness of fit\",\n      \"properties\": {\n        \"dtype\": \"number\",\n        \"std\": 3.559572460778105,\n        \"min\": 0.6644594820812818,\n        \"max\": 8.0,\n        \"num_unique_values\": 4,\n        \"samples\": [\n          0.9996102682922615,\n          0.9995387294928295,\n          0.6644594820812818\n        ],\n        \"semantic_type\": \"\",\n        \"description\": \"\"\n      }\n    }\n  ]\n}"
            }
          },
          "metadata": {},
          "execution_count": 172
        }
      ]
    },
    {
      "cell_type": "code",
      "source": [
        "print('Coeficientes: \\n')\n",
        "pd.DataFrame(data_dfon.eff_coef_tabla, columns = ['mean', 'error'], index = ['a1', 'a0'])"
      ],
      "metadata": {
        "colab": {
          "base_uri": "https://localhost:8080/",
          "height": 148
        },
        "outputId": "06c3e957-c2f4-4f21-8da8-e99561178bd3",
        "id": "oP7tb7s1n3YU"
      },
      "execution_count": 173,
      "outputs": [
        {
          "output_type": "stream",
          "name": "stdout",
          "text": [
            "Coeficientes: \n",
            "\n"
          ]
        },
        {
          "output_type": "execute_result",
          "data": {
            "text/plain": [
              "        mean     error\n",
              "a1 -0.719737  0.018122\n",
              "a0 -1.152505  0.121206"
            ],
            "text/html": [
              "\n",
              "  <div id=\"df-71a919ba-64dc-4c45-810d-d0fe26ef43a0\" class=\"colab-df-container\">\n",
              "    <div>\n",
              "<style scoped>\n",
              "    .dataframe tbody tr th:only-of-type {\n",
              "        vertical-align: middle;\n",
              "    }\n",
              "\n",
              "    .dataframe tbody tr th {\n",
              "        vertical-align: top;\n",
              "    }\n",
              "\n",
              "    .dataframe thead th {\n",
              "        text-align: right;\n",
              "    }\n",
              "</style>\n",
              "<table border=\"1\" class=\"dataframe\">\n",
              "  <thead>\n",
              "    <tr style=\"text-align: right;\">\n",
              "      <th></th>\n",
              "      <th>mean</th>\n",
              "      <th>error</th>\n",
              "    </tr>\n",
              "  </thead>\n",
              "  <tbody>\n",
              "    <tr>\n",
              "      <th>a1</th>\n",
              "      <td>-0.719737</td>\n",
              "      <td>0.018122</td>\n",
              "    </tr>\n",
              "    <tr>\n",
              "      <th>a0</th>\n",
              "      <td>-1.152505</td>\n",
              "      <td>0.121206</td>\n",
              "    </tr>\n",
              "  </tbody>\n",
              "</table>\n",
              "</div>\n",
              "    <div class=\"colab-df-buttons\">\n",
              "\n",
              "  <div class=\"colab-df-container\">\n",
              "    <button class=\"colab-df-convert\" onclick=\"convertToInteractive('df-71a919ba-64dc-4c45-810d-d0fe26ef43a0')\"\n",
              "            title=\"Convert this dataframe to an interactive table.\"\n",
              "            style=\"display:none;\">\n",
              "\n",
              "  <svg xmlns=\"http://www.w3.org/2000/svg\" height=\"24px\" viewBox=\"0 -960 960 960\">\n",
              "    <path d=\"M120-120v-720h720v720H120Zm60-500h600v-160H180v160Zm220 220h160v-160H400v160Zm0 220h160v-160H400v160ZM180-400h160v-160H180v160Zm440 0h160v-160H620v160ZM180-180h160v-160H180v160Zm440 0h160v-160H620v160Z\"/>\n",
              "  </svg>\n",
              "    </button>\n",
              "\n",
              "  <style>\n",
              "    .colab-df-container {\n",
              "      display:flex;\n",
              "      gap: 12px;\n",
              "    }\n",
              "\n",
              "    .colab-df-convert {\n",
              "      background-color: #E8F0FE;\n",
              "      border: none;\n",
              "      border-radius: 50%;\n",
              "      cursor: pointer;\n",
              "      display: none;\n",
              "      fill: #1967D2;\n",
              "      height: 32px;\n",
              "      padding: 0 0 0 0;\n",
              "      width: 32px;\n",
              "    }\n",
              "\n",
              "    .colab-df-convert:hover {\n",
              "      background-color: #E2EBFA;\n",
              "      box-shadow: 0px 1px 2px rgba(60, 64, 67, 0.3), 0px 1px 3px 1px rgba(60, 64, 67, 0.15);\n",
              "      fill: #174EA6;\n",
              "    }\n",
              "\n",
              "    .colab-df-buttons div {\n",
              "      margin-bottom: 4px;\n",
              "    }\n",
              "\n",
              "    [theme=dark] .colab-df-convert {\n",
              "      background-color: #3B4455;\n",
              "      fill: #D2E3FC;\n",
              "    }\n",
              "\n",
              "    [theme=dark] .colab-df-convert:hover {\n",
              "      background-color: #434B5C;\n",
              "      box-shadow: 0px 1px 3px 1px rgba(0, 0, 0, 0.15);\n",
              "      filter: drop-shadow(0px 1px 2px rgba(0, 0, 0, 0.3));\n",
              "      fill: #FFFFFF;\n",
              "    }\n",
              "  </style>\n",
              "\n",
              "    <script>\n",
              "      const buttonEl =\n",
              "        document.querySelector('#df-71a919ba-64dc-4c45-810d-d0fe26ef43a0 button.colab-df-convert');\n",
              "      buttonEl.style.display =\n",
              "        google.colab.kernel.accessAllowed ? 'block' : 'none';\n",
              "\n",
              "      async function convertToInteractive(key) {\n",
              "        const element = document.querySelector('#df-71a919ba-64dc-4c45-810d-d0fe26ef43a0');\n",
              "        const dataTable =\n",
              "          await google.colab.kernel.invokeFunction('convertToInteractive',\n",
              "                                                    [key], {});\n",
              "        if (!dataTable) return;\n",
              "\n",
              "        const docLinkHtml = 'Like what you see? Visit the ' +\n",
              "          '<a target=\"_blank\" href=https://colab.research.google.com/notebooks/data_table.ipynb>data table notebook</a>'\n",
              "          + ' to learn more about interactive tables.';\n",
              "        element.innerHTML = '';\n",
              "        dataTable['output_type'] = 'display_data';\n",
              "        await google.colab.output.renderOutput(dataTable, element);\n",
              "        const docLink = document.createElement('div');\n",
              "        docLink.innerHTML = docLinkHtml;\n",
              "        element.appendChild(docLink);\n",
              "      }\n",
              "    </script>\n",
              "  </div>\n",
              "\n",
              "\n",
              "    <div id=\"df-3d8c48ae-22c8-49dd-aafe-7096ea94b135\">\n",
              "      <button class=\"colab-df-quickchart\" onclick=\"quickchart('df-3d8c48ae-22c8-49dd-aafe-7096ea94b135')\"\n",
              "                title=\"Suggest charts\"\n",
              "                style=\"display:none;\">\n",
              "\n",
              "<svg xmlns=\"http://www.w3.org/2000/svg\" height=\"24px\"viewBox=\"0 0 24 24\"\n",
              "     width=\"24px\">\n",
              "    <g>\n",
              "        <path d=\"M19 3H5c-1.1 0-2 .9-2 2v14c0 1.1.9 2 2 2h14c1.1 0 2-.9 2-2V5c0-1.1-.9-2-2-2zM9 17H7v-7h2v7zm4 0h-2V7h2v10zm4 0h-2v-4h2v4z\"/>\n",
              "    </g>\n",
              "</svg>\n",
              "      </button>\n",
              "\n",
              "<style>\n",
              "  .colab-df-quickchart {\n",
              "      --bg-color: #E8F0FE;\n",
              "      --fill-color: #1967D2;\n",
              "      --hover-bg-color: #E2EBFA;\n",
              "      --hover-fill-color: #174EA6;\n",
              "      --disabled-fill-color: #AAA;\n",
              "      --disabled-bg-color: #DDD;\n",
              "  }\n",
              "\n",
              "  [theme=dark] .colab-df-quickchart {\n",
              "      --bg-color: #3B4455;\n",
              "      --fill-color: #D2E3FC;\n",
              "      --hover-bg-color: #434B5C;\n",
              "      --hover-fill-color: #FFFFFF;\n",
              "      --disabled-bg-color: #3B4455;\n",
              "      --disabled-fill-color: #666;\n",
              "  }\n",
              "\n",
              "  .colab-df-quickchart {\n",
              "    background-color: var(--bg-color);\n",
              "    border: none;\n",
              "    border-radius: 50%;\n",
              "    cursor: pointer;\n",
              "    display: none;\n",
              "    fill: var(--fill-color);\n",
              "    height: 32px;\n",
              "    padding: 0;\n",
              "    width: 32px;\n",
              "  }\n",
              "\n",
              "  .colab-df-quickchart:hover {\n",
              "    background-color: var(--hover-bg-color);\n",
              "    box-shadow: 0 1px 2px rgba(60, 64, 67, 0.3), 0 1px 3px 1px rgba(60, 64, 67, 0.15);\n",
              "    fill: var(--button-hover-fill-color);\n",
              "  }\n",
              "\n",
              "  .colab-df-quickchart-complete:disabled,\n",
              "  .colab-df-quickchart-complete:disabled:hover {\n",
              "    background-color: var(--disabled-bg-color);\n",
              "    fill: var(--disabled-fill-color);\n",
              "    box-shadow: none;\n",
              "  }\n",
              "\n",
              "  .colab-df-spinner {\n",
              "    border: 2px solid var(--fill-color);\n",
              "    border-color: transparent;\n",
              "    border-bottom-color: var(--fill-color);\n",
              "    animation:\n",
              "      spin 1s steps(1) infinite;\n",
              "  }\n",
              "\n",
              "  @keyframes spin {\n",
              "    0% {\n",
              "      border-color: transparent;\n",
              "      border-bottom-color: var(--fill-color);\n",
              "      border-left-color: var(--fill-color);\n",
              "    }\n",
              "    20% {\n",
              "      border-color: transparent;\n",
              "      border-left-color: var(--fill-color);\n",
              "      border-top-color: var(--fill-color);\n",
              "    }\n",
              "    30% {\n",
              "      border-color: transparent;\n",
              "      border-left-color: var(--fill-color);\n",
              "      border-top-color: var(--fill-color);\n",
              "      border-right-color: var(--fill-color);\n",
              "    }\n",
              "    40% {\n",
              "      border-color: transparent;\n",
              "      border-right-color: var(--fill-color);\n",
              "      border-top-color: var(--fill-color);\n",
              "    }\n",
              "    60% {\n",
              "      border-color: transparent;\n",
              "      border-right-color: var(--fill-color);\n",
              "    }\n",
              "    80% {\n",
              "      border-color: transparent;\n",
              "      border-right-color: var(--fill-color);\n",
              "      border-bottom-color: var(--fill-color);\n",
              "    }\n",
              "    90% {\n",
              "      border-color: transparent;\n",
              "      border-bottom-color: var(--fill-color);\n",
              "    }\n",
              "  }\n",
              "</style>\n",
              "\n",
              "      <script>\n",
              "        async function quickchart(key) {\n",
              "          const quickchartButtonEl =\n",
              "            document.querySelector('#' + key + ' button');\n",
              "          quickchartButtonEl.disabled = true;  // To prevent multiple clicks.\n",
              "          quickchartButtonEl.classList.add('colab-df-spinner');\n",
              "          try {\n",
              "            const charts = await google.colab.kernel.invokeFunction(\n",
              "                'suggestCharts', [key], {});\n",
              "          } catch (error) {\n",
              "            console.error('Error during call to suggestCharts:', error);\n",
              "          }\n",
              "          quickchartButtonEl.classList.remove('colab-df-spinner');\n",
              "          quickchartButtonEl.classList.add('colab-df-quickchart-complete');\n",
              "        }\n",
              "        (() => {\n",
              "          let quickchartButtonEl =\n",
              "            document.querySelector('#df-3d8c48ae-22c8-49dd-aafe-7096ea94b135 button');\n",
              "          quickchartButtonEl.style.display =\n",
              "            google.colab.kernel.accessAllowed ? 'block' : 'none';\n",
              "        })();\n",
              "      </script>\n",
              "    </div>\n",
              "\n",
              "    </div>\n",
              "  </div>\n"
            ],
            "application/vnd.google.colaboratory.intrinsic+json": {
              "type": "dataframe",
              "summary": "{\n  \"name\": \"pd\",\n  \"rows\": 2,\n  \"fields\": [\n    {\n      \"column\": \"mean\",\n      \"properties\": {\n        \"dtype\": \"number\",\n        \"std\": 0.3060131556333071,\n        \"min\": -1.1525047923099407,\n        \"max\": -0.7197368373487291,\n        \"num_unique_values\": 2,\n        \"samples\": [\n          -1.1525047923099407,\n          -0.7197368373487291\n        ],\n        \"semantic_type\": \"\",\n        \"description\": \"\"\n      }\n    },\n    {\n      \"column\": \"error\",\n      \"properties\": {\n        \"dtype\": \"number\",\n        \"std\": 0.07289130975042919,\n        \"min\": 0.018122158704212275,\n        \"max\": 0.12120603753240747,\n        \"num_unique_values\": 2,\n        \"samples\": [\n          0.12120603753240747,\n          0.018122158704212275\n        ],\n        \"semantic_type\": \"\",\n        \"description\": \"\"\n      }\n    }\n  ]\n}"
            }
          },
          "metadata": {},
          "execution_count": 173
        }
      ]
    },
    {
      "cell_type": "code",
      "source": [
        "print('Residuos:', data_dfon.eff_residuos)"
      ],
      "metadata": {
        "colab": {
          "base_uri": "https://localhost:8080/"
        },
        "outputId": "79a480f7-5a08-403b-94f2-67757c4e92d3",
        "id": "k7gdVPMRn3YV"
      },
      "execution_count": 174,
      "outputs": [
        {
          "output_type": "stream",
          "name": "stdout",
          "text": [
            "Residuos: [ 0.00125082  0.00136803 -0.01851287  0.01246663 -0.00292067 -0.01017598\n",
            "  0.00752224  0.00294121  0.00147175  0.00643907]\n"
          ]
        }
      ]
    },
    {
      "cell_type": "markdown",
      "source": [
        "##Espectros de hojuelas MnCu"
      ],
      "metadata": {
        "id": "7MSTvk99r-f6"
      }
    },
    {
      "cell_type": "markdown",
      "source": [
        "Sólo lo hago una vez, así me queda guardado:"
      ],
      "metadata": {
        "id": "4vzo-sR5VXlP"
      }
    },
    {
      "cell_type": "code",
      "source": [
        "#Dicts que me van guardar la info de todos los alambres en cada corrida\n",
        "cps_Alambres = {}\n",
        "Act_Alambres = {}\n",
        "dts = {}\n",
        "tdead = {}"
      ],
      "metadata": {
        "id": "7fSUyPzFLNd6"
      },
      "execution_count": null,
      "outputs": []
    },
    {
      "cell_type": "markdown",
      "source": [
        "Empiezo iterando a partir de acá. Al finald el bloque anterior pueden encontrarse los coefs de eficiencia, y los\n",
        "\n",
        "\n"
      ],
      "metadata": {
        "id": "eLy3D0PpLOf6"
      }
    },
    {
      "cell_type": "code",
      "source": [
        "#Composición del alambre\n",
        "Composition = {'55Mn': 0.8123, '63Cu': 0.1877}\n",
        "\n",
        "#Tiempo de irradiación total\n",
        "tirr = 16200 + 696\n",
        "\n",
        "#Defino la clase de alambre con sus métodos\n",
        "Alambres = act.Alambre(Composition, tirr)\n",
        "\n",
        "#Regiones de interés sacadas del espectro (GammaVision). El background es 3 puntos\n",
        "ROIs = {'56Mn': [1494, 1508]}#, '64Cu': [885, 903]}\n",
        "\n",
        "#Nombre del alambre y nro de medición\n",
        "alambre = 'Mn209'\n",
        "medno = 1"
      ],
      "metadata": {
        "id": "y1d0_edLsHOB"
      },
      "execution_count": null,
      "outputs": []
    },
    {
      "cell_type": "markdown",
      "source": [
        "Tasa de fondo (cps_ROIs) en la ROI del pico de '56Mn' (*mat* en *ROIs*). Se lo agrega al dict de Fondos."
      ],
      "metadata": {
        "id": "8O7_KXiYRq_6"
      }
    },
    {
      "cell_type": "code",
      "source": [
        "#Obtengo info de los fondos en las ROIs de interés, y calculo sus tasas\n",
        "Fondo_ROIs[alambre] = {iso: Fondo.ROI(ROIs[iso]) for iso in ROIs}\n",
        "cps_ROIs = {mat:np.array([Fondo_ROIs[alambre][mat][xx] for xx in ['net', 'net_err']])/Fondo.tlive for mat in ROIs}\n",
        "\n",
        "#Corresponde al tiempo de fin de la irradiación\n",
        "t_inicio = datetime(2025, 6, 11, 14, 41, 36)\n",
        "\n",
        "#función para el path del espectro del alambre (Chequear fecha. En general funciona a menos que el job haya arrancado al día siguiente)\n",
        "path_job = lambda alambre, nro: f\"/content/drive/MyDrive/Colab Notebooks/ProyectoLINTatPromptGamma/2025-06-11_NAAPG_Beam/11.06.2025_PG_LINT/-txt/DF_{alambre}_sep3_rON_{t_inicio.date().strftime('%d.%m.%Y')}_med{nro}.txt\"\n"
      ],
      "metadata": {
        "id": "jos7jJR-rWMU"
      },
      "execution_count": null,
      "outputs": []
    },
    {
      "cell_type": "markdown",
      "source": [
        "Inicio nuevos parámetros para iniciar el cálculo de tasas del alambre."
      ],
      "metadata": {
        "id": "QDSkiBtbUDQI"
      }
    },
    {
      "cell_type": "code",
      "source": [
        "#Arrays con ceros para a tasa y actividad del alambre\n",
        "id_med = [mat+f'_med{medno}' for mat in ROIs]\n",
        "cps_Alambres[alambre] = {id:np.zeros(2) for id in id_med}\n",
        "Act_Alambres[alambre] = {id:np.zeros(2) for id in id_med}\n",
        "\n",
        "#Obtengo el espectro del alambre\n",
        "data = act.fromspec(path_job(alambre, medno), spec_cal.coef_en[::-1])\n",
        "\n",
        "#Intervalo desde que se dejó de irradiar hasta que se empezó a medir (td o tdelay)\n",
        "dt = (data.tinicio - t_inicio).total_seconds()\n",
        "\n",
        "#Señalo las regiones de interés en channels\n",
        "idx = np.array(list(ROIs.values())).reshape(-1)\n",
        "idx_roiMn = np.logical_and(data.channels> idx[0], data.channels<idx[1])\n",
        "\n",
        "##Si se quiere agregar el del Cu:\n",
        "#idx_roiCu = np.logical_and(data.channels> idx[2], data.channels< idx[3])"
      ],
      "metadata": {
        "id": "XUv4MOY5tT7K"
      },
      "execution_count": null,
      "outputs": []
    },
    {
      "cell_type": "markdown",
      "source": [
        "Grafico el espectro cerca del pico de interés."
      ],
      "metadata": {
        "id": "NpvUe6PhSg5p"
      }
    },
    {
      "cell_type": "code",
      "source": [
        "#Figuras de espectros destacando las ROIs\n",
        "plt.figure()\n",
        "plt.plot(data.channels[min(idx)-100:max(idx)+100], data.counts[min(idx)-100:max(idx)+100])\n",
        "plt.plot(data.channels[idx_roiMn], data.counts[idx_roiMn], label = 'ROI_Mn')\n",
        "#plt.plot(data.channels[idx_roiCu], data.counts[idx_roiCu], label = 'ROI_Cu')\n",
        "plt.grid(True, ls='--')\n",
        "plt.xlabel('Channel')\n",
        "plt.ylabel('Counts')\n",
        "plt.legend()\n",
        "#plt.yscale('log')"
      ],
      "metadata": {
        "colab": {
          "base_uri": "https://localhost:8080/",
          "height": 470
        },
        "id": "3WWUHhmeCJ83",
        "outputId": "5f3342d6-aec9-4d4f-8856-75ebe8fc7978"
      },
      "execution_count": null,
      "outputs": [
        {
          "output_type": "execute_result",
          "data": {
            "text/plain": [
              "<matplotlib.legend.Legend at 0x7b320c553710>"
            ]
          },
          "metadata": {},
          "execution_count": 416
        },
        {
          "output_type": "display_data",
          "data": {
            "text/plain": [
              "<Figure size 640x480 with 1 Axes>"
            ],
            "image/png": "[encoded data removed]"
          },
          "metadata": {}
        }
      ]
    },
    {
      "cell_type": "markdown",
      "source": [
        "Cálculo a partir de las tasas y la eficiencia del HPGe."
      ],
      "metadata": {
        "id": "7-Ktt6DTS2su"
      }
    },
    {
      "cell_type": "code",
      "source": [
        "#Cálculo de actividad a partir de sus tasas\n",
        "for mat, id in zip(ROIs, id_med):\n",
        "  data_ROI = data.ROI(ROIs[mat])\n",
        "  Net_cps, Err_cps = (data_ROI['net']/data.tlive - cps_ROIs[mat][0], np.sqrt((data_ROI['net_err']/data.tlive)**2 + cps_ROIs[mat][1]**2))\n",
        "  cps_Alambres[alambre][id] = [Net_cps, Err_cps]\n",
        "  Act_Alambres[alambre][id] = Alambres.Act_alambre(mat, np.array([data_ROI['en_max']]), np.array([Net_cps]), Err_cps, dt, data.treal, coef_tabla, rhos[0][0])[0]\n",
        "\n",
        "#También me guardo el td para cada medición, así como el tiempo muerto en porcentaje.\n",
        "dts[alambre] = dt\n",
        "tdead[alambre] = 100*(1 - data.tlive/data.treal)"
      ],
      "metadata": {
        "id": "MxAhGAjcBP2A"
      },
      "execution_count": null,
      "outputs": []
    },
    {
      "cell_type": "markdown",
      "source": [
        "Actividad para este alambre:"
      ],
      "metadata": {
        "id": "aUhYK-WbSzhv"
      }
    },
    {
      "cell_type": "code",
      "source": [
        "Act_Alambres"
      ],
      "metadata": {
        "colab": {
          "base_uri": "https://localhost:8080/"
        },
        "id": "qN0h87ErGbH5",
        "outputId": "09e40626-5154-4c86-938e-4bf647334ab0"
      },
      "execution_count": null,
      "outputs": [
        {
          "output_type": "execute_result",
          "data": {
            "text/plain": [
              "{'Mn209': {'56Mn_med1': array([76509.08196078,  1051.78368243])}}"
            ]
          },
          "metadata": {},
          "execution_count": 418
        }
      ]
    },
    {
      "cell_type": "markdown",
      "source": [
        "#XC-OFF (Mn209/1 y Mn209/2)"
      ],
      "metadata": {
        "id": "IUcmD36cUeOu"
      }
    },
    {
      "cell_type": "markdown",
      "source": [
        "Vuelvo a repetir las mismas funciones. El procedimiento es el mismo. No grafico la eficiencia intermedia (sólo Eu152), sino al final luego de agregar los puntos de las incógnitas."
      ],
      "metadata": {
        "id": "RtxXcp48rB6p"
      }
    },
    {
      "cell_type": "code",
      "source": [
        "det = 'XC-OFF'\n",
        "data_xcoff = bydet(det)\n",
        "data_xcoff.fondo(path_fondo, graph = True)\n",
        "data_xcoff.eff(path_Roical, path_Eu152)\n",
        "data_xcoff.fit_eff(grado = 1, graph = False)\n",
        "data_xcoff.eff_ext(n_new = 3, npicos = {'60Co': 2, '137Cs': 1})"
      ],
      "metadata": {
        "colab": {
          "base_uri": "https://localhost:8080/",
          "height": 472
        },
        "id": "jfhnrGBOrRGh",
        "outputId": "99537483-cb0b-4a0e-d215-ac3dbbc6c8f2"
      },
      "execution_count": 177,
      "outputs": [
        {
          "output_type": "display_data",
          "data": {
            "text/plain": [
              "<Figure size 640x480 with 1 Axes>"
            ],
            "image/png": "[encoded data removed]"
          },
          "metadata": {}
        }
      ]
    },
    {
      "cell_type": "code",
      "source": [
        "data_xcoff.data_act_Co"
      ],
      "metadata": {
        "colab": {
          "base_uri": "https://localhost:8080/",
          "height": 112
        },
        "id": "Tlyibvi8r5gA",
        "outputId": "61d9dab6-cd07-40b0-b31c-64d6d0e8491f"
      },
      "execution_count": 182,
      "outputs": [
        {
          "output_type": "execute_result",
          "data": {
            "text/plain": [
              "   Energy [keV]     BR %  BR err %      Act [Bq]  Error Act [Bq]  Diff Tab %\n",
              "0      1173.228  99.8500    0.0300  18906.639365      306.377882    3.410543\n",
              "1      1332.492  99.9826    0.0006  19169.079501      343.734625    4.788497"
            ],
            "text/html": [
              "\n",
              "  <div id=\"df-cc5d96a8-ae86-4716-94c0-58be12778a64\" class=\"colab-df-container\">\n",
              "    <div>\n",
              "<style scoped>\n",
              "    .dataframe tbody tr th:only-of-type {\n",
              "        vertical-align: middle;\n",
              "    }\n",
              "\n",
              "    .dataframe tbody tr th {\n",
              "        vertical-align: top;\n",
              "    }\n",
              "\n",
              "    .dataframe thead th {\n",
              "        text-align: right;\n",
              "    }\n",
              "</style>\n",
              "<table border=\"1\" class=\"dataframe\">\n",
              "  <thead>\n",
              "    <tr style=\"text-align: right;\">\n",
              "      <th></th>\n",
              "      <th>Energy [keV]</th>\n",
              "      <th>BR %</th>\n",
              "      <th>BR err %</th>\n",
              "      <th>Act [Bq]</th>\n",
              "      <th>Error Act [Bq]</th>\n",
              "      <th>Diff Tab %</th>\n",
              "    </tr>\n",
              "  </thead>\n",
              "  <tbody>\n",
              "    <tr>\n",
              "      <th>0</th>\n",
              "      <td>1173.228</td>\n",
              "      <td>99.8500</td>\n",
              "      <td>0.0300</td>\n",
              "      <td>18906.639365</td>\n",
              "      <td>306.377882</td>\n",
              "      <td>3.410543</td>\n",
              "    </tr>\n",
              "    <tr>\n",
              "      <th>1</th>\n",
              "      <td>1332.492</td>\n",
              "      <td>99.9826</td>\n",
              "      <td>0.0006</td>\n",
              "      <td>19169.079501</td>\n",
              "      <td>343.734625</td>\n",
              "      <td>4.788497</td>\n",
              "    </tr>\n",
              "  </tbody>\n",
              "</table>\n",
              "</div>\n",
              "    <div class=\"colab-df-buttons\">\n",
              "\n",
              "  <div class=\"colab-df-container\">\n",
              "    <button class=\"colab-df-convert\" onclick=\"convertToInteractive('df-cc5d96a8-ae86-4716-94c0-58be12778a64')\"\n",
              "            title=\"Convert this dataframe to an interactive table.\"\n",
              "            style=\"display:none;\">\n",
              "\n",
              "  <svg xmlns=\"http://www.w3.org/2000/svg\" height=\"24px\" viewBox=\"0 -960 960 960\">\n",
              "    <path d=\"M120-120v-720h720v720H120Zm60-500h600v-160H180v160Zm220 220h160v-160H400v160Zm0 220h160v-160H400v160ZM180-400h160v-160H180v160Zm440 0h160v-160H620v160ZM180-180h160v-160H180v160Zm440 0h160v-160H620v160Z\"/>\n",
              "  </svg>\n",
              "    </button>\n",
              "\n",
              "  <style>\n",
              "    .colab-df-container {\n",
              "      display:flex;\n",
              "      gap: 12px;\n",
              "    }\n",
              "\n",
              "    .colab-df-convert {\n",
              "      background-color: #E8F0FE;\n",
              "      border: none;\n",
              "      border-radius: 50%;\n",
              "      cursor: pointer;\n",
              "      display: none;\n",
              "      fill: #1967D2;\n",
              "      height: 32px;\n",
              "      padding: 0 0 0 0;\n",
              "      width: 32px;\n",
              "    }\n",
              "\n",
              "    .colab-df-convert:hover {\n",
              "      background-color: #E2EBFA;\n",
              "      box-shadow: 0px 1px 2px rgba(60, 64, 67, 0.3), 0px 1px 3px 1px rgba(60, 64, 67, 0.15);\n",
              "      fill: #174EA6;\n",
              "    }\n",
              "\n",
              "    .colab-df-buttons div {\n",
              "      margin-bottom: 4px;\n",
              "    }\n",
              "\n",
              "    [theme=dark] .colab-df-convert {\n",
              "      background-color: #3B4455;\n",
              "      fill: #D2E3FC;\n",
              "    }\n",
              "\n",
              "    [theme=dark] .colab-df-convert:hover {\n",
              "      background-color: #434B5C;\n",
              "      box-shadow: 0px 1px 3px 1px rgba(0, 0, 0, 0.15);\n",
              "      filter: drop-shadow(0px 1px 2px rgba(0, 0, 0, 0.3));\n",
              "      fill: #FFFFFF;\n",
              "    }\n",
              "  </style>\n",
              "\n",
              "    <script>\n",
              "      const buttonEl =\n",
              "        document.querySelector('#df-cc5d96a8-ae86-4716-94c0-58be12778a64 button.colab-df-convert');\n",
              "      buttonEl.style.display =\n",
              "        google.colab.kernel.accessAllowed ? 'block' : 'none';\n",
              "\n",
              "      async function convertToInteractive(key) {\n",
              "        const element = document.querySelector('#df-cc5d96a8-ae86-4716-94c0-58be12778a64');\n",
              "        const dataTable =\n",
              "          await google.colab.kernel.invokeFunction('convertToInteractive',\n",
              "                                                    [key], {});\n",
              "        if (!dataTable) return;\n",
              "\n",
              "        const docLinkHtml = 'Like what you see? Visit the ' +\n",
              "          '<a target=\"_blank\" href=https://colab.research.google.com/notebooks/data_table.ipynb>data table notebook</a>'\n",
              "          + ' to learn more about interactive tables.';\n",
              "        element.innerHTML = '';\n",
              "        dataTable['output_type'] = 'display_data';\n",
              "        await google.colab.output.renderOutput(dataTable, element);\n",
              "        const docLink = document.createElement('div');\n",
              "        docLink.innerHTML = docLinkHtml;\n",
              "        element.appendChild(docLink);\n",
              "      }\n",
              "    </script>\n",
              "  </div>\n",
              "\n",
              "\n",
              "    <div id=\"df-635ad0c6-d890-48e5-96ca-b8d7c509993b\">\n",
              "      <button class=\"colab-df-quickchart\" onclick=\"quickchart('df-635ad0c6-d890-48e5-96ca-b8d7c509993b')\"\n",
              "                title=\"Suggest charts\"\n",
              "                style=\"display:none;\">\n",
              "\n",
              "<svg xmlns=\"http://www.w3.org/2000/svg\" height=\"24px\"viewBox=\"0 0 24 24\"\n",
              "     width=\"24px\">\n",
              "    <g>\n",
              "        <path d=\"M19 3H5c-1.1 0-2 .9-2 2v14c0 1.1.9 2 2 2h14c1.1 0 2-.9 2-2V5c0-1.1-.9-2-2-2zM9 17H7v-7h2v7zm4 0h-2V7h2v10zm4 0h-2v-4h2v4z\"/>\n",
              "    </g>\n",
              "</svg>\n",
              "      </button>\n",
              "\n",
              "<style>\n",
              "  .colab-df-quickchart {\n",
              "      --bg-color: #E8F0FE;\n",
              "      --fill-color: #1967D2;\n",
              "      --hover-bg-color: #E2EBFA;\n",
              "      --hover-fill-color: #174EA6;\n",
              "      --disabled-fill-color: #AAA;\n",
              "      --disabled-bg-color: #DDD;\n",
              "  }\n",
              "\n",
              "  [theme=dark] .colab-df-quickchart {\n",
              "      --bg-color: #3B4455;\n",
              "      --fill-color: #D2E3FC;\n",
              "      --hover-bg-color: #434B5C;\n",
              "      --hover-fill-color: #FFFFFF;\n",
              "      --disabled-bg-color: #3B4455;\n",
              "      --disabled-fill-color: #666;\n",
              "  }\n",
              "\n",
              "  .colab-df-quickchart {\n",
              "    background-color: var(--bg-color);\n",
              "    border: none;\n",
              "    border-radius: 50%;\n",
              "    cursor: pointer;\n",
              "    display: none;\n",
              "    fill: var(--fill-color);\n",
              "    height: 32px;\n",
              "    padding: 0;\n",
              "    width: 32px;\n",
              "  }\n",
              "\n",
              "  .colab-df-quickchart:hover {\n",
              "    background-color: var(--hover-bg-color);\n",
              "    box-shadow: 0 1px 2px rgba(60, 64, 67, 0.3), 0 1px 3px 1px rgba(60, 64, 67, 0.15);\n",
              "    fill: var(--button-hover-fill-color);\n",
              "  }\n",
              "\n",
              "  .colab-df-quickchart-complete:disabled,\n",
              "  .colab-df-quickchart-complete:disabled:hover {\n",
              "    background-color: var(--disabled-bg-color);\n",
              "    fill: var(--disabled-fill-color);\n",
              "    box-shadow: none;\n",
              "  }\n",
              "\n",
              "  .colab-df-spinner {\n",
              "    border: 2px solid var(--fill-color);\n",
              "    border-color: transparent;\n",
              "    border-bottom-color: var(--fill-color);\n",
              "    animation:\n",
              "      spin 1s steps(1) infinite;\n",
              "  }\n",
              "\n",
              "  @keyframes spin {\n",
              "    0% {\n",
              "      border-color: transparent;\n",
              "      border-bottom-color: var(--fill-color);\n",
              "      border-left-color: var(--fill-color);\n",
              "    }\n",
              "    20% {\n",
              "      border-color: transparent;\n",
              "      border-left-color: var(--fill-color);\n",
              "      border-top-color: var(--fill-color);\n",
              "    }\n",
              "    30% {\n",
              "      border-color: transparent;\n",
              "      border-left-color: var(--fill-color);\n",
              "      border-top-color: var(--fill-color);\n",
              "      border-right-color: var(--fill-color);\n",
              "    }\n",
              "    40% {\n",
              "      border-color: transparent;\n",
              "      border-right-color: var(--fill-color);\n",
              "      border-top-color: var(--fill-color);\n",
              "    }\n",
              "    60% {\n",
              "      border-color: transparent;\n",
              "      border-right-color: var(--fill-color);\n",
              "    }\n",
              "    80% {\n",
              "      border-color: transparent;\n",
              "      border-right-color: var(--fill-color);\n",
              "      border-bottom-color: var(--fill-color);\n",
              "    }\n",
              "    90% {\n",
              "      border-color: transparent;\n",
              "      border-bottom-color: var(--fill-color);\n",
              "    }\n",
              "  }\n",
              "</style>\n",
              "\n",
              "      <script>\n",
              "        async function quickchart(key) {\n",
              "          const quickchartButtonEl =\n",
              "            document.querySelector('#' + key + ' button');\n",
              "          quickchartButtonEl.disabled = true;  // To prevent multiple clicks.\n",
              "          quickchartButtonEl.classList.add('colab-df-spinner');\n",
              "          try {\n",
              "            const charts = await google.colab.kernel.invokeFunction(\n",
              "                'suggestCharts', [key], {});\n",
              "          } catch (error) {\n",
              "            console.error('Error during call to suggestCharts:', error);\n",
              "          }\n",
              "          quickchartButtonEl.classList.remove('colab-df-spinner');\n",
              "          quickchartButtonEl.classList.add('colab-df-quickchart-complete');\n",
              "        }\n",
              "        (() => {\n",
              "          let quickchartButtonEl =\n",
              "            document.querySelector('#df-635ad0c6-d890-48e5-96ca-b8d7c509993b button');\n",
              "          quickchartButtonEl.style.display =\n",
              "            google.colab.kernel.accessAllowed ? 'block' : 'none';\n",
              "        })();\n",
              "      </script>\n",
              "    </div>\n",
              "\n",
              "    </div>\n",
              "  </div>\n"
            ],
            "application/vnd.google.colaboratory.intrinsic+json": {
              "type": "dataframe",
              "summary": "{\n  \"name\": \"data_xcoff\",\n  \"rows\": 2,\n  \"fields\": [\n    {\n      \"column\": \"Energy [keV]\",\n      \"properties\": {\n        \"dtype\": \"number\",\n        \"std\": 112.61665439889423,\n        \"min\": 1173.228,\n        \"max\": 1332.492,\n        \"num_unique_values\": 2,\n        \"samples\": [\n          1332.492,\n          1173.228\n        ],\n        \"semantic_type\": \"\",\n        \"description\": \"\"\n      }\n    },\n    {\n      \"column\": \"BR %\",\n      \"properties\": {\n        \"dtype\": \"number\",\n        \"std\": 0.09376235918534377,\n        \"min\": 99.85,\n        \"max\": 99.9826,\n        \"num_unique_values\": 2,\n        \"samples\": [\n          99.9826,\n          99.85\n        ],\n        \"semantic_type\": \"\",\n        \"description\": \"\"\n      }\n    },\n    {\n      \"column\": \"BR err %\",\n      \"properties\": {\n        \"dtype\": \"number\",\n        \"std\": 0.020788939366884498,\n        \"min\": 0.0006,\n        \"max\": 0.03,\n        \"num_unique_values\": 2,\n        \"samples\": [\n          0.0006,\n          0.03\n        ],\n        \"semantic_type\": \"\",\n        \"description\": \"\"\n      }\n    },\n    {\n      \"column\": \"Act [Bq]\",\n      \"properties\": {\n        \"dtype\": \"number\",\n        \"std\": 185.5732000846618,\n        \"min\": 18906.6393649336,\n        \"max\": 19169.079501306303,\n        \"num_unique_values\": 2,\n        \"samples\": [\n          19169.079501306303,\n          18906.6393649336\n        ],\n        \"semantic_type\": \"\",\n        \"description\": \"\"\n      }\n    },\n    {\n      \"column\": \"Error Act [Bq]\",\n      \"properties\": {\n        \"dtype\": \"number\",\n        \"std\": 26.415206336660418,\n        \"min\": 306.3778817478641,\n        \"max\": 343.73462480205296,\n        \"num_unique_values\": 2,\n        \"samples\": [\n          343.73462480205296,\n          306.3778817478641\n        ],\n        \"semantic_type\": \"\",\n        \"description\": \"\"\n      }\n    },\n    {\n      \"column\": \"Diff Tab %\",\n      \"properties\": {\n        \"dtype\": \"number\",\n        \"std\": 0.9743607683430573,\n        \"min\": 3.4105428687941974,\n        \"max\": 4.7884970820292185,\n        \"num_unique_values\": 2,\n        \"samples\": [\n          4.7884970820292185,\n          3.4105428687941974\n        ],\n        \"semantic_type\": \"\",\n        \"description\": \"\"\n      }\n    }\n  ]\n}"
            }
          },
          "metadata": {},
          "execution_count": 182
        }
      ]
    },
    {
      "cell_type": "code",
      "source": [
        "data_xcoff.data_act_Cs"
      ],
      "metadata": {
        "colab": {
          "base_uri": "https://localhost:8080/",
          "height": 81
        },
        "id": "dUQBOcpLsWPS",
        "outputId": "a66005dd-de9f-443b-ea32-6f8bcda833bc"
      },
      "execution_count": 181,
      "outputs": [
        {
          "output_type": "execute_result",
          "data": {
            "text/plain": [
              "   Energy [keV]  BR %  BR err %      Act [Bq]  Error Act [Bq]  Diff Tab %\n",
              "0       661.657  85.1       0.2  25413.933416      325.435201    0.440549"
            ],
            "text/html": [
              "\n",
              "  <div id=\"df-273e395e-b8b6-4a65-86be-47ae46e4613f\" class=\"colab-df-container\">\n",
              "    <div>\n",
              "<style scoped>\n",
              "    .dataframe tbody tr th:only-of-type {\n",
              "        vertical-align: middle;\n",
              "    }\n",
              "\n",
              "    .dataframe tbody tr th {\n",
              "        vertical-align: top;\n",
              "    }\n",
              "\n",
              "    .dataframe thead th {\n",
              "        text-align: right;\n",
              "    }\n",
              "</style>\n",
              "<table border=\"1\" class=\"dataframe\">\n",
              "  <thead>\n",
              "    <tr style=\"text-align: right;\">\n",
              "      <th></th>\n",
              "      <th>Energy [keV]</th>\n",
              "      <th>BR %</th>\n",
              "      <th>BR err %</th>\n",
              "      <th>Act [Bq]</th>\n",
              "      <th>Error Act [Bq]</th>\n",
              "      <th>Diff Tab %</th>\n",
              "    </tr>\n",
              "  </thead>\n",
              "  <tbody>\n",
              "    <tr>\n",
              "      <th>0</th>\n",
              "      <td>661.657</td>\n",
              "      <td>85.1</td>\n",
              "      <td>0.2</td>\n",
              "      <td>25413.933416</td>\n",
              "      <td>325.435201</td>\n",
              "      <td>0.440549</td>\n",
              "    </tr>\n",
              "  </tbody>\n",
              "</table>\n",
              "</div>\n",
              "    <div class=\"colab-df-buttons\">\n",
              "\n",
              "  <div class=\"colab-df-container\">\n",
              "    <button class=\"colab-df-convert\" onclick=\"convertToInteractive('df-273e395e-b8b6-4a65-86be-47ae46e4613f')\"\n",
              "            title=\"Convert this dataframe to an interactive table.\"\n",
              "            style=\"display:none;\">\n",
              "\n",
              "  <svg xmlns=\"http://www.w3.org/2000/svg\" height=\"24px\" viewBox=\"0 -960 960 960\">\n",
              "    <path d=\"M120-120v-720h720v720H120Zm60-500h600v-160H180v160Zm220 220h160v-160H400v160Zm0 220h160v-160H400v160ZM180-400h160v-160H180v160Zm440 0h160v-160H620v160ZM180-180h160v-160H180v160Zm440 0h160v-160H620v160Z\"/>\n",
              "  </svg>\n",
              "    </button>\n",
              "\n",
              "  <style>\n",
              "    .colab-df-container {\n",
              "      display:flex;\n",
              "      gap: 12px;\n",
              "    }\n",
              "\n",
              "    .colab-df-convert {\n",
              "      background-color: #E8F0FE;\n",
              "      border: none;\n",
              "      border-radius: 50%;\n",
              "      cursor: pointer;\n",
              "      display: none;\n",
              "      fill: #1967D2;\n",
              "      height: 32px;\n",
              "      padding: 0 0 0 0;\n",
              "      width: 32px;\n",
              "    }\n",
              "\n",
              "    .colab-df-convert:hover {\n",
              "      background-color: #E2EBFA;\n",
              "      box-shadow: 0px 1px 2px rgba(60, 64, 67, 0.3), 0px 1px 3px 1px rgba(60, 64, 67, 0.15);\n",
              "      fill: #174EA6;\n",
              "    }\n",
              "\n",
              "    .colab-df-buttons div {\n",
              "      margin-bottom: 4px;\n",
              "    }\n",
              "\n",
              "    [theme=dark] .colab-df-convert {\n",
              "      background-color: #3B4455;\n",
              "      fill: #D2E3FC;\n",
              "    }\n",
              "\n",
              "    [theme=dark] .colab-df-convert:hover {\n",
              "      background-color: #434B5C;\n",
              "      box-shadow: 0px 1px 3px 1px rgba(0, 0, 0, 0.15);\n",
              "      filter: drop-shadow(0px 1px 2px rgba(0, 0, 0, 0.3));\n",
              "      fill: #FFFFFF;\n",
              "    }\n",
              "  </style>\n",
              "\n",
              "    <script>\n",
              "      const buttonEl =\n",
              "        document.querySelector('#df-273e395e-b8b6-4a65-86be-47ae46e4613f button.colab-df-convert');\n",
              "      buttonEl.style.display =\n",
              "        google.colab.kernel.accessAllowed ? 'block' : 'none';\n",
              "\n",
              "      async function convertToInteractive(key) {\n",
              "        const element = document.querySelector('#df-273e395e-b8b6-4a65-86be-47ae46e4613f');\n",
              "        const dataTable =\n",
              "          await google.colab.kernel.invokeFunction('convertToInteractive',\n",
              "                                                    [key], {});\n",
              "        if (!dataTable) return;\n",
              "\n",
              "        const docLinkHtml = 'Like what you see? Visit the ' +\n",
              "          '<a target=\"_blank\" href=https://colab.research.google.com/notebooks/data_table.ipynb>data table notebook</a>'\n",
              "          + ' to learn more about interactive tables.';\n",
              "        element.innerHTML = '';\n",
              "        dataTable['output_type'] = 'display_data';\n",
              "        await google.colab.output.renderOutput(dataTable, element);\n",
              "        const docLink = document.createElement('div');\n",
              "        docLink.innerHTML = docLinkHtml;\n",
              "        element.appendChild(docLink);\n",
              "      }\n",
              "    </script>\n",
              "  </div>\n",
              "\n",
              "\n",
              "    </div>\n",
              "  </div>\n"
            ],
            "application/vnd.google.colaboratory.intrinsic+json": {
              "type": "dataframe",
              "summary": "{\n  \"name\": \"data_xcoff\",\n  \"rows\": 1,\n  \"fields\": [\n    {\n      \"column\": \"Energy [keV]\",\n      \"properties\": {\n        \"dtype\": \"number\",\n        \"std\": null,\n        \"min\": 661.657,\n        \"max\": 661.657,\n        \"num_unique_values\": 1,\n        \"samples\": [\n          661.657\n        ],\n        \"semantic_type\": \"\",\n        \"description\": \"\"\n      }\n    },\n    {\n      \"column\": \"BR %\",\n      \"properties\": {\n        \"dtype\": \"number\",\n        \"std\": null,\n        \"min\": 85.1,\n        \"max\": 85.1,\n        \"num_unique_values\": 1,\n        \"samples\": [\n          85.1\n        ],\n        \"semantic_type\": \"\",\n        \"description\": \"\"\n      }\n    },\n    {\n      \"column\": \"BR err %\",\n      \"properties\": {\n        \"dtype\": \"number\",\n        \"std\": null,\n        \"min\": 0.2,\n        \"max\": 0.2,\n        \"num_unique_values\": 1,\n        \"samples\": [\n          0.2\n        ],\n        \"semantic_type\": \"\",\n        \"description\": \"\"\n      }\n    },\n    {\n      \"column\": \"Act [Bq]\",\n      \"properties\": {\n        \"dtype\": \"number\",\n        \"std\": null,\n        \"min\": 25413.933416160173,\n        \"max\": 25413.933416160173,\n        \"num_unique_values\": 1,\n        \"samples\": [\n          25413.933416160173\n        ],\n        \"semantic_type\": \"\",\n        \"description\": \"\"\n      }\n    },\n    {\n      \"column\": \"Error Act [Bq]\",\n      \"properties\": {\n        \"dtype\": \"number\",\n        \"std\": null,\n        \"min\": 325.4352006185973,\n        \"max\": 325.4352006185973,\n        \"num_unique_values\": 1,\n        \"samples\": [\n          325.4352006185973\n        ],\n        \"semantic_type\": \"\",\n        \"description\": \"\"\n      }\n    },\n    {\n      \"column\": \"Diff Tab %\",\n      \"properties\": {\n        \"dtype\": \"number\",\n        \"std\": null,\n        \"min\": 0.4405488262647482,\n        \"max\": 0.4405488262647482,\n        \"num_unique_values\": 1,\n        \"samples\": [\n          0.4405488262647482\n        ],\n        \"semantic_type\": \"\",\n        \"description\": \"\"\n      }\n    }\n  ]\n}"
            }
          },
          "metadata": {},
          "execution_count": 181
        }
      ]
    },
    {
      "cell_type": "code",
      "source": [
        "data_dfon.fit_eff(grado = 1, graph = True)"
      ],
      "metadata": {
        "id": "aWng96pDr7LD"
      },
      "execution_count": null,
      "outputs": []
    },
    {
      "cell_type": "code",
      "source": [
        "data_dfon.eff_goodness"
      ],
      "metadata": {
        "colab": {
          "base_uri": "https://localhost:8080/",
          "height": 175
        },
        "outputId": "c0ebd2d6-51d5-4682-8584-38cb62c43000",
        "id": "iTdgHzEWrRG4"
      },
      "execution_count": null,
      "outputs": [
        {
          "output_type": "execute_result",
          "data": {
            "text/plain": [
              "         goodness of fit\n",
              "chi^2           0.664459\n",
              "p-value         0.999610\n",
              "ddof            8.000000\n",
              "R^2             0.999539"
            ],
            "text/html": [
              "\n",
              "  <div id=\"df-8bfa9379-689a-4de2-b402-38617ff41698\" class=\"colab-df-container\">\n",
              "    <div>\n",
              "<style scoped>\n",
              "    .dataframe tbody tr th:only-of-type {\n",
              "        vertical-align: middle;\n",
              "    }\n",
              "\n",
              "    .dataframe tbody tr th {\n",
              "        vertical-align: top;\n",
              "    }\n",
              "\n",
              "    .dataframe thead th {\n",
              "        text-align: right;\n",
              "    }\n",
              "</style>\n",
              "<table border=\"1\" class=\"dataframe\">\n",
              "  <thead>\n",
              "    <tr style=\"text-align: right;\">\n",
              "      <th></th>\n",
              "      <th>goodness of fit</th>\n",
              "    </tr>\n",
              "  </thead>\n",
              "  <tbody>\n",
              "    <tr>\n",
              "      <th>chi^2</th>\n",
              "      <td>0.664459</td>\n",
              "    </tr>\n",
              "    <tr>\n",
              "      <th>p-value</th>\n",
              "      <td>0.999610</td>\n",
              "    </tr>\n",
              "    <tr>\n",
              "      <th>ddof</th>\n",
              "      <td>8.000000</td>\n",
              "    </tr>\n",
              "    <tr>\n",
              "      <th>R^2</th>\n",
              "      <td>0.999539</td>\n",
              "    </tr>\n",
              "  </tbody>\n",
              "</table>\n",
              "</div>\n",
              "    <div class=\"colab-df-buttons\">\n",
              "\n",
              "  <div class=\"colab-df-container\">\n",
              "    <button class=\"colab-df-convert\" onclick=\"convertToInteractive('df-8bfa9379-689a-4de2-b402-38617ff41698')\"\n",
              "            title=\"Convert this dataframe to an interactive table.\"\n",
              "            style=\"display:none;\">\n",
              "\n",
              "  <svg xmlns=\"http://www.w3.org/2000/svg\" height=\"24px\" viewBox=\"0 -960 960 960\">\n",
              "    <path d=\"M120-120v-720h720v720H120Zm60-500h600v-160H180v160Zm220 220h160v-160H400v160Zm0 220h160v-160H400v160ZM180-400h160v-160H180v160Zm440 0h160v-160H620v160ZM180-180h160v-160H180v160Zm440 0h160v-160H620v160Z\"/>\n",
              "  </svg>\n",
              "    </button>\n",
              "\n",
              "  <style>\n",
              "    .colab-df-container {\n",
              "      display:flex;\n",
              "      gap: 12px;\n",
              "    }\n",
              "\n",
              "    .colab-df-convert {\n",
              "      background-color: #E8F0FE;\n",
              "      border: none;\n",
              "      border-radius: 50%;\n",
              "      cursor: pointer;\n",
              "      display: none;\n",
              "      fill: #1967D2;\n",
              "      height: 32px;\n",
              "      padding: 0 0 0 0;\n",
              "      width: 32px;\n",
              "    }\n",
              "\n",
              "    .colab-df-convert:hover {\n",
              "      background-color: #E2EBFA;\n",
              "      box-shadow: 0px 1px 2px rgba(60, 64, 67, 0.3), 0px 1px 3px 1px rgba(60, 64, 67, 0.15);\n",
              "      fill: #174EA6;\n",
              "    }\n",
              "\n",
              "    .colab-df-buttons div {\n",
              "      margin-bottom: 4px;\n",
              "    }\n",
              "\n",
              "    [theme=dark] .colab-df-convert {\n",
              "      background-color: #3B4455;\n",
              "      fill: #D2E3FC;\n",
              "    }\n",
              "\n",
              "    [theme=dark] .colab-df-convert:hover {\n",
              "      background-color: #434B5C;\n",
              "      box-shadow: 0px 1px 3px 1px rgba(0, 0, 0, 0.15);\n",
              "      filter: drop-shadow(0px 1px 2px rgba(0, 0, 0, 0.3));\n",
              "      fill: #FFFFFF;\n",
              "    }\n",
              "  </style>\n",
              "\n",
              "    <script>\n",
              "      const buttonEl =\n",
              "        document.querySelector('#df-8bfa9379-689a-4de2-b402-38617ff41698 button.colab-df-convert');\n",
              "      buttonEl.style.display =\n",
              "        google.colab.kernel.accessAllowed ? 'block' : 'none';\n",
              "\n",
              "      async function convertToInteractive(key) {\n",
              "        const element = document.querySelector('#df-8bfa9379-689a-4de2-b402-38617ff41698');\n",
              "        const dataTable =\n",
              "          await google.colab.kernel.invokeFunction('convertToInteractive',\n",
              "                                                    [key], {});\n",
              "        if (!dataTable) return;\n",
              "\n",
              "        const docLinkHtml = 'Like what you see? Visit the ' +\n",
              "          '<a target=\"_blank\" href=https://colab.research.google.com/notebooks/data_table.ipynb>data table notebook</a>'\n",
              "          + ' to learn more about interactive tables.';\n",
              "        element.innerHTML = '';\n",
              "        dataTable['output_type'] = 'display_data';\n",
              "        await google.colab.output.renderOutput(dataTable, element);\n",
              "        const docLink = document.createElement('div');\n",
              "        docLink.innerHTML = docLinkHtml;\n",
              "        element.appendChild(docLink);\n",
              "      }\n",
              "    </script>\n",
              "  </div>\n",
              "\n",
              "\n",
              "    <div id=\"df-6116e064-deab-49ed-8b3f-ae668eca6050\">\n",
              "      <button class=\"colab-df-quickchart\" onclick=\"quickchart('df-6116e064-deab-49ed-8b3f-ae668eca6050')\"\n",
              "                title=\"Suggest charts\"\n",
              "                style=\"display:none;\">\n",
              "\n",
              "<svg xmlns=\"http://www.w3.org/2000/svg\" height=\"24px\"viewBox=\"0 0 24 24\"\n",
              "     width=\"24px\">\n",
              "    <g>\n",
              "        <path d=\"M19 3H5c-1.1 0-2 .9-2 2v14c0 1.1.9 2 2 2h14c1.1 0 2-.9 2-2V5c0-1.1-.9-2-2-2zM9 17H7v-7h2v7zm4 0h-2V7h2v10zm4 0h-2v-4h2v4z\"/>\n",
              "    </g>\n",
              "</svg>\n",
              "      </button>\n",
              "\n",
              "<style>\n",
              "  .colab-df-quickchart {\n",
              "      --bg-color: #E8F0FE;\n",
              "      --fill-color: #1967D2;\n",
              "      --hover-bg-color: #E2EBFA;\n",
              "      --hover-fill-color: #174EA6;\n",
              "      --disabled-fill-color: #AAA;\n",
              "      --disabled-bg-color: #DDD;\n",
              "  }\n",
              "\n",
              "  [theme=dark] .colab-df-quickchart {\n",
              "      --bg-color: #3B4455;\n",
              "      --fill-color: #D2E3FC;\n",
              "      --hover-bg-color: #434B5C;\n",
              "      --hover-fill-color: #FFFFFF;\n",
              "      --disabled-bg-color: #3B4455;\n",
              "      --disabled-fill-color: #666;\n",
              "  }\n",
              "\n",
              "  .colab-df-quickchart {\n",
              "    background-color: var(--bg-color);\n",
              "    border: none;\n",
              "    border-radius: 50%;\n",
              "    cursor: pointer;\n",
              "    display: none;\n",
              "    fill: var(--fill-color);\n",
              "    height: 32px;\n",
              "    padding: 0;\n",
              "    width: 32px;\n",
              "  }\n",
              "\n",
              "  .colab-df-quickchart:hover {\n",
              "    background-color: var(--hover-bg-color);\n",
              "    box-shadow: 0 1px 2px rgba(60, 64, 67, 0.3), 0 1px 3px 1px rgba(60, 64, 67, 0.15);\n",
              "    fill: var(--button-hover-fill-color);\n",
              "  }\n",
              "\n",
              "  .colab-df-quickchart-complete:disabled,\n",
              "  .colab-df-quickchart-complete:disabled:hover {\n",
              "    background-color: var(--disabled-bg-color);\n",
              "    fill: var(--disabled-fill-color);\n",
              "    box-shadow: none;\n",
              "  }\n",
              "\n",
              "  .colab-df-spinner {\n",
              "    border: 2px solid var(--fill-color);\n",
              "    border-color: transparent;\n",
              "    border-bottom-color: var(--fill-color);\n",
              "    animation:\n",
              "      spin 1s steps(1) infinite;\n",
              "  }\n",
              "\n",
              "  @keyframes spin {\n",
              "    0% {\n",
              "      border-color: transparent;\n",
              "      border-bottom-color: var(--fill-color);\n",
              "      border-left-color: var(--fill-color);\n",
              "    }\n",
              "    20% {\n",
              "      border-color: transparent;\n",
              "      border-left-color: var(--fill-color);\n",
              "      border-top-color: var(--fill-color);\n",
              "    }\n",
              "    30% {\n",
              "      border-color: transparent;\n",
              "      border-left-color: var(--fill-color);\n",
              "      border-top-color: var(--fill-color);\n",
              "      border-right-color: var(--fill-color);\n",
              "    }\n",
              "    40% {\n",
              "      border-color: transparent;\n",
              "      border-right-color: var(--fill-color);\n",
              "      border-top-color: var(--fill-color);\n",
              "    }\n",
              "    60% {\n",
              "      border-color: transparent;\n",
              "      border-right-color: var(--fill-color);\n",
              "    }\n",
              "    80% {\n",
              "      border-color: transparent;\n",
              "      border-right-color: var(--fill-color);\n",
              "      border-bottom-color: var(--fill-color);\n",
              "    }\n",
              "    90% {\n",
              "      border-color: transparent;\n",
              "      border-bottom-color: var(--fill-color);\n",
              "    }\n",
              "  }\n",
              "</style>\n",
              "\n",
              "      <script>\n",
              "        async function quickchart(key) {\n",
              "          const quickchartButtonEl =\n",
              "            document.querySelector('#' + key + ' button');\n",
              "          quickchartButtonEl.disabled = true;  // To prevent multiple clicks.\n",
              "          quickchartButtonEl.classList.add('colab-df-spinner');\n",
              "          try {\n",
              "            const charts = await google.colab.kernel.invokeFunction(\n",
              "                'suggestCharts', [key], {});\n",
              "          } catch (error) {\n",
              "            console.error('Error during call to suggestCharts:', error);\n",
              "          }\n",
              "          quickchartButtonEl.classList.remove('colab-df-spinner');\n",
              "          quickchartButtonEl.classList.add('colab-df-quickchart-complete');\n",
              "        }\n",
              "        (() => {\n",
              "          let quickchartButtonEl =\n",
              "            document.querySelector('#df-6116e064-deab-49ed-8b3f-ae668eca6050 button');\n",
              "          quickchartButtonEl.style.display =\n",
              "            google.colab.kernel.accessAllowed ? 'block' : 'none';\n",
              "        })();\n",
              "      </script>\n",
              "    </div>\n",
              "\n",
              "    </div>\n",
              "  </div>\n"
            ],
            "application/vnd.google.colaboratory.intrinsic+json": {
              "type": "dataframe",
              "summary": "{\n  \"name\": \"data_dfon\",\n  \"rows\": 4,\n  \"fields\": [\n    {\n      \"column\": \"goodness of fit\",\n      \"properties\": {\n        \"dtype\": \"number\",\n        \"std\": 3.559572460778105,\n        \"min\": 0.6644594820812818,\n        \"max\": 8.0,\n        \"num_unique_values\": 4,\n        \"samples\": [\n          0.9996102682922615,\n          0.9995387294928295,\n          0.6644594820812818\n        ],\n        \"semantic_type\": \"\",\n        \"description\": \"\"\n      }\n    }\n  ]\n}"
            }
          },
          "metadata": {},
          "execution_count": 172
        }
      ]
    },
    {
      "cell_type": "code",
      "source": [
        "print('Coeficientes: \\n')\n",
        "pd.DataFrame(data_dfon.eff_coef_tabla, columns = ['mean', 'error'], index = ['a1', 'a0'])"
      ],
      "metadata": {
        "colab": {
          "base_uri": "https://localhost:8080/",
          "height": 148
        },
        "outputId": "06c3e957-c2f4-4f21-8da8-e99561178bd3",
        "id": "nhwWpi_QrRG5"
      },
      "execution_count": null,
      "outputs": [
        {
          "output_type": "stream",
          "name": "stdout",
          "text": [
            "Coeficientes: \n",
            "\n"
          ]
        },
        {
          "output_type": "execute_result",
          "data": {
            "text/plain": [
              "        mean     error\n",
              "a1 -0.719737  0.018122\n",
              "a0 -1.152505  0.121206"
            ],
            "text/html": [
              "\n",
              "  <div id=\"df-71a919ba-64dc-4c45-810d-d0fe26ef43a0\" class=\"colab-df-container\">\n",
              "    <div>\n",
              "<style scoped>\n",
              "    .dataframe tbody tr th:only-of-type {\n",
              "        vertical-align: middle;\n",
              "    }\n",
              "\n",
              "    .dataframe tbody tr th {\n",
              "        vertical-align: top;\n",
              "    }\n",
              "\n",
              "    .dataframe thead th {\n",
              "        text-align: right;\n",
              "    }\n",
              "</style>\n",
              "<table border=\"1\" class=\"dataframe\">\n",
              "  <thead>\n",
              "    <tr style=\"text-align: right;\">\n",
              "      <th></th>\n",
              "      <th>mean</th>\n",
              "      <th>error</th>\n",
              "    </tr>\n",
              "  </thead>\n",
              "  <tbody>\n",
              "    <tr>\n",
              "      <th>a1</th>\n",
              "      <td>-0.719737</td>\n",
              "      <td>0.018122</td>\n",
              "    </tr>\n",
              "    <tr>\n",
              "      <th>a0</th>\n",
              "      <td>-1.152505</td>\n",
              "      <td>0.121206</td>\n",
              "    </tr>\n",
              "  </tbody>\n",
              "</table>\n",
              "</div>\n",
              "    <div class=\"colab-df-buttons\">\n",
              "\n",
              "  <div class=\"colab-df-container\">\n",
              "    <button class=\"colab-df-convert\" onclick=\"convertToInteractive('df-71a919ba-64dc-4c45-810d-d0fe26ef43a0')\"\n",
              "            title=\"Convert this dataframe to an interactive table.\"\n",
              "            style=\"display:none;\">\n",
              "\n",
              "  <svg xmlns=\"http://www.w3.org/2000/svg\" height=\"24px\" viewBox=\"0 -960 960 960\">\n",
              "    <path d=\"M120-120v-720h720v720H120Zm60-500h600v-160H180v160Zm220 220h160v-160H400v160Zm0 220h160v-160H400v160ZM180-400h160v-160H180v160Zm440 0h160v-160H620v160ZM180-180h160v-160H180v160Zm440 0h160v-160H620v160Z\"/>\n",
              "  </svg>\n",
              "    </button>\n",
              "\n",
              "  <style>\n",
              "    .colab-df-container {\n",
              "      display:flex;\n",
              "      gap: 12px;\n",
              "    }\n",
              "\n",
              "    .colab-df-convert {\n",
              "      background-color: #E8F0FE;\n",
              "      border: none;\n",
              "      border-radius: 50%;\n",
              "      cursor: pointer;\n",
              "      display: none;\n",
              "      fill: #1967D2;\n",
              "      height: 32px;\n",
              "      padding: 0 0 0 0;\n",
              "      width: 32px;\n",
              "    }\n",
              "\n",
              "    .colab-df-convert:hover {\n",
              "      background-color: #E2EBFA;\n",
              "      box-shadow: 0px 1px 2px rgba(60, 64, 67, 0.3), 0px 1px 3px 1px rgba(60, 64, 67, 0.15);\n",
              "      fill: #174EA6;\n",
              "    }\n",
              "\n",
              "    .colab-df-buttons div {\n",
              "      margin-bottom: 4px;\n",
              "    }\n",
              "\n",
              "    [theme=dark] .colab-df-convert {\n",
              "      background-color: #3B4455;\n",
              "      fill: #D2E3FC;\n",
              "    }\n",
              "\n",
              "    [theme=dark] .colab-df-convert:hover {\n",
              "      background-color: #434B5C;\n",
              "      box-shadow: 0px 1px 3px 1px rgba(0, 0, 0, 0.15);\n",
              "      filter: drop-shadow(0px 1px 2px rgba(0, 0, 0, 0.3));\n",
              "      fill: #FFFFFF;\n",
              "    }\n",
              "  </style>\n",
              "\n",
              "    <script>\n",
              "      const buttonEl =\n",
              "        document.querySelector('#df-71a919ba-64dc-4c45-810d-d0fe26ef43a0 button.colab-df-convert');\n",
              "      buttonEl.style.display =\n",
              "        google.colab.kernel.accessAllowed ? 'block' : 'none';\n",
              "\n",
              "      async function convertToInteractive(key) {\n",
              "        const element = document.querySelector('#df-71a919ba-64dc-4c45-810d-d0fe26ef43a0');\n",
              "        const dataTable =\n",
              "          await google.colab.kernel.invokeFunction('convertToInteractive',\n",
              "                                                    [key], {});\n",
              "        if (!dataTable) return;\n",
              "\n",
              "        const docLinkHtml = 'Like what you see? Visit the ' +\n",
              "          '<a target=\"_blank\" href=https://colab.research.google.com/notebooks/data_table.ipynb>data table notebook</a>'\n",
              "          + ' to learn more about interactive tables.';\n",
              "        element.innerHTML = '';\n",
              "        dataTable['output_type'] = 'display_data';\n",
              "        await google.colab.output.renderOutput(dataTable, element);\n",
              "        const docLink = document.createElement('div');\n",
              "        docLink.innerHTML = docLinkHtml;\n",
              "        element.appendChild(docLink);\n",
              "      }\n",
              "    </script>\n",
              "  </div>\n",
              "\n",
              "\n",
              "    <div id=\"df-3d8c48ae-22c8-49dd-aafe-7096ea94b135\">\n",
              "      <button class=\"colab-df-quickchart\" onclick=\"quickchart('df-3d8c48ae-22c8-49dd-aafe-7096ea94b135')\"\n",
              "                title=\"Suggest charts\"\n",
              "                style=\"display:none;\">\n",
              "\n",
              "<svg xmlns=\"http://www.w3.org/2000/svg\" height=\"24px\"viewBox=\"0 0 24 24\"\n",
              "     width=\"24px\">\n",
              "    <g>\n",
              "        <path d=\"M19 3H5c-1.1 0-2 .9-2 2v14c0 1.1.9 2 2 2h14c1.1 0 2-.9 2-2V5c0-1.1-.9-2-2-2zM9 17H7v-7h2v7zm4 0h-2V7h2v10zm4 0h-2v-4h2v4z\"/>\n",
              "    </g>\n",
              "</svg>\n",
              "      </button>\n",
              "\n",
              "<style>\n",
              "  .colab-df-quickchart {\n",
              "      --bg-color: #E8F0FE;\n",
              "      --fill-color: #1967D2;\n",
              "      --hover-bg-color: #E2EBFA;\n",
              "      --hover-fill-color: #174EA6;\n",
              "      --disabled-fill-color: #AAA;\n",
              "      --disabled-bg-color: #DDD;\n",
              "  }\n",
              "\n",
              "  [theme=dark] .colab-df-quickchart {\n",
              "      --bg-color: #3B4455;\n",
              "      --fill-color: #D2E3FC;\n",
              "      --hover-bg-color: #434B5C;\n",
              "      --hover-fill-color: #FFFFFF;\n",
              "      --disabled-bg-color: #3B4455;\n",
              "      --disabled-fill-color: #666;\n",
              "  }\n",
              "\n",
              "  .colab-df-quickchart {\n",
              "    background-color: var(--bg-color);\n",
              "    border: none;\n",
              "    border-radius: 50%;\n",
              "    cursor: pointer;\n",
              "    display: none;\n",
              "    fill: var(--fill-color);\n",
              "    height: 32px;\n",
              "    padding: 0;\n",
              "    width: 32px;\n",
              "  }\n",
              "\n",
              "  .colab-df-quickchart:hover {\n",
              "    background-color: var(--hover-bg-color);\n",
              "    box-shadow: 0 1px 2px rgba(60, 64, 67, 0.3), 0 1px 3px 1px rgba(60, 64, 67, 0.15);\n",
              "    fill: var(--button-hover-fill-color);\n",
              "  }\n",
              "\n",
              "  .colab-df-quickchart-complete:disabled,\n",
              "  .colab-df-quickchart-complete:disabled:hover {\n",
              "    background-color: var(--disabled-bg-color);\n",
              "    fill: var(--disabled-fill-color);\n",
              "    box-shadow: none;\n",
              "  }\n",
              "\n",
              "  .colab-df-spinner {\n",
              "    border: 2px solid var(--fill-color);\n",
              "    border-color: transparent;\n",
              "    border-bottom-color: var(--fill-color);\n",
              "    animation:\n",
              "      spin 1s steps(1) infinite;\n",
              "  }\n",
              "\n",
              "  @keyframes spin {\n",
              "    0% {\n",
              "      border-color: transparent;\n",
              "      border-bottom-color: var(--fill-color);\n",
              "      border-left-color: var(--fill-color);\n",
              "    }\n",
              "    20% {\n",
              "      border-color: transparent;\n",
              "      border-left-color: var(--fill-color);\n",
              "      border-top-color: var(--fill-color);\n",
              "    }\n",
              "    30% {\n",
              "      border-color: transparent;\n",
              "      border-left-color: var(--fill-color);\n",
              "      border-top-color: var(--fill-color);\n",
              "      border-right-color: var(--fill-color);\n",
              "    }\n",
              "    40% {\n",
              "      border-color: transparent;\n",
              "      border-right-color: var(--fill-color);\n",
              "      border-top-color: var(--fill-color);\n",
              "    }\n",
              "    60% {\n",
              "      border-color: transparent;\n",
              "      border-right-color: var(--fill-color);\n",
              "    }\n",
              "    80% {\n",
              "      border-color: transparent;\n",
              "      border-right-color: var(--fill-color);\n",
              "      border-bottom-color: var(--fill-color);\n",
              "    }\n",
              "    90% {\n",
              "      border-color: transparent;\n",
              "      border-bottom-color: var(--fill-color);\n",
              "    }\n",
              "  }\n",
              "</style>\n",
              "\n",
              "      <script>\n",
              "        async function quickchart(key) {\n",
              "          const quickchartButtonEl =\n",
              "            document.querySelector('#' + key + ' button');\n",
              "          quickchartButtonEl.disabled = true;  // To prevent multiple clicks.\n",
              "          quickchartButtonEl.classList.add('colab-df-spinner');\n",
              "          try {\n",
              "            const charts = await google.colab.kernel.invokeFunction(\n",
              "                'suggestCharts', [key], {});\n",
              "          } catch (error) {\n",
              "            console.error('Error during call to suggestCharts:', error);\n",
              "          }\n",
              "          quickchartButtonEl.classList.remove('colab-df-spinner');\n",
              "          quickchartButtonEl.classList.add('colab-df-quickchart-complete');\n",
              "        }\n",
              "        (() => {\n",
              "          let quickchartButtonEl =\n",
              "            document.querySelector('#df-3d8c48ae-22c8-49dd-aafe-7096ea94b135 button');\n",
              "          quickchartButtonEl.style.display =\n",
              "            google.colab.kernel.accessAllowed ? 'block' : 'none';\n",
              "        })();\n",
              "      </script>\n",
              "    </div>\n",
              "\n",
              "    </div>\n",
              "  </div>\n"
            ],
            "application/vnd.google.colaboratory.intrinsic+json": {
              "type": "dataframe",
              "summary": "{\n  \"name\": \"pd\",\n  \"rows\": 2,\n  \"fields\": [\n    {\n      \"column\": \"mean\",\n      \"properties\": {\n        \"dtype\": \"number\",\n        \"std\": 0.3060131556333071,\n        \"min\": -1.1525047923099407,\n        \"max\": -0.7197368373487291,\n        \"num_unique_values\": 2,\n        \"samples\": [\n          -1.1525047923099407,\n          -0.7197368373487291\n        ],\n        \"semantic_type\": \"\",\n        \"description\": \"\"\n      }\n    },\n    {\n      \"column\": \"error\",\n      \"properties\": {\n        \"dtype\": \"number\",\n        \"std\": 0.07289130975042919,\n        \"min\": 0.018122158704212275,\n        \"max\": 0.12120603753240747,\n        \"num_unique_values\": 2,\n        \"samples\": [\n          0.12120603753240747,\n          0.018122158704212275\n        ],\n        \"semantic_type\": \"\",\n        \"description\": \"\"\n      }\n    }\n  ]\n}"
            }
          },
          "metadata": {},
          "execution_count": 173
        }
      ]
    },
    {
      "cell_type": "code",
      "source": [
        "print('Residuos:', data_dfon.eff_residuos)"
      ],
      "metadata": {
        "colab": {
          "base_uri": "https://localhost:8080/"
        },
        "outputId": "79a480f7-5a08-403b-94f2-67757c4e92d3",
        "id": "yrHJ5ZobrRG6"
      },
      "execution_count": null,
      "outputs": [
        {
          "output_type": "stream",
          "name": "stdout",
          "text": [
            "Residuos: [ 0.00125082  0.00136803 -0.01851287  0.01246663 -0.00292067 -0.01017598\n",
            "  0.00752224  0.00294121  0.00147175  0.00643907]\n"
          ]
        }
      ]
    },
    {
      "cell_type": "markdown",
      "source": [
        "##Espectros de hojuelas MnCu"
      ],
      "metadata": {
        "id": "8X0PIQlOUePk"
      }
    },
    {
      "cell_type": "markdown",
      "source": [
        "Empiezo iterando a partir de acá. Al finald el bloque anterior pueden encontrarse los coefs de eficiencia, y los\n",
        "\n",
        "\n"
      ],
      "metadata": {
        "id": "zE_zSMgnUePl"
      }
    },
    {
      "cell_type": "code",
      "source": [
        "#Composición del alambre\n",
        "Composition = {'55Mn': 0.8123, '63Cu': 0.1877}\n",
        "\n",
        "#Tiempo de irradiación total\n",
        "tirr = 16200 + 696\n",
        "\n",
        "#Defino la clase de alambre con sus métodos\n",
        "Alambres = act.Alambre(Composition, tirr)\n",
        "\n",
        "#Regiones de interés sacadas del espectro (GammaVision). El background es 3 puntos\n",
        "ROIs = {'56Mn': [1427, 1443]}#, '64Cu': [885, 903]}\n",
        "\n",
        "#Nombre del alambre y nro de medición\n",
        "alambre = 'Mn209'\n",
        "medno = 2"
      ],
      "metadata": {
        "id": "Vm02fW56UePm"
      },
      "execution_count": null,
      "outputs": []
    },
    {
      "cell_type": "markdown",
      "source": [
        "Tasa de fondo (cps_ROIs) en la ROI del pico de '56Mn' (*mat* en *ROIs*). Se lo agrega al dict de Fondos."
      ],
      "metadata": {
        "id": "0doNOXs4UePn"
      }
    },
    {
      "cell_type": "code",
      "source": [
        "#Obtengo info de los fondos en las ROIs de interés, y calculo sus tasas\n",
        "Fondo_ROIs[alambre] = {iso: Fondo.ROI(ROIs[iso]) for iso in ROIs}\n",
        "cps_ROIs = {mat:np.array([Fondo_ROIs[alambre][mat][xx] for xx in ['net', 'net_err']])/Fondo.tlive for mat in ROIs}\n",
        "\n",
        "#Corresponde al tiempo de fin de la irradiación\n",
        "t_inicio = datetime(2025, 6, 11, 14, 41, 36)\n",
        "\n",
        "#función para el path del espectro del alambre (Chequear fecha. En general funciona a menos que el job haya arrancado al día siguiente)\n",
        "path_job = lambda alambre, nro: f\"/content/drive/MyDrive/Colab Notebooks/ProyectoLINTatPromptGamma/2025-06-11_NAAPG_Beam/11.06.2025_PG_LINT/-txt/XC_{alambre}_3sep_rOFF_12.06.2025_med{nro}.txt\"\n"
      ],
      "metadata": {
        "id": "bk9TxnWqUePo"
      },
      "execution_count": null,
      "outputs": []
    },
    {
      "cell_type": "markdown",
      "source": [
        "Inicio nuevos parámetros para iniciar el cálculo de tasas del alambre."
      ],
      "metadata": {
        "id": "COkIzotJUePo"
      }
    },
    {
      "cell_type": "code",
      "source": [
        "#Nueva etiqueta para las mediciones de XC-OFF\n",
        "id_med = [mat+f'_med{medno}' for mat in ROIs]\n",
        "\n",
        "#Obtengo el espectro del alambre\n",
        "data = act.fromspec(path_job(alambre, medno), spec_cal.coef_en[::-1])\n",
        "\n",
        "#Intervalo desde que se dejó de irradiar hasta que se empezó a medir (td o tdelay)\n",
        "dt = (data.tinicio - t_inicio).total_seconds()\n",
        "\n",
        "#Señalo las regiones de interés en channels\n",
        "idx = np.array(list(ROIs.values())).reshape(-1)\n",
        "idx_roiMn = np.logical_and(data.channels> idx[0], data.channels<idx[1])\n",
        "\n",
        "##Si se quiere agregar el del Cu:\n",
        "#idx_roiCu = np.logical_and(data.channels> idx[2], data.channels< idx[3])"
      ],
      "metadata": {
        "id": "JiTs_0eQUePp"
      },
      "execution_count": null,
      "outputs": []
    },
    {
      "cell_type": "markdown",
      "source": [
        "Grafico el espectro cerca del pico de interés."
      ],
      "metadata": {
        "id": "t03EG7ScUePp"
      }
    },
    {
      "cell_type": "code",
      "source": [
        "#Figuras de espectros destacando las ROIs\n",
        "plt.figure()\n",
        "plt.plot(data.channels[min(idx)-100:max(idx)+100], data.counts[min(idx)-100:max(idx)+100])\n",
        "plt.plot(data.channels[idx_roiMn], data.counts[idx_roiMn], label = 'ROI_Mn')\n",
        "#plt.plot(data.channels[idx_roiCu], data.counts[idx_roiCu], label = 'ROI_Cu')\n",
        "plt.grid(True, ls='--')\n",
        "plt.xlabel('Channel')\n",
        "plt.ylabel('Counts')\n",
        "plt.legend()\n",
        "#plt.yscale('log')"
      ],
      "metadata": {
        "id": "bYxWDr-iUePq",
        "colab": {
          "base_uri": "https://localhost:8080/",
          "height": 467
        },
        "outputId": "f31adf89-f286-4096-d61b-f32d7879fdea"
      },
      "execution_count": null,
      "outputs": [
        {
          "output_type": "execute_result",
          "data": {
            "text/plain": [
              "<matplotlib.legend.Legend at 0x7b320bf65450>"
            ]
          },
          "metadata": {},
          "execution_count": 454
        },
        {
          "output_type": "display_data",
          "data": {
            "text/plain": [
              "<Figure size 640x480 with 1 Axes>"
            ],
            "image/png": "[encoded data removed]"
          },
          "metadata": {}
        }
      ]
    },
    {
      "cell_type": "markdown",
      "source": [
        "Cálculo a partir de las tasas y la eficiencia del HPGe."
      ],
      "metadata": {
        "id": "T8VdPOFbUePq"
      }
    },
    {
      "cell_type": "code",
      "source": [
        "#Cálculo de actividad a partir de sus tasas\n",
        "for mat, id in zip(ROIs, id_med):\n",
        "  data_ROI = data.ROI(ROIs[mat])\n",
        "  Net_cps, Err_cps = (data_ROI['net']/data.tlive - cps_ROIs[mat][0], np.sqrt((data_ROI['net_err']/data.tlive)**2 + cps_ROIs[mat][1]**2))\n",
        "  cps_Alambres[alambre][id] = [Net_cps, Err_cps]\n",
        "  Act_Alambres[alambre][id] = Alambres.Act_alambre(mat, np.array([data_ROI['en_max']]), np.array([Net_cps]), Err_cps, dt, data.treal, coef_tabla, rhos[0][0])[0]\n",
        "\n",
        "#También me guardo el td para cada medición, así como el tiempo muerto en porcentaje.\n",
        "dts[alambre] = dt\n",
        "tdead[alambre] = 100*(1 - data.tlive/data.treal)"
      ],
      "metadata": {
        "id": "eXlqYsr6UePr"
      },
      "execution_count": null,
      "outputs": []
    },
    {
      "cell_type": "code",
      "source": [
        "Act_Alambres"
      ],
      "metadata": {
        "id": "1I3lkmGlbRBO",
        "colab": {
          "base_uri": "https://localhost:8080/"
        },
        "outputId": "8575d493-f5ab-41c4-d84b-fff8a166d91b"
      },
      "execution_count": null,
      "outputs": [
        {
          "output_type": "execute_result",
          "data": {
            "text/plain": [
              "{'Mn209': {'56Mn_med1': array([76509.08196078,  1051.78368243]),\n",
              "  '56Mn_med2': array([78516.44758794,   970.03357247])}}"
            ]
          },
          "metadata": {},
          "execution_count": 456
        }
      ]
    },
    {
      "cell_type": "markdown",
      "source": [
        "## Todas las Eff. juntas"
      ],
      "metadata": {
        "id": "mhzuKO0aUePh"
      }
    },
    {
      "cell_type": "markdown",
      "source": [
        "En cada iteración, para los distintos *det*, me anoto los coeficientes que devuelve, junto con los datos para ajustar. Esto último resultará útil para volver a obtener la función *var_mu*, para propagar errores."
      ],
      "metadata": {
        "id": "-uzXYJkUUePi"
      }
    },
    {
      "cell_type": "code",
      "source": [
        "data_all = {'XC-OFF': np.array([[0.00535819, 0.0035099 , 0.00130789, 0.00114144, 0.00103678,\n",
        "       0.00086166, 0.00068793, 0.00162549, 0.00084879, 0.00073996], [1.64535220e-04, 1.08878750e-04, 4.08842089e-05, 3.92106096e-05,\n",
        "       3.21669832e-05, 2.70564795e-05, 2.12418135e-05, 4.93445304e-05,\n",
        "       4.92079614e-05, 4.92465919e-05]]).T,\n",
        "            'XC-ON': np.array([[0.00534794, 0.00351262, 0.00130545, 0.00113286, 0.00102448,\n",
        "        0.00087893, 0.00068957, 0.00160198, 0.00084564, 0.00073355], [1.65666521e-04, 1.09283381e-04, 4.14880987e-05, 4.15274852e-05,\n",
        "        3.24040914e-05, 2.82822615e-05, 2.16697848e-05, 4.99017641e-05,\n",
        "        5.03679057e-05, 5.05801497e-05]]).T,\n",
        "            'DF-ON': np.array([[0.00603711, 0.00472236, 0.00257234, 0.00245556, 0.00224097,\n",
        "        0.00200742, 0.00172414, 0.0029663 , 0.00178641, 0.00195768], [1.91846620e-04, 1.47712397e-04, 8.27197278e-05, 9.22735670e-05,\n",
        "        7.13592835e-05, 6.49690967e-05, 5.41984222e-05, 9.15019936e-05,\n",
        "        9.13692450e-05, 9.13195313e-05]]).T}"
      ],
      "metadata": {
        "id": "DCYWpXDoUePj"
      },
      "execution_count": null,
      "outputs": []
    },
    {
      "cell_type": "code",
      "source": [
        "coef_all = {'XC-OFF': np.array([[-1.18218793,  0.01904496], [ 1.25425229,  0.12568254]]),\n",
        "            'XC-ON': np.array([[-1.1798183 ,  0.01928542], [ 1.2369473 ,  0.12712041]]),\n",
        "            'DF-ON': np.array([[-0.72021827,  0.01917715], [-1.14959236,  0.12694148]])}\n"
      ],
      "metadata": {
        "id": "_q86lgqSUePj"
      },
      "execution_count": null,
      "outputs": []
    }
  ]
}